{
 "cells": [
  {
   "cell_type": "markdown",
   "id": "greater-conference",
   "metadata": {},
   "source": [
    "# Import packages"
   ]
  },
  {
   "cell_type": "code",
   "execution_count": 5,
   "id": "extreme-gossip",
   "metadata": {},
   "outputs": [],
   "source": [
    "# /data_ssd/ysQiu/anaconda3/envs/scDOT/bin/python\n",
    "\n",
    "import pandas as pd\n",
    "import numpy as np\n",
    "from scDOT2 import scDOT"
   ]
  },
  {
   "cell_type": "markdown",
   "id": "healthy-segment",
   "metadata": {},
   "source": [
    "# Load file names of data"
   ]
  },
  {
   "cell_type": "code",
   "execution_count": 6,
   "id": "absolute-russian",
   "metadata": {},
   "outputs": [
    {
     "data": {
      "text/plain": [
       "'Chromium'"
      ]
     },
     "execution_count": 6,
     "metadata": {},
     "output_type": "execute_result"
    }
   ],
   "source": [
    "batch = pd.read_csv(filepath_or_buffer=\"/data_ssd/ysQiu/TanWeiqiang/scDOT/datasets/pbmc/pbmc/batch.csv\", header=0, index_col=False).x.values\n",
    "query_name = batch[0]\n",
    "# ref_name = batch[1:5] # 全部读取内存不足\n",
    "# ref_name = batch[1:] # 全部读取\n",
    "# \"\"\"\n",
    "ref_name = batch[[\n",
    "                    # 0, \n",
    "                    1, \n",
    "                    2, \n",
    "                    3, \n",
    "                    4, \n",
    "                    5, \n",
    "                    6, \n",
    "                    7, \n",
    "                    8, \n",
    "                    9, \n",
    "                    10, \n",
    "                    11\n",
    "                ]]\n",
    "# \"\"\"\n",
    "query_name"
   ]
  },
  {
   "cell_type": "code",
   "execution_count": 3,
   "id": "f313a896",
   "metadata": {},
   "outputs": [],
   "source": [
    "# batch = pd.read_csv(filepath_or_buffer=\"/data_ssd/ysQiu/TanWeiqiang/mtANN/pancreas/batch.csv\", header=0, index_col=False).x.values\n",
    "# query_name = batch[3]\n",
    "# # ref_name = batch[1:5] # 全部读取内存不足\n",
    "# # ref_name = batch[1:] # 全部读取\n",
    "# # \"\"\"\n",
    "# ref_name = batch[[\n",
    "#                     0, \n",
    "#                     1, \n",
    "#                     2, \n",
    "#                     # 3, \n",
    "#                 ]]\n",
    "# # \"\"\"\n",
    "# query_name"
   ]
  },
  {
   "cell_type": "markdown",
   "id": "10dff1c2",
   "metadata": {},
   "source": [
    "# 阈值的敏感程度"
   ]
  },
  {
   "cell_type": "code",
   "execution_count": 8,
   "id": "9f4bb12f",
   "metadata": {},
   "outputs": [
    {
     "name": "stdout",
     "output_type": "stream",
     "text": [
      "Time for data loading is 105.99689269065857\n",
      "precessing 0-th data\n"
     ]
    },
    {
     "name": "stderr",
     "output_type": "stream",
     "text": [
      "/data_ssd/ysQiu/anaconda3/envs/scDOT/lib/python3.12/site-packages/numpy/_core/fromnumeric.py:84: FutureWarning: The behavior of DataFrame.sum with axis=None is deprecated, in a future version this will reduce over both axes and return a scalar. To retain the old behavior, pass axis=0 (or do not pass axis)\n",
      "  return reduction(axis=axis, out=out, **passkwargs)\n",
      "/data_ssd/ysQiu/anaconda3/envs/scDOT/lib/python3.12/site-packages/scanpy/preprocessing/_scale.py:318: UserWarning: Received a view of an AnnData. Making a copy.\n",
      "  view_to_actual(adata)\n"
     ]
    },
    {
     "name": "stdout",
     "output_type": "stream",
     "text": [
      "precessing 1-th data\n"
     ]
    },
    {
     "name": "stderr",
     "output_type": "stream",
     "text": [
      "/data_ssd/ysQiu/anaconda3/envs/scDOT/lib/python3.12/site-packages/scanpy/preprocessing/_scale.py:318: UserWarning: Received a view of an AnnData. Making a copy.\n",
      "  view_to_actual(adata)\n"
     ]
    },
    {
     "name": "stdout",
     "output_type": "stream",
     "text": [
      "precessing 2-th data\n"
     ]
    },
    {
     "name": "stderr",
     "output_type": "stream",
     "text": [
      "/data_ssd/ysQiu/anaconda3/envs/scDOT/lib/python3.12/site-packages/scanpy/preprocessing/_scale.py:318: UserWarning: Received a view of an AnnData. Making a copy.\n",
      "  view_to_actual(adata)\n"
     ]
    },
    {
     "name": "stdout",
     "output_type": "stream",
     "text": [
      "precessing 3-th data\n"
     ]
    },
    {
     "name": "stderr",
     "output_type": "stream",
     "text": [
      "/data_ssd/ysQiu/anaconda3/envs/scDOT/lib/python3.12/site-packages/scanpy/preprocessing/_scale.py:318: UserWarning: Received a view of an AnnData. Making a copy.\n",
      "  view_to_actual(adata)\n"
     ]
    },
    {
     "name": "stdout",
     "output_type": "stream",
     "text": [
      "precessing 4-th data\n"
     ]
    },
    {
     "name": "stderr",
     "output_type": "stream",
     "text": [
      "/data_ssd/ysQiu/anaconda3/envs/scDOT/lib/python3.12/site-packages/scanpy/preprocessing/_scale.py:318: UserWarning: Received a view of an AnnData. Making a copy.\n",
      "  view_to_actual(adata)\n"
     ]
    },
    {
     "name": "stdout",
     "output_type": "stream",
     "text": [
      "precessing 5-th data\n"
     ]
    },
    {
     "name": "stderr",
     "output_type": "stream",
     "text": [
      "/data_ssd/ysQiu/anaconda3/envs/scDOT/lib/python3.12/site-packages/scanpy/preprocessing/_scale.py:318: UserWarning: Received a view of an AnnData. Making a copy.\n",
      "  view_to_actual(adata)\n"
     ]
    },
    {
     "name": "stdout",
     "output_type": "stream",
     "text": [
      "precessing 6-th data\n"
     ]
    },
    {
     "name": "stderr",
     "output_type": "stream",
     "text": [
      "/data_ssd/ysQiu/anaconda3/envs/scDOT/lib/python3.12/site-packages/scanpy/preprocessing/_scale.py:318: UserWarning: Received a view of an AnnData. Making a copy.\n",
      "  view_to_actual(adata)\n"
     ]
    },
    {
     "name": "stdout",
     "output_type": "stream",
     "text": [
      "precessing 7-th data\n"
     ]
    },
    {
     "name": "stderr",
     "output_type": "stream",
     "text": [
      "/data_ssd/ysQiu/anaconda3/envs/scDOT/lib/python3.12/site-packages/scanpy/preprocessing/_scale.py:318: UserWarning: Received a view of an AnnData. Making a copy.\n",
      "  view_to_actual(adata)\n"
     ]
    },
    {
     "name": "stdout",
     "output_type": "stream",
     "text": [
      "precessing 8-th data\n"
     ]
    },
    {
     "name": "stderr",
     "output_type": "stream",
     "text": [
      "/data_ssd/ysQiu/anaconda3/envs/scDOT/lib/python3.12/site-packages/scanpy/preprocessing/_scale.py:318: UserWarning: Received a view of an AnnData. Making a copy.\n",
      "  view_to_actual(adata)\n"
     ]
    },
    {
     "name": "stdout",
     "output_type": "stream",
     "text": [
      "precessing 9-th data\n"
     ]
    },
    {
     "name": "stderr",
     "output_type": "stream",
     "text": [
      "/data_ssd/ysQiu/anaconda3/envs/scDOT/lib/python3.12/site-packages/scanpy/preprocessing/_scale.py:318: UserWarning: Received a view of an AnnData. Making a copy.\n",
      "  view_to_actual(adata)\n"
     ]
    },
    {
     "name": "stdout",
     "output_type": "stream",
     "text": [
      "precessing 10-th data\n"
     ]
    },
    {
     "name": "stderr",
     "output_type": "stream",
     "text": [
      "/data_ssd/ysQiu/anaconda3/envs/scDOT/lib/python3.12/site-packages/scanpy/preprocessing/_scale.py:318: UserWarning: Received a view of an AnnData. Making a copy.\n",
      "  view_to_actual(adata)\n"
     ]
    },
    {
     "name": "stdout",
     "output_type": "stream",
     "text": [
      "precessing 11-th data\n"
     ]
    },
    {
     "name": "stderr",
     "output_type": "stream",
     "text": [
      "/data_ssd/ysQiu/anaconda3/envs/scDOT/lib/python3.12/site-packages/scanpy/preprocessing/_scale.py:318: UserWarning: Received a view of an AnnData. Making a copy.\n",
      "  view_to_actual(adata)\n"
     ]
    },
    {
     "name": "stdout",
     "output_type": "stream",
     "text": [
      "更新初始的权重 [0.08888552 0.09538292 0.08297939 0.10315192 0.09896425 0.09661016\n",
      " 0.08317578 0.07707023 0.10702346 0.07896498 0.0877914 ]\n",
      "tt [np.float64(1.3536553307060544e-10), np.float64(1.2564356746908434e-10), np.float64(1.4487740800727634e-10), np.float64(1.1496621413877038e-10), np.float64(1.206554332494996e-10), np.float64(1.240308716677562e-10), np.float64(1.4442065141940533e-10), np.float64(1.5488840642619842e-10), np.float64(1.0992184675300874e-10), np.float64(1.5157069831027814e-10), np.float64(1.3710535139765668e-10)]\n",
      "新一轮的权重为： [0.08793401 0.09685656 0.08000032 0.10770251 0.10178038 0.09842183\n",
      " 0.08036439 0.0724222  0.11324098 0.07485057 0.08642624]\n",
      "损失函数值： 0.3755325801632233 loss1： 1.3099867681163507e-10 loss2： 0.37553258027242153 loss3： -2.4019694122220363e-10\n",
      "tt [np.float64(1.5079623166715207e-10), np.float64(1.3990232559713925e-10), np.float64(1.6148302646263133e-10), np.float64(1.2797458346974355e-10), np.float64(1.3434618580427574e-10), np.float64(1.3815287998618421e-10), np.float64(1.6090895915601473e-10), np.float64(1.726313622895129e-10), np.float64(1.223317244882216e-10), np.float64(1.6892166158701404e-10), np.float64(1.527669078791556e-10)]\n",
      "新一轮的权重为： [0.08747493 0.09747996 0.07865857 0.10975148 0.1030155  0.09919005\n",
      " 0.07910873 0.07040701 0.1160839  0.07305191 0.08577796]\n",
      "损失函数值： 0.3753257372572173 loss1： 1.456477061586456e-10 loss2： 0.3753257373515114 loss3： -2.399418255825753e-10\n",
      "阈值为：0.1, The annotation accuracy of Chromium is (np.float64(0.9027431421446384), np.float64(0.9027431421446384))\n",
      "Time for data loading is 102.51798510551453\n",
      "precessing 0-th data\n"
     ]
    },
    {
     "name": "stderr",
     "output_type": "stream",
     "text": [
      "/data_ssd/ysQiu/anaconda3/envs/scDOT/lib/python3.12/site-packages/numpy/_core/fromnumeric.py:84: FutureWarning: The behavior of DataFrame.sum with axis=None is deprecated, in a future version this will reduce over both axes and return a scalar. To retain the old behavior, pass axis=0 (or do not pass axis)\n",
      "  return reduction(axis=axis, out=out, **passkwargs)\n",
      "/data_ssd/ysQiu/anaconda3/envs/scDOT/lib/python3.12/site-packages/scanpy/preprocessing/_scale.py:318: UserWarning: Received a view of an AnnData. Making a copy.\n",
      "  view_to_actual(adata)\n"
     ]
    },
    {
     "name": "stdout",
     "output_type": "stream",
     "text": [
      "precessing 1-th data\n"
     ]
    },
    {
     "name": "stderr",
     "output_type": "stream",
     "text": [
      "/data_ssd/ysQiu/anaconda3/envs/scDOT/lib/python3.12/site-packages/scanpy/preprocessing/_scale.py:318: UserWarning: Received a view of an AnnData. Making a copy.\n",
      "  view_to_actual(adata)\n"
     ]
    },
    {
     "name": "stdout",
     "output_type": "stream",
     "text": [
      "precessing 2-th data\n"
     ]
    },
    {
     "name": "stderr",
     "output_type": "stream",
     "text": [
      "/data_ssd/ysQiu/anaconda3/envs/scDOT/lib/python3.12/site-packages/scanpy/preprocessing/_scale.py:318: UserWarning: Received a view of an AnnData. Making a copy.\n",
      "  view_to_actual(adata)\n"
     ]
    },
    {
     "name": "stdout",
     "output_type": "stream",
     "text": [
      "precessing 3-th data\n"
     ]
    },
    {
     "name": "stderr",
     "output_type": "stream",
     "text": [
      "/data_ssd/ysQiu/anaconda3/envs/scDOT/lib/python3.12/site-packages/scanpy/preprocessing/_scale.py:318: UserWarning: Received a view of an AnnData. Making a copy.\n",
      "  view_to_actual(adata)\n"
     ]
    },
    {
     "name": "stdout",
     "output_type": "stream",
     "text": [
      "precessing 4-th data\n"
     ]
    },
    {
     "name": "stderr",
     "output_type": "stream",
     "text": [
      "/data_ssd/ysQiu/anaconda3/envs/scDOT/lib/python3.12/site-packages/scanpy/preprocessing/_scale.py:318: UserWarning: Received a view of an AnnData. Making a copy.\n",
      "  view_to_actual(adata)\n"
     ]
    },
    {
     "name": "stdout",
     "output_type": "stream",
     "text": [
      "precessing 5-th data\n"
     ]
    },
    {
     "name": "stderr",
     "output_type": "stream",
     "text": [
      "/data_ssd/ysQiu/anaconda3/envs/scDOT/lib/python3.12/site-packages/scanpy/preprocessing/_scale.py:318: UserWarning: Received a view of an AnnData. Making a copy.\n",
      "  view_to_actual(adata)\n"
     ]
    },
    {
     "name": "stdout",
     "output_type": "stream",
     "text": [
      "precessing 6-th data\n"
     ]
    },
    {
     "name": "stderr",
     "output_type": "stream",
     "text": [
      "/data_ssd/ysQiu/anaconda3/envs/scDOT/lib/python3.12/site-packages/scanpy/preprocessing/_scale.py:318: UserWarning: Received a view of an AnnData. Making a copy.\n",
      "  view_to_actual(adata)\n"
     ]
    },
    {
     "name": "stdout",
     "output_type": "stream",
     "text": [
      "precessing 7-th data\n"
     ]
    },
    {
     "name": "stderr",
     "output_type": "stream",
     "text": [
      "/data_ssd/ysQiu/anaconda3/envs/scDOT/lib/python3.12/site-packages/scanpy/preprocessing/_scale.py:318: UserWarning: Received a view of an AnnData. Making a copy.\n",
      "  view_to_actual(adata)\n"
     ]
    },
    {
     "name": "stdout",
     "output_type": "stream",
     "text": [
      "precessing 8-th data\n"
     ]
    },
    {
     "name": "stderr",
     "output_type": "stream",
     "text": [
      "/data_ssd/ysQiu/anaconda3/envs/scDOT/lib/python3.12/site-packages/scanpy/preprocessing/_scale.py:318: UserWarning: Received a view of an AnnData. Making a copy.\n",
      "  view_to_actual(adata)\n"
     ]
    },
    {
     "name": "stdout",
     "output_type": "stream",
     "text": [
      "precessing 9-th data\n"
     ]
    },
    {
     "name": "stderr",
     "output_type": "stream",
     "text": [
      "/data_ssd/ysQiu/anaconda3/envs/scDOT/lib/python3.12/site-packages/scanpy/preprocessing/_scale.py:318: UserWarning: Received a view of an AnnData. Making a copy.\n",
      "  view_to_actual(adata)\n"
     ]
    },
    {
     "name": "stdout",
     "output_type": "stream",
     "text": [
      "precessing 10-th data\n"
     ]
    },
    {
     "name": "stderr",
     "output_type": "stream",
     "text": [
      "/data_ssd/ysQiu/anaconda3/envs/scDOT/lib/python3.12/site-packages/scanpy/preprocessing/_scale.py:318: UserWarning: Received a view of an AnnData. Making a copy.\n",
      "  view_to_actual(adata)\n"
     ]
    },
    {
     "name": "stdout",
     "output_type": "stream",
     "text": [
      "precessing 11-th data\n"
     ]
    },
    {
     "name": "stderr",
     "output_type": "stream",
     "text": [
      "/data_ssd/ysQiu/anaconda3/envs/scDOT/lib/python3.12/site-packages/scanpy/preprocessing/_scale.py:318: UserWarning: Received a view of an AnnData. Making a copy.\n",
      "  view_to_actual(adata)\n"
     ]
    },
    {
     "name": "stdout",
     "output_type": "stream",
     "text": [
      "更新初始的权重 [0.08888552 0.09538292 0.08297939 0.10315192 0.09896425 0.09661016\n",
      " 0.08317578 0.07707023 0.10702346 0.07896498 0.0877914 ]\n",
      "tt [np.float64(1.3536553307060544e-10), np.float64(1.2564356746908434e-10), np.float64(1.4487740800727634e-10), np.float64(1.1496621413877038e-10), np.float64(1.206554332494996e-10), np.float64(1.240308716677562e-10), np.float64(1.4442065141940533e-10), np.float64(1.5488840642619842e-10), np.float64(1.0992184675300874e-10), np.float64(1.5157069831027814e-10), np.float64(1.3710535139765668e-10)]\n",
      "新一轮的权重为： [0.08793401 0.09685656 0.08000032 0.10770251 0.10178038 0.09842183\n",
      " 0.08036439 0.0724222  0.11324098 0.07485057 0.08642624]\n",
      "损失函数值： 0.3755325801632233 loss1： 1.3099867681163507e-10 loss2： 0.37553258027242153 loss3： -2.4019694122220363e-10\n",
      "tt [np.float64(1.5079623166715207e-10), np.float64(1.3990232559713925e-10), np.float64(1.6148302646263133e-10), np.float64(1.2797458346974355e-10), np.float64(1.3434618580427574e-10), np.float64(1.3815287998618421e-10), np.float64(1.6090895915601473e-10), np.float64(1.726313622895129e-10), np.float64(1.223317244882216e-10), np.float64(1.6892166158701404e-10), np.float64(1.527669078791556e-10)]\n",
      "新一轮的权重为： [0.08747493 0.09747996 0.07865857 0.10975148 0.1030155  0.09919005\n",
      " 0.07910873 0.07040701 0.1160839  0.07305191 0.08577796]\n",
      "损失函数值： 0.3753257372572173 loss1： 1.456477061586456e-10 loss2： 0.3753257373515114 loss3： -2.399418255825753e-10\n",
      "阈值为：0.2, The annotation accuracy of Chromium is (np.float64(0.9027431421446384), np.float64(0.9027431421446384))\n",
      "Time for data loading is 102.39213752746582\n",
      "precessing 0-th data\n"
     ]
    },
    {
     "name": "stderr",
     "output_type": "stream",
     "text": [
      "/data_ssd/ysQiu/anaconda3/envs/scDOT/lib/python3.12/site-packages/numpy/_core/fromnumeric.py:84: FutureWarning: The behavior of DataFrame.sum with axis=None is deprecated, in a future version this will reduce over both axes and return a scalar. To retain the old behavior, pass axis=0 (or do not pass axis)\n",
      "  return reduction(axis=axis, out=out, **passkwargs)\n",
      "/data_ssd/ysQiu/anaconda3/envs/scDOT/lib/python3.12/site-packages/scanpy/preprocessing/_scale.py:318: UserWarning: Received a view of an AnnData. Making a copy.\n",
      "  view_to_actual(adata)\n"
     ]
    },
    {
     "name": "stdout",
     "output_type": "stream",
     "text": [
      "precessing 1-th data\n"
     ]
    },
    {
     "name": "stderr",
     "output_type": "stream",
     "text": [
      "/data_ssd/ysQiu/anaconda3/envs/scDOT/lib/python3.12/site-packages/scanpy/preprocessing/_scale.py:318: UserWarning: Received a view of an AnnData. Making a copy.\n",
      "  view_to_actual(adata)\n"
     ]
    },
    {
     "name": "stdout",
     "output_type": "stream",
     "text": [
      "precessing 2-th data\n"
     ]
    },
    {
     "name": "stderr",
     "output_type": "stream",
     "text": [
      "/data_ssd/ysQiu/anaconda3/envs/scDOT/lib/python3.12/site-packages/scanpy/preprocessing/_scale.py:318: UserWarning: Received a view of an AnnData. Making a copy.\n",
      "  view_to_actual(adata)\n"
     ]
    },
    {
     "name": "stdout",
     "output_type": "stream",
     "text": [
      "precessing 3-th data\n"
     ]
    },
    {
     "name": "stderr",
     "output_type": "stream",
     "text": [
      "/data_ssd/ysQiu/anaconda3/envs/scDOT/lib/python3.12/site-packages/scanpy/preprocessing/_scale.py:318: UserWarning: Received a view of an AnnData. Making a copy.\n",
      "  view_to_actual(adata)\n"
     ]
    },
    {
     "name": "stdout",
     "output_type": "stream",
     "text": [
      "precessing 4-th data\n"
     ]
    },
    {
     "name": "stderr",
     "output_type": "stream",
     "text": [
      "/data_ssd/ysQiu/anaconda3/envs/scDOT/lib/python3.12/site-packages/scanpy/preprocessing/_scale.py:318: UserWarning: Received a view of an AnnData. Making a copy.\n",
      "  view_to_actual(adata)\n"
     ]
    },
    {
     "name": "stdout",
     "output_type": "stream",
     "text": [
      "precessing 5-th data\n"
     ]
    },
    {
     "name": "stderr",
     "output_type": "stream",
     "text": [
      "/data_ssd/ysQiu/anaconda3/envs/scDOT/lib/python3.12/site-packages/scanpy/preprocessing/_scale.py:318: UserWarning: Received a view of an AnnData. Making a copy.\n",
      "  view_to_actual(adata)\n"
     ]
    },
    {
     "name": "stdout",
     "output_type": "stream",
     "text": [
      "precessing 6-th data\n"
     ]
    },
    {
     "name": "stderr",
     "output_type": "stream",
     "text": [
      "/data_ssd/ysQiu/anaconda3/envs/scDOT/lib/python3.12/site-packages/scanpy/preprocessing/_scale.py:318: UserWarning: Received a view of an AnnData. Making a copy.\n",
      "  view_to_actual(adata)\n"
     ]
    },
    {
     "name": "stdout",
     "output_type": "stream",
     "text": [
      "precessing 7-th data\n"
     ]
    },
    {
     "name": "stderr",
     "output_type": "stream",
     "text": [
      "/data_ssd/ysQiu/anaconda3/envs/scDOT/lib/python3.12/site-packages/scanpy/preprocessing/_scale.py:318: UserWarning: Received a view of an AnnData. Making a copy.\n",
      "  view_to_actual(adata)\n"
     ]
    },
    {
     "name": "stdout",
     "output_type": "stream",
     "text": [
      "precessing 8-th data\n"
     ]
    },
    {
     "name": "stderr",
     "output_type": "stream",
     "text": [
      "/data_ssd/ysQiu/anaconda3/envs/scDOT/lib/python3.12/site-packages/scanpy/preprocessing/_scale.py:318: UserWarning: Received a view of an AnnData. Making a copy.\n",
      "  view_to_actual(adata)\n"
     ]
    },
    {
     "name": "stdout",
     "output_type": "stream",
     "text": [
      "precessing 9-th data\n"
     ]
    },
    {
     "name": "stderr",
     "output_type": "stream",
     "text": [
      "/data_ssd/ysQiu/anaconda3/envs/scDOT/lib/python3.12/site-packages/scanpy/preprocessing/_scale.py:318: UserWarning: Received a view of an AnnData. Making a copy.\n",
      "  view_to_actual(adata)\n"
     ]
    },
    {
     "name": "stdout",
     "output_type": "stream",
     "text": [
      "precessing 10-th data\n"
     ]
    },
    {
     "name": "stderr",
     "output_type": "stream",
     "text": [
      "/data_ssd/ysQiu/anaconda3/envs/scDOT/lib/python3.12/site-packages/scanpy/preprocessing/_scale.py:318: UserWarning: Received a view of an AnnData. Making a copy.\n",
      "  view_to_actual(adata)\n"
     ]
    },
    {
     "name": "stdout",
     "output_type": "stream",
     "text": [
      "precessing 11-th data\n"
     ]
    },
    {
     "name": "stderr",
     "output_type": "stream",
     "text": [
      "/data_ssd/ysQiu/anaconda3/envs/scDOT/lib/python3.12/site-packages/scanpy/preprocessing/_scale.py:318: UserWarning: Received a view of an AnnData. Making a copy.\n",
      "  view_to_actual(adata)\n"
     ]
    },
    {
     "name": "stdout",
     "output_type": "stream",
     "text": [
      "更新初始的权重 [0.08888552 0.09538292 0.08297939 0.10315192 0.09896425 0.09661016\n",
      " 0.08317578 0.07707023 0.10702346 0.07896498 0.0877914 ]\n",
      "tt [np.float64(1.3536553307060544e-10), np.float64(1.2564356746908434e-10), np.float64(1.4487740800727634e-10), np.float64(1.1496621413877038e-10), np.float64(1.206554332494996e-10), np.float64(1.240308716677562e-10), np.float64(1.4442065141940533e-10), np.float64(1.5488840642619842e-10), np.float64(1.0992184675300874e-10), np.float64(1.5157069831027814e-10), np.float64(1.3710535139765668e-10)]\n",
      "新一轮的权重为： [0.08793401 0.09685656 0.08000032 0.10770251 0.10178038 0.09842183\n",
      " 0.08036439 0.0724222  0.11324098 0.07485057 0.08642624]\n",
      "损失函数值： 0.3755325801632233 loss1： 1.3099867681163507e-10 loss2： 0.37553258027242153 loss3： -2.4019694122220363e-10\n",
      "tt [np.float64(1.5079623166715207e-10), np.float64(1.3990232559713925e-10), np.float64(1.6148302646263133e-10), np.float64(1.2797458346974355e-10), np.float64(1.3434618580427574e-10), np.float64(1.3815287998618421e-10), np.float64(1.6090895915601473e-10), np.float64(1.726313622895129e-10), np.float64(1.223317244882216e-10), np.float64(1.6892166158701404e-10), np.float64(1.527669078791556e-10)]\n",
      "新一轮的权重为： [0.08747493 0.09747996 0.07865857 0.10975148 0.1030155  0.09919005\n",
      " 0.07910873 0.07040701 0.1160839  0.07305191 0.08577796]\n",
      "损失函数值： 0.3753257372572173 loss1： 1.456477061586456e-10 loss2： 0.3753257373515114 loss3： -2.399418255825753e-10\n",
      "阈值为：0.3, The annotation accuracy of Chromium is (np.float64(0.9027431421446384), np.float64(0.9027431421446384))\n",
      "Time for data loading is 102.1104371547699\n",
      "precessing 0-th data\n"
     ]
    },
    {
     "name": "stderr",
     "output_type": "stream",
     "text": [
      "/data_ssd/ysQiu/anaconda3/envs/scDOT/lib/python3.12/site-packages/numpy/_core/fromnumeric.py:84: FutureWarning: The behavior of DataFrame.sum with axis=None is deprecated, in a future version this will reduce over both axes and return a scalar. To retain the old behavior, pass axis=0 (or do not pass axis)\n",
      "  return reduction(axis=axis, out=out, **passkwargs)\n",
      "/data_ssd/ysQiu/anaconda3/envs/scDOT/lib/python3.12/site-packages/scanpy/preprocessing/_scale.py:318: UserWarning: Received a view of an AnnData. Making a copy.\n",
      "  view_to_actual(adata)\n"
     ]
    },
    {
     "name": "stdout",
     "output_type": "stream",
     "text": [
      "precessing 1-th data\n"
     ]
    },
    {
     "name": "stderr",
     "output_type": "stream",
     "text": [
      "/data_ssd/ysQiu/anaconda3/envs/scDOT/lib/python3.12/site-packages/scanpy/preprocessing/_scale.py:318: UserWarning: Received a view of an AnnData. Making a copy.\n",
      "  view_to_actual(adata)\n"
     ]
    },
    {
     "name": "stdout",
     "output_type": "stream",
     "text": [
      "precessing 2-th data\n"
     ]
    },
    {
     "name": "stderr",
     "output_type": "stream",
     "text": [
      "/data_ssd/ysQiu/anaconda3/envs/scDOT/lib/python3.12/site-packages/scanpy/preprocessing/_scale.py:318: UserWarning: Received a view of an AnnData. Making a copy.\n",
      "  view_to_actual(adata)\n"
     ]
    },
    {
     "name": "stdout",
     "output_type": "stream",
     "text": [
      "precessing 3-th data\n"
     ]
    },
    {
     "name": "stderr",
     "output_type": "stream",
     "text": [
      "/data_ssd/ysQiu/anaconda3/envs/scDOT/lib/python3.12/site-packages/scanpy/preprocessing/_scale.py:318: UserWarning: Received a view of an AnnData. Making a copy.\n",
      "  view_to_actual(adata)\n"
     ]
    },
    {
     "name": "stdout",
     "output_type": "stream",
     "text": [
      "precessing 4-th data\n"
     ]
    },
    {
     "name": "stderr",
     "output_type": "stream",
     "text": [
      "/data_ssd/ysQiu/anaconda3/envs/scDOT/lib/python3.12/site-packages/scanpy/preprocessing/_scale.py:318: UserWarning: Received a view of an AnnData. Making a copy.\n",
      "  view_to_actual(adata)\n"
     ]
    },
    {
     "name": "stdout",
     "output_type": "stream",
     "text": [
      "precessing 5-th data\n"
     ]
    },
    {
     "name": "stderr",
     "output_type": "stream",
     "text": [
      "/data_ssd/ysQiu/anaconda3/envs/scDOT/lib/python3.12/site-packages/scanpy/preprocessing/_scale.py:318: UserWarning: Received a view of an AnnData. Making a copy.\n",
      "  view_to_actual(adata)\n"
     ]
    },
    {
     "name": "stdout",
     "output_type": "stream",
     "text": [
      "precessing 6-th data\n"
     ]
    },
    {
     "name": "stderr",
     "output_type": "stream",
     "text": [
      "/data_ssd/ysQiu/anaconda3/envs/scDOT/lib/python3.12/site-packages/scanpy/preprocessing/_scale.py:318: UserWarning: Received a view of an AnnData. Making a copy.\n",
      "  view_to_actual(adata)\n"
     ]
    },
    {
     "name": "stdout",
     "output_type": "stream",
     "text": [
      "precessing 7-th data\n"
     ]
    },
    {
     "name": "stderr",
     "output_type": "stream",
     "text": [
      "/data_ssd/ysQiu/anaconda3/envs/scDOT/lib/python3.12/site-packages/scanpy/preprocessing/_scale.py:318: UserWarning: Received a view of an AnnData. Making a copy.\n",
      "  view_to_actual(adata)\n"
     ]
    },
    {
     "name": "stdout",
     "output_type": "stream",
     "text": [
      "precessing 8-th data\n"
     ]
    },
    {
     "name": "stderr",
     "output_type": "stream",
     "text": [
      "/data_ssd/ysQiu/anaconda3/envs/scDOT/lib/python3.12/site-packages/scanpy/preprocessing/_scale.py:318: UserWarning: Received a view of an AnnData. Making a copy.\n",
      "  view_to_actual(adata)\n"
     ]
    },
    {
     "name": "stdout",
     "output_type": "stream",
     "text": [
      "precessing 9-th data\n"
     ]
    },
    {
     "name": "stderr",
     "output_type": "stream",
     "text": [
      "/data_ssd/ysQiu/anaconda3/envs/scDOT/lib/python3.12/site-packages/scanpy/preprocessing/_scale.py:318: UserWarning: Received a view of an AnnData. Making a copy.\n",
      "  view_to_actual(adata)\n"
     ]
    },
    {
     "name": "stdout",
     "output_type": "stream",
     "text": [
      "precessing 10-th data\n"
     ]
    },
    {
     "name": "stderr",
     "output_type": "stream",
     "text": [
      "/data_ssd/ysQiu/anaconda3/envs/scDOT/lib/python3.12/site-packages/scanpy/preprocessing/_scale.py:318: UserWarning: Received a view of an AnnData. Making a copy.\n",
      "  view_to_actual(adata)\n"
     ]
    },
    {
     "name": "stdout",
     "output_type": "stream",
     "text": [
      "precessing 11-th data\n"
     ]
    },
    {
     "name": "stderr",
     "output_type": "stream",
     "text": [
      "/data_ssd/ysQiu/anaconda3/envs/scDOT/lib/python3.12/site-packages/scanpy/preprocessing/_scale.py:318: UserWarning: Received a view of an AnnData. Making a copy.\n",
      "  view_to_actual(adata)\n"
     ]
    },
    {
     "name": "stdout",
     "output_type": "stream",
     "text": [
      "更新初始的权重 [0.08888552 0.09538292 0.08297939 0.10315192 0.09896425 0.09661016\n",
      " 0.08317578 0.07707023 0.10702346 0.07896498 0.0877914 ]\n",
      "tt [np.float64(1.3536553307060544e-10), np.float64(1.2564356746908434e-10), np.float64(1.4487740800727634e-10), np.float64(1.1496621413877038e-10), np.float64(1.206554332494996e-10), np.float64(1.240308716677562e-10), np.float64(1.4442065141940533e-10), np.float64(1.5488840642619842e-10), np.float64(1.0992184675300874e-10), np.float64(1.5157069831027814e-10), np.float64(1.3710535139765668e-10)]\n",
      "新一轮的权重为： [0.08793401 0.09685656 0.08000032 0.10770251 0.10178038 0.09842183\n",
      " 0.08036439 0.0724222  0.11324098 0.07485057 0.08642624]\n",
      "损失函数值： 0.3755325801632233 loss1： 1.3099867681163507e-10 loss2： 0.37553258027242153 loss3： -2.4019694122220363e-10\n",
      "tt [np.float64(1.5079623166715207e-10), np.float64(1.3990232559713925e-10), np.float64(1.6148302646263133e-10), np.float64(1.2797458346974355e-10), np.float64(1.3434618580427574e-10), np.float64(1.3815287998618421e-10), np.float64(1.6090895915601473e-10), np.float64(1.726313622895129e-10), np.float64(1.223317244882216e-10), np.float64(1.6892166158701404e-10), np.float64(1.527669078791556e-10)]\n",
      "新一轮的权重为： [0.08747493 0.09747996 0.07865857 0.10975148 0.1030155  0.09919005\n",
      " 0.07910873 0.07040701 0.1160839  0.07305191 0.08577796]\n",
      "损失函数值： 0.3753257372572173 loss1： 1.456477061586456e-10 loss2： 0.3753257373515114 loss3： -2.399418255825753e-10\n",
      "阈值为：0.4, The annotation accuracy of Chromium is (np.float64(0.9027431421446384), np.float64(0.9027431421446384))\n",
      "Time for data loading is 100.76415991783142\n",
      "precessing 0-th data\n"
     ]
    },
    {
     "name": "stderr",
     "output_type": "stream",
     "text": [
      "/data_ssd/ysQiu/anaconda3/envs/scDOT/lib/python3.12/site-packages/numpy/_core/fromnumeric.py:84: FutureWarning: The behavior of DataFrame.sum with axis=None is deprecated, in a future version this will reduce over both axes and return a scalar. To retain the old behavior, pass axis=0 (or do not pass axis)\n",
      "  return reduction(axis=axis, out=out, **passkwargs)\n",
      "/data_ssd/ysQiu/anaconda3/envs/scDOT/lib/python3.12/site-packages/scanpy/preprocessing/_scale.py:318: UserWarning: Received a view of an AnnData. Making a copy.\n",
      "  view_to_actual(adata)\n"
     ]
    },
    {
     "name": "stdout",
     "output_type": "stream",
     "text": [
      "precessing 1-th data\n"
     ]
    },
    {
     "name": "stderr",
     "output_type": "stream",
     "text": [
      "/data_ssd/ysQiu/anaconda3/envs/scDOT/lib/python3.12/site-packages/scanpy/preprocessing/_scale.py:318: UserWarning: Received a view of an AnnData. Making a copy.\n",
      "  view_to_actual(adata)\n"
     ]
    },
    {
     "name": "stdout",
     "output_type": "stream",
     "text": [
      "precessing 2-th data\n"
     ]
    },
    {
     "name": "stderr",
     "output_type": "stream",
     "text": [
      "/data_ssd/ysQiu/anaconda3/envs/scDOT/lib/python3.12/site-packages/scanpy/preprocessing/_scale.py:318: UserWarning: Received a view of an AnnData. Making a copy.\n",
      "  view_to_actual(adata)\n"
     ]
    },
    {
     "name": "stdout",
     "output_type": "stream",
     "text": [
      "precessing 3-th data\n"
     ]
    },
    {
     "name": "stderr",
     "output_type": "stream",
     "text": [
      "/data_ssd/ysQiu/anaconda3/envs/scDOT/lib/python3.12/site-packages/scanpy/preprocessing/_scale.py:318: UserWarning: Received a view of an AnnData. Making a copy.\n",
      "  view_to_actual(adata)\n"
     ]
    },
    {
     "name": "stdout",
     "output_type": "stream",
     "text": [
      "precessing 4-th data\n"
     ]
    },
    {
     "name": "stderr",
     "output_type": "stream",
     "text": [
      "/data_ssd/ysQiu/anaconda3/envs/scDOT/lib/python3.12/site-packages/scanpy/preprocessing/_scale.py:318: UserWarning: Received a view of an AnnData. Making a copy.\n",
      "  view_to_actual(adata)\n"
     ]
    },
    {
     "name": "stdout",
     "output_type": "stream",
     "text": [
      "precessing 5-th data\n"
     ]
    },
    {
     "name": "stderr",
     "output_type": "stream",
     "text": [
      "/data_ssd/ysQiu/anaconda3/envs/scDOT/lib/python3.12/site-packages/scanpy/preprocessing/_scale.py:318: UserWarning: Received a view of an AnnData. Making a copy.\n",
      "  view_to_actual(adata)\n"
     ]
    },
    {
     "name": "stdout",
     "output_type": "stream",
     "text": [
      "precessing 6-th data\n"
     ]
    },
    {
     "name": "stderr",
     "output_type": "stream",
     "text": [
      "/data_ssd/ysQiu/anaconda3/envs/scDOT/lib/python3.12/site-packages/scanpy/preprocessing/_scale.py:318: UserWarning: Received a view of an AnnData. Making a copy.\n",
      "  view_to_actual(adata)\n"
     ]
    },
    {
     "name": "stdout",
     "output_type": "stream",
     "text": [
      "precessing 7-th data\n"
     ]
    },
    {
     "name": "stderr",
     "output_type": "stream",
     "text": [
      "/data_ssd/ysQiu/anaconda3/envs/scDOT/lib/python3.12/site-packages/scanpy/preprocessing/_scale.py:318: UserWarning: Received a view of an AnnData. Making a copy.\n",
      "  view_to_actual(adata)\n"
     ]
    },
    {
     "name": "stdout",
     "output_type": "stream",
     "text": [
      "precessing 8-th data\n"
     ]
    },
    {
     "name": "stderr",
     "output_type": "stream",
     "text": [
      "/data_ssd/ysQiu/anaconda3/envs/scDOT/lib/python3.12/site-packages/scanpy/preprocessing/_scale.py:318: UserWarning: Received a view of an AnnData. Making a copy.\n",
      "  view_to_actual(adata)\n"
     ]
    },
    {
     "name": "stdout",
     "output_type": "stream",
     "text": [
      "precessing 9-th data\n"
     ]
    },
    {
     "name": "stderr",
     "output_type": "stream",
     "text": [
      "/data_ssd/ysQiu/anaconda3/envs/scDOT/lib/python3.12/site-packages/scanpy/preprocessing/_scale.py:318: UserWarning: Received a view of an AnnData. Making a copy.\n",
      "  view_to_actual(adata)\n"
     ]
    },
    {
     "name": "stdout",
     "output_type": "stream",
     "text": [
      "precessing 10-th data\n"
     ]
    },
    {
     "name": "stderr",
     "output_type": "stream",
     "text": [
      "/data_ssd/ysQiu/anaconda3/envs/scDOT/lib/python3.12/site-packages/scanpy/preprocessing/_scale.py:318: UserWarning: Received a view of an AnnData. Making a copy.\n",
      "  view_to_actual(adata)\n"
     ]
    },
    {
     "name": "stdout",
     "output_type": "stream",
     "text": [
      "precessing 11-th data\n"
     ]
    },
    {
     "name": "stderr",
     "output_type": "stream",
     "text": [
      "/data_ssd/ysQiu/anaconda3/envs/scDOT/lib/python3.12/site-packages/scanpy/preprocessing/_scale.py:318: UserWarning: Received a view of an AnnData. Making a copy.\n",
      "  view_to_actual(adata)\n"
     ]
    },
    {
     "name": "stdout",
     "output_type": "stream",
     "text": [
      "更新初始的权重 [0.08888552 0.09538292 0.08297939 0.10315192 0.09896425 0.09661016\n",
      " 0.08317578 0.07707023 0.10702346 0.07896498 0.0877914 ]\n",
      "tt [np.float64(1.3536553307060544e-10), np.float64(1.2564356746908434e-10), np.float64(1.4487740800727634e-10), np.float64(1.1496621413877038e-10), np.float64(1.206554332494996e-10), np.float64(1.240308716677562e-10), np.float64(1.4442065141940533e-10), np.float64(1.5488840642619842e-10), np.float64(1.0992184675300874e-10), np.float64(1.5157069831027814e-10), np.float64(1.3710535139765668e-10)]\n",
      "新一轮的权重为： [0.08793401 0.09685656 0.08000032 0.10770251 0.10178038 0.09842183\n",
      " 0.08036439 0.0724222  0.11324098 0.07485057 0.08642624]\n",
      "损失函数值： 0.3755325801632233 loss1： 1.3099867681163507e-10 loss2： 0.37553258027242153 loss3： -2.4019694122220363e-10\n",
      "tt [np.float64(1.5079623166715207e-10), np.float64(1.3990232559713925e-10), np.float64(1.6148302646263133e-10), np.float64(1.2797458346974355e-10), np.float64(1.3434618580427574e-10), np.float64(1.3815287998618421e-10), np.float64(1.6090895915601473e-10), np.float64(1.726313622895129e-10), np.float64(1.223317244882216e-10), np.float64(1.6892166158701404e-10), np.float64(1.527669078791556e-10)]\n",
      "新一轮的权重为： [0.08747493 0.09747996 0.07865857 0.10975148 0.1030155  0.09919005\n",
      " 0.07910873 0.07040701 0.1160839  0.07305191 0.08577796]\n",
      "损失函数值： 0.3753257372572173 loss1： 1.456477061586456e-10 loss2： 0.3753257373515114 loss3： -2.399418255825753e-10\n",
      "阈值为：0.5, The annotation accuracy of Chromium is (np.float64(0.9027431421446384), np.float64(0.9008728179551122))\n",
      "Time for data loading is 100.89318251609802\n",
      "precessing 0-th data\n"
     ]
    },
    {
     "name": "stderr",
     "output_type": "stream",
     "text": [
      "/data_ssd/ysQiu/anaconda3/envs/scDOT/lib/python3.12/site-packages/numpy/_core/fromnumeric.py:84: FutureWarning: The behavior of DataFrame.sum with axis=None is deprecated, in a future version this will reduce over both axes and return a scalar. To retain the old behavior, pass axis=0 (or do not pass axis)\n",
      "  return reduction(axis=axis, out=out, **passkwargs)\n",
      "/data_ssd/ysQiu/anaconda3/envs/scDOT/lib/python3.12/site-packages/scanpy/preprocessing/_scale.py:318: UserWarning: Received a view of an AnnData. Making a copy.\n",
      "  view_to_actual(adata)\n"
     ]
    },
    {
     "name": "stdout",
     "output_type": "stream",
     "text": [
      "precessing 1-th data\n"
     ]
    },
    {
     "name": "stderr",
     "output_type": "stream",
     "text": [
      "/data_ssd/ysQiu/anaconda3/envs/scDOT/lib/python3.12/site-packages/scanpy/preprocessing/_scale.py:318: UserWarning: Received a view of an AnnData. Making a copy.\n",
      "  view_to_actual(adata)\n"
     ]
    },
    {
     "name": "stdout",
     "output_type": "stream",
     "text": [
      "precessing 2-th data\n"
     ]
    },
    {
     "name": "stderr",
     "output_type": "stream",
     "text": [
      "/data_ssd/ysQiu/anaconda3/envs/scDOT/lib/python3.12/site-packages/scanpy/preprocessing/_scale.py:318: UserWarning: Received a view of an AnnData. Making a copy.\n",
      "  view_to_actual(adata)\n"
     ]
    },
    {
     "name": "stdout",
     "output_type": "stream",
     "text": [
      "precessing 3-th data\n"
     ]
    },
    {
     "name": "stderr",
     "output_type": "stream",
     "text": [
      "/data_ssd/ysQiu/anaconda3/envs/scDOT/lib/python3.12/site-packages/scanpy/preprocessing/_scale.py:318: UserWarning: Received a view of an AnnData. Making a copy.\n",
      "  view_to_actual(adata)\n"
     ]
    },
    {
     "name": "stdout",
     "output_type": "stream",
     "text": [
      "precessing 4-th data\n"
     ]
    },
    {
     "name": "stderr",
     "output_type": "stream",
     "text": [
      "/data_ssd/ysQiu/anaconda3/envs/scDOT/lib/python3.12/site-packages/scanpy/preprocessing/_scale.py:318: UserWarning: Received a view of an AnnData. Making a copy.\n",
      "  view_to_actual(adata)\n"
     ]
    },
    {
     "name": "stdout",
     "output_type": "stream",
     "text": [
      "precessing 5-th data\n"
     ]
    },
    {
     "name": "stderr",
     "output_type": "stream",
     "text": [
      "/data_ssd/ysQiu/anaconda3/envs/scDOT/lib/python3.12/site-packages/scanpy/preprocessing/_scale.py:318: UserWarning: Received a view of an AnnData. Making a copy.\n",
      "  view_to_actual(adata)\n"
     ]
    },
    {
     "name": "stdout",
     "output_type": "stream",
     "text": [
      "precessing 6-th data\n"
     ]
    },
    {
     "name": "stderr",
     "output_type": "stream",
     "text": [
      "/data_ssd/ysQiu/anaconda3/envs/scDOT/lib/python3.12/site-packages/scanpy/preprocessing/_scale.py:318: UserWarning: Received a view of an AnnData. Making a copy.\n",
      "  view_to_actual(adata)\n"
     ]
    },
    {
     "name": "stdout",
     "output_type": "stream",
     "text": [
      "precessing 7-th data\n"
     ]
    },
    {
     "name": "stderr",
     "output_type": "stream",
     "text": [
      "/data_ssd/ysQiu/anaconda3/envs/scDOT/lib/python3.12/site-packages/scanpy/preprocessing/_scale.py:318: UserWarning: Received a view of an AnnData. Making a copy.\n",
      "  view_to_actual(adata)\n"
     ]
    },
    {
     "name": "stdout",
     "output_type": "stream",
     "text": [
      "precessing 8-th data\n"
     ]
    },
    {
     "name": "stderr",
     "output_type": "stream",
     "text": [
      "/data_ssd/ysQiu/anaconda3/envs/scDOT/lib/python3.12/site-packages/scanpy/preprocessing/_scale.py:318: UserWarning: Received a view of an AnnData. Making a copy.\n",
      "  view_to_actual(adata)\n"
     ]
    },
    {
     "name": "stdout",
     "output_type": "stream",
     "text": [
      "precessing 9-th data\n"
     ]
    },
    {
     "name": "stderr",
     "output_type": "stream",
     "text": [
      "/data_ssd/ysQiu/anaconda3/envs/scDOT/lib/python3.12/site-packages/scanpy/preprocessing/_scale.py:318: UserWarning: Received a view of an AnnData. Making a copy.\n",
      "  view_to_actual(adata)\n"
     ]
    },
    {
     "name": "stdout",
     "output_type": "stream",
     "text": [
      "precessing 10-th data\n"
     ]
    },
    {
     "name": "stderr",
     "output_type": "stream",
     "text": [
      "/data_ssd/ysQiu/anaconda3/envs/scDOT/lib/python3.12/site-packages/scanpy/preprocessing/_scale.py:318: UserWarning: Received a view of an AnnData. Making a copy.\n",
      "  view_to_actual(adata)\n"
     ]
    },
    {
     "name": "stdout",
     "output_type": "stream",
     "text": [
      "precessing 11-th data\n"
     ]
    },
    {
     "name": "stderr",
     "output_type": "stream",
     "text": [
      "/data_ssd/ysQiu/anaconda3/envs/scDOT/lib/python3.12/site-packages/scanpy/preprocessing/_scale.py:318: UserWarning: Received a view of an AnnData. Making a copy.\n",
      "  view_to_actual(adata)\n"
     ]
    },
    {
     "name": "stdout",
     "output_type": "stream",
     "text": [
      "更新初始的权重 [0.08888552 0.09538292 0.08297939 0.10315192 0.09896425 0.09661016\n",
      " 0.08317578 0.07707023 0.10702346 0.07896498 0.0877914 ]\n",
      "tt [np.float64(1.3536553307060544e-10), np.float64(1.2564356746908434e-10), np.float64(1.4487740800727634e-10), np.float64(1.1496621413877038e-10), np.float64(1.206554332494996e-10), np.float64(1.240308716677562e-10), np.float64(1.4442065141940533e-10), np.float64(1.5488840642619842e-10), np.float64(1.0992184675300874e-10), np.float64(1.5157069831027814e-10), np.float64(1.3710535139765668e-10)]\n",
      "新一轮的权重为： [0.08793401 0.09685656 0.08000032 0.10770251 0.10178038 0.09842183\n",
      " 0.08036439 0.0724222  0.11324098 0.07485057 0.08642624]\n",
      "损失函数值： 0.3755325801632233 loss1： 1.3099867681163507e-10 loss2： 0.37553258027242153 loss3： -2.4019694122220363e-10\n",
      "tt [np.float64(1.5079623166715207e-10), np.float64(1.3990232559713925e-10), np.float64(1.6148302646263133e-10), np.float64(1.2797458346974355e-10), np.float64(1.3434618580427574e-10), np.float64(1.3815287998618421e-10), np.float64(1.6090895915601473e-10), np.float64(1.726313622895129e-10), np.float64(1.223317244882216e-10), np.float64(1.6892166158701404e-10), np.float64(1.527669078791556e-10)]\n",
      "新一轮的权重为： [0.08747493 0.09747996 0.07865857 0.10975148 0.1030155  0.09919005\n",
      " 0.07910873 0.07040701 0.1160839  0.07305191 0.08577796]\n",
      "损失函数值： 0.3753257372572173 loss1： 1.456477061586456e-10 loss2： 0.3753257373515114 loss3： -2.399418255825753e-10\n",
      "阈值为：0.6, The annotation accuracy of Chromium is (np.float64(0.9027431421446384), np.float64(0.8890274314214464))\n",
      "Time for data loading is 100.68830037117004\n",
      "precessing 0-th data\n"
     ]
    },
    {
     "name": "stderr",
     "output_type": "stream",
     "text": [
      "/data_ssd/ysQiu/anaconda3/envs/scDOT/lib/python3.12/site-packages/numpy/_core/fromnumeric.py:84: FutureWarning: The behavior of DataFrame.sum with axis=None is deprecated, in a future version this will reduce over both axes and return a scalar. To retain the old behavior, pass axis=0 (or do not pass axis)\n",
      "  return reduction(axis=axis, out=out, **passkwargs)\n",
      "/data_ssd/ysQiu/anaconda3/envs/scDOT/lib/python3.12/site-packages/scanpy/preprocessing/_scale.py:318: UserWarning: Received a view of an AnnData. Making a copy.\n",
      "  view_to_actual(adata)\n"
     ]
    },
    {
     "name": "stdout",
     "output_type": "stream",
     "text": [
      "precessing 1-th data\n"
     ]
    },
    {
     "name": "stderr",
     "output_type": "stream",
     "text": [
      "/data_ssd/ysQiu/anaconda3/envs/scDOT/lib/python3.12/site-packages/scanpy/preprocessing/_scale.py:318: UserWarning: Received a view of an AnnData. Making a copy.\n",
      "  view_to_actual(adata)\n"
     ]
    },
    {
     "name": "stdout",
     "output_type": "stream",
     "text": [
      "precessing 2-th data\n"
     ]
    },
    {
     "name": "stderr",
     "output_type": "stream",
     "text": [
      "/data_ssd/ysQiu/anaconda3/envs/scDOT/lib/python3.12/site-packages/scanpy/preprocessing/_scale.py:318: UserWarning: Received a view of an AnnData. Making a copy.\n",
      "  view_to_actual(adata)\n"
     ]
    },
    {
     "name": "stdout",
     "output_type": "stream",
     "text": [
      "precessing 3-th data\n"
     ]
    },
    {
     "name": "stderr",
     "output_type": "stream",
     "text": [
      "/data_ssd/ysQiu/anaconda3/envs/scDOT/lib/python3.12/site-packages/scanpy/preprocessing/_scale.py:318: UserWarning: Received a view of an AnnData. Making a copy.\n",
      "  view_to_actual(adata)\n"
     ]
    },
    {
     "name": "stdout",
     "output_type": "stream",
     "text": [
      "precessing 4-th data\n"
     ]
    },
    {
     "name": "stderr",
     "output_type": "stream",
     "text": [
      "/data_ssd/ysQiu/anaconda3/envs/scDOT/lib/python3.12/site-packages/scanpy/preprocessing/_scale.py:318: UserWarning: Received a view of an AnnData. Making a copy.\n",
      "  view_to_actual(adata)\n"
     ]
    },
    {
     "name": "stdout",
     "output_type": "stream",
     "text": [
      "precessing 5-th data\n"
     ]
    },
    {
     "name": "stderr",
     "output_type": "stream",
     "text": [
      "/data_ssd/ysQiu/anaconda3/envs/scDOT/lib/python3.12/site-packages/scanpy/preprocessing/_scale.py:318: UserWarning: Received a view of an AnnData. Making a copy.\n",
      "  view_to_actual(adata)\n"
     ]
    },
    {
     "name": "stdout",
     "output_type": "stream",
     "text": [
      "precessing 6-th data\n"
     ]
    },
    {
     "name": "stderr",
     "output_type": "stream",
     "text": [
      "/data_ssd/ysQiu/anaconda3/envs/scDOT/lib/python3.12/site-packages/scanpy/preprocessing/_scale.py:318: UserWarning: Received a view of an AnnData. Making a copy.\n",
      "  view_to_actual(adata)\n"
     ]
    },
    {
     "name": "stdout",
     "output_type": "stream",
     "text": [
      "precessing 7-th data\n"
     ]
    },
    {
     "name": "stderr",
     "output_type": "stream",
     "text": [
      "/data_ssd/ysQiu/anaconda3/envs/scDOT/lib/python3.12/site-packages/scanpy/preprocessing/_scale.py:318: UserWarning: Received a view of an AnnData. Making a copy.\n",
      "  view_to_actual(adata)\n"
     ]
    },
    {
     "name": "stdout",
     "output_type": "stream",
     "text": [
      "precessing 8-th data\n"
     ]
    },
    {
     "name": "stderr",
     "output_type": "stream",
     "text": [
      "/data_ssd/ysQiu/anaconda3/envs/scDOT/lib/python3.12/site-packages/scanpy/preprocessing/_scale.py:318: UserWarning: Received a view of an AnnData. Making a copy.\n",
      "  view_to_actual(adata)\n"
     ]
    },
    {
     "name": "stdout",
     "output_type": "stream",
     "text": [
      "precessing 9-th data\n"
     ]
    },
    {
     "name": "stderr",
     "output_type": "stream",
     "text": [
      "/data_ssd/ysQiu/anaconda3/envs/scDOT/lib/python3.12/site-packages/scanpy/preprocessing/_scale.py:318: UserWarning: Received a view of an AnnData. Making a copy.\n",
      "  view_to_actual(adata)\n"
     ]
    },
    {
     "name": "stdout",
     "output_type": "stream",
     "text": [
      "precessing 10-th data\n"
     ]
    },
    {
     "name": "stderr",
     "output_type": "stream",
     "text": [
      "/data_ssd/ysQiu/anaconda3/envs/scDOT/lib/python3.12/site-packages/scanpy/preprocessing/_scale.py:318: UserWarning: Received a view of an AnnData. Making a copy.\n",
      "  view_to_actual(adata)\n"
     ]
    },
    {
     "name": "stdout",
     "output_type": "stream",
     "text": [
      "precessing 11-th data\n"
     ]
    },
    {
     "name": "stderr",
     "output_type": "stream",
     "text": [
      "/data_ssd/ysQiu/anaconda3/envs/scDOT/lib/python3.12/site-packages/scanpy/preprocessing/_scale.py:318: UserWarning: Received a view of an AnnData. Making a copy.\n",
      "  view_to_actual(adata)\n"
     ]
    },
    {
     "name": "stdout",
     "output_type": "stream",
     "text": [
      "更新初始的权重 [0.08888552 0.09538292 0.08297939 0.10315192 0.09896425 0.09661016\n",
      " 0.08317578 0.07707023 0.10702346 0.07896498 0.0877914 ]\n",
      "tt [np.float64(1.3536553307060544e-10), np.float64(1.2564356746908434e-10), np.float64(1.4487740800727634e-10), np.float64(1.1496621413877038e-10), np.float64(1.206554332494996e-10), np.float64(1.240308716677562e-10), np.float64(1.4442065141940533e-10), np.float64(1.5488840642619842e-10), np.float64(1.0992184675300874e-10), np.float64(1.5157069831027814e-10), np.float64(1.3710535139765668e-10)]\n",
      "新一轮的权重为： [0.08793401 0.09685656 0.08000032 0.10770251 0.10178038 0.09842183\n",
      " 0.08036439 0.0724222  0.11324098 0.07485057 0.08642624]\n",
      "损失函数值： 0.3755325801632233 loss1： 1.3099867681163507e-10 loss2： 0.37553258027242153 loss3： -2.4019694122220363e-10\n",
      "tt [np.float64(1.5079623166715207e-10), np.float64(1.3990232559713925e-10), np.float64(1.6148302646263133e-10), np.float64(1.2797458346974355e-10), np.float64(1.3434618580427574e-10), np.float64(1.3815287998618421e-10), np.float64(1.6090895915601473e-10), np.float64(1.726313622895129e-10), np.float64(1.223317244882216e-10), np.float64(1.6892166158701404e-10), np.float64(1.527669078791556e-10)]\n",
      "新一轮的权重为： [0.08747493 0.09747996 0.07865857 0.10975148 0.1030155  0.09919005\n",
      " 0.07910873 0.07040701 0.1160839  0.07305191 0.08577796]\n",
      "损失函数值： 0.3753257372572173 loss1： 1.456477061586456e-10 loss2： 0.3753257373515114 loss3： -2.399418255825753e-10\n",
      "阈值为：0.7, The annotation accuracy of Chromium is (np.float64(0.9027431421446384), np.float64(0.8690773067331671))\n",
      "Time for data loading is 100.25632524490356\n",
      "precessing 0-th data\n"
     ]
    },
    {
     "name": "stderr",
     "output_type": "stream",
     "text": [
      "/data_ssd/ysQiu/anaconda3/envs/scDOT/lib/python3.12/site-packages/numpy/_core/fromnumeric.py:84: FutureWarning: The behavior of DataFrame.sum with axis=None is deprecated, in a future version this will reduce over both axes and return a scalar. To retain the old behavior, pass axis=0 (or do not pass axis)\n",
      "  return reduction(axis=axis, out=out, **passkwargs)\n",
      "/data_ssd/ysQiu/anaconda3/envs/scDOT/lib/python3.12/site-packages/scanpy/preprocessing/_scale.py:318: UserWarning: Received a view of an AnnData. Making a copy.\n",
      "  view_to_actual(adata)\n"
     ]
    },
    {
     "name": "stdout",
     "output_type": "stream",
     "text": [
      "precessing 1-th data\n"
     ]
    },
    {
     "name": "stderr",
     "output_type": "stream",
     "text": [
      "/data_ssd/ysQiu/anaconda3/envs/scDOT/lib/python3.12/site-packages/scanpy/preprocessing/_scale.py:318: UserWarning: Received a view of an AnnData. Making a copy.\n",
      "  view_to_actual(adata)\n"
     ]
    },
    {
     "name": "stdout",
     "output_type": "stream",
     "text": [
      "precessing 2-th data\n"
     ]
    },
    {
     "name": "stderr",
     "output_type": "stream",
     "text": [
      "/data_ssd/ysQiu/anaconda3/envs/scDOT/lib/python3.12/site-packages/scanpy/preprocessing/_scale.py:318: UserWarning: Received a view of an AnnData. Making a copy.\n",
      "  view_to_actual(adata)\n"
     ]
    },
    {
     "name": "stdout",
     "output_type": "stream",
     "text": [
      "precessing 3-th data\n"
     ]
    },
    {
     "name": "stderr",
     "output_type": "stream",
     "text": [
      "/data_ssd/ysQiu/anaconda3/envs/scDOT/lib/python3.12/site-packages/scanpy/preprocessing/_scale.py:318: UserWarning: Received a view of an AnnData. Making a copy.\n",
      "  view_to_actual(adata)\n"
     ]
    },
    {
     "name": "stdout",
     "output_type": "stream",
     "text": [
      "precessing 4-th data\n"
     ]
    },
    {
     "name": "stderr",
     "output_type": "stream",
     "text": [
      "/data_ssd/ysQiu/anaconda3/envs/scDOT/lib/python3.12/site-packages/scanpy/preprocessing/_scale.py:318: UserWarning: Received a view of an AnnData. Making a copy.\n",
      "  view_to_actual(adata)\n"
     ]
    },
    {
     "name": "stdout",
     "output_type": "stream",
     "text": [
      "precessing 5-th data\n"
     ]
    },
    {
     "name": "stderr",
     "output_type": "stream",
     "text": [
      "/data_ssd/ysQiu/anaconda3/envs/scDOT/lib/python3.12/site-packages/scanpy/preprocessing/_scale.py:318: UserWarning: Received a view of an AnnData. Making a copy.\n",
      "  view_to_actual(adata)\n"
     ]
    },
    {
     "name": "stdout",
     "output_type": "stream",
     "text": [
      "precessing 6-th data\n"
     ]
    },
    {
     "name": "stderr",
     "output_type": "stream",
     "text": [
      "/data_ssd/ysQiu/anaconda3/envs/scDOT/lib/python3.12/site-packages/scanpy/preprocessing/_scale.py:318: UserWarning: Received a view of an AnnData. Making a copy.\n",
      "  view_to_actual(adata)\n"
     ]
    },
    {
     "name": "stdout",
     "output_type": "stream",
     "text": [
      "precessing 7-th data\n"
     ]
    },
    {
     "name": "stderr",
     "output_type": "stream",
     "text": [
      "/data_ssd/ysQiu/anaconda3/envs/scDOT/lib/python3.12/site-packages/scanpy/preprocessing/_scale.py:318: UserWarning: Received a view of an AnnData. Making a copy.\n",
      "  view_to_actual(adata)\n"
     ]
    },
    {
     "name": "stdout",
     "output_type": "stream",
     "text": [
      "precessing 8-th data\n"
     ]
    },
    {
     "name": "stderr",
     "output_type": "stream",
     "text": [
      "/data_ssd/ysQiu/anaconda3/envs/scDOT/lib/python3.12/site-packages/scanpy/preprocessing/_scale.py:318: UserWarning: Received a view of an AnnData. Making a copy.\n",
      "  view_to_actual(adata)\n"
     ]
    },
    {
     "name": "stdout",
     "output_type": "stream",
     "text": [
      "precessing 9-th data\n"
     ]
    },
    {
     "name": "stderr",
     "output_type": "stream",
     "text": [
      "/data_ssd/ysQiu/anaconda3/envs/scDOT/lib/python3.12/site-packages/scanpy/preprocessing/_scale.py:318: UserWarning: Received a view of an AnnData. Making a copy.\n",
      "  view_to_actual(adata)\n"
     ]
    },
    {
     "name": "stdout",
     "output_type": "stream",
     "text": [
      "precessing 10-th data\n"
     ]
    },
    {
     "name": "stderr",
     "output_type": "stream",
     "text": [
      "/data_ssd/ysQiu/anaconda3/envs/scDOT/lib/python3.12/site-packages/scanpy/preprocessing/_scale.py:318: UserWarning: Received a view of an AnnData. Making a copy.\n",
      "  view_to_actual(adata)\n"
     ]
    },
    {
     "name": "stdout",
     "output_type": "stream",
     "text": [
      "precessing 11-th data\n"
     ]
    },
    {
     "name": "stderr",
     "output_type": "stream",
     "text": [
      "/data_ssd/ysQiu/anaconda3/envs/scDOT/lib/python3.12/site-packages/scanpy/preprocessing/_scale.py:318: UserWarning: Received a view of an AnnData. Making a copy.\n",
      "  view_to_actual(adata)\n"
     ]
    },
    {
     "name": "stdout",
     "output_type": "stream",
     "text": [
      "更新初始的权重 [0.08888552 0.09538292 0.08297939 0.10315192 0.09896425 0.09661016\n",
      " 0.08317578 0.07707023 0.10702346 0.07896498 0.0877914 ]\n",
      "tt [np.float64(1.3536553307060544e-10), np.float64(1.2564356746908434e-10), np.float64(1.4487740800727634e-10), np.float64(1.1496621413877038e-10), np.float64(1.206554332494996e-10), np.float64(1.240308716677562e-10), np.float64(1.4442065141940533e-10), np.float64(1.5488840642619842e-10), np.float64(1.0992184675300874e-10), np.float64(1.5157069831027814e-10), np.float64(1.3710535139765668e-10)]\n",
      "新一轮的权重为： [0.08793401 0.09685656 0.08000032 0.10770251 0.10178038 0.09842183\n",
      " 0.08036439 0.0724222  0.11324098 0.07485057 0.08642624]\n",
      "损失函数值： 0.3755325801632233 loss1： 1.3099867681163507e-10 loss2： 0.37553258027242153 loss3： -2.4019694122220363e-10\n",
      "tt [np.float64(1.5079623166715207e-10), np.float64(1.3990232559713925e-10), np.float64(1.6148302646263133e-10), np.float64(1.2797458346974355e-10), np.float64(1.3434618580427574e-10), np.float64(1.3815287998618421e-10), np.float64(1.6090895915601473e-10), np.float64(1.726313622895129e-10), np.float64(1.223317244882216e-10), np.float64(1.6892166158701404e-10), np.float64(1.527669078791556e-10)]\n",
      "新一轮的权重为： [0.08747493 0.09747996 0.07865857 0.10975148 0.1030155  0.09919005\n",
      " 0.07910873 0.07040701 0.1160839  0.07305191 0.08577796]\n",
      "损失函数值： 0.3753257372572173 loss1： 1.456477061586456e-10 loss2： 0.3753257373515114 loss3： -2.399418255825753e-10\n",
      "阈值为：0.8, The annotation accuracy of Chromium is (np.float64(0.9027431421446384), np.float64(0.8360349127182045))\n",
      "Time for data loading is 100.44570708274841\n",
      "precessing 0-th data\n"
     ]
    },
    {
     "name": "stderr",
     "output_type": "stream",
     "text": [
      "/data_ssd/ysQiu/anaconda3/envs/scDOT/lib/python3.12/site-packages/numpy/_core/fromnumeric.py:84: FutureWarning: The behavior of DataFrame.sum with axis=None is deprecated, in a future version this will reduce over both axes and return a scalar. To retain the old behavior, pass axis=0 (or do not pass axis)\n",
      "  return reduction(axis=axis, out=out, **passkwargs)\n",
      "/data_ssd/ysQiu/anaconda3/envs/scDOT/lib/python3.12/site-packages/scanpy/preprocessing/_scale.py:318: UserWarning: Received a view of an AnnData. Making a copy.\n",
      "  view_to_actual(adata)\n"
     ]
    },
    {
     "name": "stdout",
     "output_type": "stream",
     "text": [
      "precessing 1-th data\n"
     ]
    },
    {
     "name": "stderr",
     "output_type": "stream",
     "text": [
      "/data_ssd/ysQiu/anaconda3/envs/scDOT/lib/python3.12/site-packages/scanpy/preprocessing/_scale.py:318: UserWarning: Received a view of an AnnData. Making a copy.\n",
      "  view_to_actual(adata)\n"
     ]
    },
    {
     "name": "stdout",
     "output_type": "stream",
     "text": [
      "precessing 2-th data\n"
     ]
    },
    {
     "name": "stderr",
     "output_type": "stream",
     "text": [
      "/data_ssd/ysQiu/anaconda3/envs/scDOT/lib/python3.12/site-packages/scanpy/preprocessing/_scale.py:318: UserWarning: Received a view of an AnnData. Making a copy.\n",
      "  view_to_actual(adata)\n"
     ]
    },
    {
     "name": "stdout",
     "output_type": "stream",
     "text": [
      "precessing 3-th data\n"
     ]
    },
    {
     "name": "stderr",
     "output_type": "stream",
     "text": [
      "/data_ssd/ysQiu/anaconda3/envs/scDOT/lib/python3.12/site-packages/scanpy/preprocessing/_scale.py:318: UserWarning: Received a view of an AnnData. Making a copy.\n",
      "  view_to_actual(adata)\n"
     ]
    },
    {
     "name": "stdout",
     "output_type": "stream",
     "text": [
      "precessing 4-th data\n"
     ]
    },
    {
     "name": "stderr",
     "output_type": "stream",
     "text": [
      "/data_ssd/ysQiu/anaconda3/envs/scDOT/lib/python3.12/site-packages/scanpy/preprocessing/_scale.py:318: UserWarning: Received a view of an AnnData. Making a copy.\n",
      "  view_to_actual(adata)\n"
     ]
    },
    {
     "name": "stdout",
     "output_type": "stream",
     "text": [
      "precessing 5-th data\n"
     ]
    },
    {
     "name": "stderr",
     "output_type": "stream",
     "text": [
      "/data_ssd/ysQiu/anaconda3/envs/scDOT/lib/python3.12/site-packages/scanpy/preprocessing/_scale.py:318: UserWarning: Received a view of an AnnData. Making a copy.\n",
      "  view_to_actual(adata)\n"
     ]
    },
    {
     "name": "stdout",
     "output_type": "stream",
     "text": [
      "precessing 6-th data\n"
     ]
    },
    {
     "name": "stderr",
     "output_type": "stream",
     "text": [
      "/data_ssd/ysQiu/anaconda3/envs/scDOT/lib/python3.12/site-packages/scanpy/preprocessing/_scale.py:318: UserWarning: Received a view of an AnnData. Making a copy.\n",
      "  view_to_actual(adata)\n"
     ]
    },
    {
     "name": "stdout",
     "output_type": "stream",
     "text": [
      "precessing 7-th data\n"
     ]
    },
    {
     "name": "stderr",
     "output_type": "stream",
     "text": [
      "/data_ssd/ysQiu/anaconda3/envs/scDOT/lib/python3.12/site-packages/scanpy/preprocessing/_scale.py:318: UserWarning: Received a view of an AnnData. Making a copy.\n",
      "  view_to_actual(adata)\n"
     ]
    },
    {
     "name": "stdout",
     "output_type": "stream",
     "text": [
      "precessing 8-th data\n"
     ]
    },
    {
     "name": "stderr",
     "output_type": "stream",
     "text": [
      "/data_ssd/ysQiu/anaconda3/envs/scDOT/lib/python3.12/site-packages/scanpy/preprocessing/_scale.py:318: UserWarning: Received a view of an AnnData. Making a copy.\n",
      "  view_to_actual(adata)\n"
     ]
    },
    {
     "name": "stdout",
     "output_type": "stream",
     "text": [
      "precessing 9-th data\n"
     ]
    },
    {
     "name": "stderr",
     "output_type": "stream",
     "text": [
      "/data_ssd/ysQiu/anaconda3/envs/scDOT/lib/python3.12/site-packages/scanpy/preprocessing/_scale.py:318: UserWarning: Received a view of an AnnData. Making a copy.\n",
      "  view_to_actual(adata)\n"
     ]
    },
    {
     "name": "stdout",
     "output_type": "stream",
     "text": [
      "precessing 10-th data\n"
     ]
    },
    {
     "name": "stderr",
     "output_type": "stream",
     "text": [
      "/data_ssd/ysQiu/anaconda3/envs/scDOT/lib/python3.12/site-packages/scanpy/preprocessing/_scale.py:318: UserWarning: Received a view of an AnnData. Making a copy.\n",
      "  view_to_actual(adata)\n"
     ]
    },
    {
     "name": "stdout",
     "output_type": "stream",
     "text": [
      "precessing 11-th data\n"
     ]
    },
    {
     "name": "stderr",
     "output_type": "stream",
     "text": [
      "/data_ssd/ysQiu/anaconda3/envs/scDOT/lib/python3.12/site-packages/scanpy/preprocessing/_scale.py:318: UserWarning: Received a view of an AnnData. Making a copy.\n",
      "  view_to_actual(adata)\n"
     ]
    },
    {
     "name": "stdout",
     "output_type": "stream",
     "text": [
      "更新初始的权重 [0.08888552 0.09538292 0.08297939 0.10315192 0.09896425 0.09661016\n",
      " 0.08317578 0.07707023 0.10702346 0.07896498 0.0877914 ]\n",
      "tt [np.float64(1.3536553307060544e-10), np.float64(1.2564356746908434e-10), np.float64(1.4487740800727634e-10), np.float64(1.1496621413877038e-10), np.float64(1.206554332494996e-10), np.float64(1.240308716677562e-10), np.float64(1.4442065141940533e-10), np.float64(1.5488840642619842e-10), np.float64(1.0992184675300874e-10), np.float64(1.5157069831027814e-10), np.float64(1.3710535139765668e-10)]\n",
      "新一轮的权重为： [0.08793401 0.09685656 0.08000032 0.10770251 0.10178038 0.09842183\n",
      " 0.08036439 0.0724222  0.11324098 0.07485057 0.08642624]\n",
      "损失函数值： 0.3755325801632233 loss1： 1.3099867681163507e-10 loss2： 0.37553258027242153 loss3： -2.4019694122220363e-10\n",
      "tt [np.float64(1.5079623166715207e-10), np.float64(1.3990232559713925e-10), np.float64(1.6148302646263133e-10), np.float64(1.2797458346974355e-10), np.float64(1.3434618580427574e-10), np.float64(1.3815287998618421e-10), np.float64(1.6090895915601473e-10), np.float64(1.726313622895129e-10), np.float64(1.223317244882216e-10), np.float64(1.6892166158701404e-10), np.float64(1.527669078791556e-10)]\n",
      "新一轮的权重为： [0.08747493 0.09747996 0.07865857 0.10975148 0.1030155  0.09919005\n",
      " 0.07910873 0.07040701 0.1160839  0.07305191 0.08577796]\n",
      "损失函数值： 0.3753257372572173 loss1： 1.456477061586456e-10 loss2： 0.3753257373515114 loss3： -2.399418255825753e-10\n",
      "阈值为：0.9, The annotation accuracy of Chromium is (np.float64(0.9027431421446384), np.float64(0.7824189526184538))\n"
     ]
    }
   ],
   "source": [
    "threshold: float\n",
    "for threshold in range(1, 10):\n",
    "    threshold /= 10\n",
    "    M, x, y_hat, score, y_hat_with_unseen = scDOT(\n",
    "                                                loc=\"/data_ssd/ysQiu/TanWeiqiang/scDOT/datasets/pbmc/pbmc/\",\n",
    "                                                # loc = \"/data_ssd/ysQiu/TanWeiqiang/mtANN/pancreas/\", \n",
    "                                                ref_name=ref_name, \n",
    "                                                query_name=query_name,\n",
    "                                                threshold=threshold\n",
    "                                            )\n",
    "    \n",
    "    file_name = \"/data_ssd/ysQiu/TanWeiqiang/scDOT/datasets/pbmc/pbmc/\" + f\"{query_name}_label.csv\"\n",
    "    # file_name = \"/data_ssd/ysQiu/TanWeiqiang/mtANN/pancreas/\" + f\"{query_name}_label.csv\"\n",
    "    y_true = pd.read_csv(filepath_or_buffer=file_name, header=0, index_col=0).iloc[:,0].values # 原数据集用\n",
    "    # y_true = pd.read_csv(filepath_or_buffer=file_name, header=0, index_col=False).iloc[:,0].values # 换数据集用\n",
    "    accuracy1 = np.sum(y_hat == y_true) / y_true.shape[0]\n",
    "    accuracy2 = np.sum(y_hat_with_unseen == y_true) / y_true.shape[0]\n",
    "    print(f\"阈值为：{threshold}, The annotation accuracy of {query_name} is {accuracy1, accuracy2}\")"
   ]
  },
  {
   "cell_type": "markdown",
   "id": "renewable-bryan",
   "metadata": {},
   "source": [
    "# Run scDOT"
   ]
  },
  {
   "cell_type": "code",
   "execution_count": null,
   "id": "hazardous-tactics",
   "metadata": {},
   "outputs": [
    {
     "name": "stdout",
     "output_type": "stream",
     "text": [
      "Time for data loading is 31.19144630432129\n",
      "precessing 0-th data\n"
     ]
    },
    {
     "name": "stderr",
     "output_type": "stream",
     "text": [
      "/data_ssd/ysQiu/anaconda3/envs/scDOT/lib/python3.12/site-packages/numpy/_core/fromnumeric.py:84: FutureWarning: The behavior of DataFrame.sum with axis=None is deprecated, in a future version this will reduce over both axes and return a scalar. To retain the old behavior, pass axis=0 (or do not pass axis)\n",
      "  return reduction(axis=axis, out=out, **passkwargs)\n",
      "/data_ssd/ysQiu/anaconda3/envs/scDOT/lib/python3.12/site-packages/scanpy/preprocessing/_scale.py:318: UserWarning: Received a view of an AnnData. Making a copy.\n",
      "  view_to_actual(adata)\n"
     ]
    },
    {
     "name": "stdout",
     "output_type": "stream",
     "text": [
      "precessing 1-th data\n"
     ]
    },
    {
     "name": "stderr",
     "output_type": "stream",
     "text": [
      "/data_ssd/ysQiu/anaconda3/envs/scDOT/lib/python3.12/site-packages/scanpy/preprocessing/_scale.py:318: UserWarning: Received a view of an AnnData. Making a copy.\n",
      "  view_to_actual(adata)\n"
     ]
    },
    {
     "name": "stdout",
     "output_type": "stream",
     "text": [
      "precessing 2-th data\n"
     ]
    },
    {
     "name": "stderr",
     "output_type": "stream",
     "text": [
      "/data_ssd/ysQiu/anaconda3/envs/scDOT/lib/python3.12/site-packages/scanpy/preprocessing/_scale.py:318: UserWarning: Received a view of an AnnData. Making a copy.\n",
      "  view_to_actual(adata)\n"
     ]
    },
    {
     "name": "stdout",
     "output_type": "stream",
     "text": [
      "precessing 3-th data\n"
     ]
    },
    {
     "name": "stderr",
     "output_type": "stream",
     "text": [
      "/data_ssd/ysQiu/anaconda3/envs/scDOT/lib/python3.12/site-packages/scanpy/preprocessing/_scale.py:318: UserWarning: Received a view of an AnnData. Making a copy.\n",
      "  view_to_actual(adata)\n"
     ]
    },
    {
     "name": "stdout",
     "output_type": "stream",
     "text": [
      "更新初始的权重 [0.33058722 0.33171419 0.33769858]\n",
      "tt [np.float64(6.456596592582068e-12), np.float64(6.434538294938957e-12), np.float64(6.319258866439781e-12)]\n",
      "新一轮的权重为： [0.33056858 0.33170752 0.33772391]\n",
      "损失函数值： 0.3671803035395404 loss1： 6.4028974557579e-12 loss2： 0.36718030354018294 loss3： -7.045420691367541e-12\n",
      "tt [np.float64(6.456729178628879e-12), np.float64(6.434669335241238e-12), np.float64(6.31938623105152e-12)]\n",
      "新一轮的权重为： [0.33056846 0.33170748 0.33772406]\n",
      "损失函数值： 0.3671803003750814 loss1： 6.403027745197687e-12 loss2： 0.3671803003757238 loss3： -7.045420670899435e-12\n"
     ]
    }
   ],
   "source": [
    "M, x, y_hat, score, y_hat_with_unseen = scDOT(\n",
    "                                                # loc=\"/data_ssd/ysQiu/TanWeiqiang/scDOT/datasets/pbmc/pbmc/\",\n",
    "                                                loc = \"/data_ssd/ysQiu/TanWeiqiang/mtANN/pancreas/\", \n",
    "                                                ref_name=ref_name, \n",
    "                                                query_name=query_name\n",
    "                                            )"
   ]
  },
  {
   "cell_type": "code",
   "execution_count": null,
   "id": "05b0d955",
   "metadata": {},
   "outputs": [
    {
     "data": {
      "text/plain": [
       "array([0.40414048, 0.8983637 , 0.81880242, ..., 0.73165356, 0.68801954,\n",
       "       0.97735908])"
      ]
     },
     "execution_count": 5,
     "metadata": {},
     "output_type": "execute_result"
    }
   ],
   "source": [
    "score"
   ]
  },
  {
   "cell_type": "markdown",
   "id": "republican-hearts",
   "metadata": {},
   "source": [
    "# Evaluation"
   ]
  },
  {
   "cell_type": "code",
   "execution_count": null,
   "id": "average-eugene",
   "metadata": {},
   "outputs": [
    {
     "name": "stdout",
     "output_type": "stream",
     "text": [
      "The annotation accuracy of xin is (np.float64(0.8873994638069705), np.float64(0.7392761394101877))\n"
     ]
    }
   ],
   "source": [
    "# file_name = \"/data_ssd/ysQiu/TanWeiqiang/scDOT/datasets/pbmc/pbmc/\" + f\"{query_name}_label.csv\"\n",
    "file_name = \"/data_ssd/ysQiu/TanWeiqiang/mtANN/pancreas/\" + f\"{query_name}_label.csv\"\n",
    "# y_true = pd.read_csv(filepath_or_buffer=file_name, header=0, index_col=0).iloc[:,0].values # 原数据集用\n",
    "y_true = pd.read_csv(filepath_or_buffer=file_name, header=0, index_col=False).iloc[:,0].values # 换数据集用\n",
    "accuracy1 = np.sum(y_hat == y_true) / y_true.shape[0]\n",
    "accuracy2 = np.sum(y_hat_with_unseen == y_true) / y_true.shape[0]\n",
    "print(f\"The annotation accuracy of {query_name} is {accuracy1, accuracy2}\")"
   ]
  },
  {
   "cell_type": "code",
   "execution_count": null,
   "id": "08b1fa5d",
   "metadata": {},
   "outputs": [],
   "source": [
    "# pd.DataFrame(data=x).to_csv(path_or_buf='./not_modified.csv', index=False)\n",
    "# pd.DataFrame(data=M).to_csv(path_or_buf='./cost_not_modified.csv', index=False)"
   ]
  },
  {
   "cell_type": "code",
   "execution_count": null,
   "id": "7f232c1d",
   "metadata": {},
   "outputs": [
    {
     "data": {
      "application/vnd.microsoft.datawrangler.viewer.v0+json": {
       "columns": [
        {
         "name": "index",
         "rawType": "int64",
         "type": "integer"
        },
        {
         "name": "pred",
         "rawType": "object",
         "type": "string"
        },
        {
         "name": "true",
         "rawType": "object",
         "type": "string"
        }
       ],
       "conversionMethod": "pd.DataFrame",
       "ref": "51c59056-45f5-46d6-afd0-53343facdf83",
       "rows": [
        [
         "0",
         "unseen",
         "beta"
        ],
        [
         "1",
         "beta",
         "beta"
        ],
        [
         "2",
         "beta",
         "beta"
        ],
        [
         "3",
         "beta",
         "beta"
        ],
        [
         "4",
         "beta",
         "beta"
        ],
        [
         "5",
         "beta",
         "beta"
        ],
        [
         "6",
         "beta",
         "beta"
        ],
        [
         "7",
         "unseen",
         "beta"
        ],
        [
         "8",
         "beta",
         "beta"
        ],
        [
         "9",
         "beta",
         "beta"
        ],
        [
         "10",
         "beta",
         "beta"
        ],
        [
         "11",
         "beta",
         "beta"
        ],
        [
         "12",
         "beta",
         "beta"
        ],
        [
         "13",
         "beta",
         "beta"
        ],
        [
         "14",
         "beta",
         "beta"
        ],
        [
         "15",
         "beta",
         "beta"
        ],
        [
         "16",
         "beta",
         "beta"
        ],
        [
         "17",
         "beta",
         "beta"
        ],
        [
         "18",
         "unseen",
         "beta"
        ],
        [
         "19",
         "beta",
         "beta"
        ],
        [
         "20",
         "beta",
         "beta"
        ],
        [
         "21",
         "unseen",
         "beta"
        ],
        [
         "22",
         "beta",
         "beta"
        ],
        [
         "23",
         "beta",
         "beta"
        ],
        [
         "24",
         "unseen",
         "beta"
        ],
        [
         "25",
         "beta",
         "beta"
        ],
        [
         "26",
         "beta",
         "beta"
        ],
        [
         "27",
         "beta",
         "beta"
        ],
        [
         "28",
         "beta",
         "beta"
        ],
        [
         "29",
         "unseen",
         "beta"
        ],
        [
         "30",
         "beta",
         "beta"
        ],
        [
         "31",
         "beta",
         "beta"
        ],
        [
         "32",
         "beta",
         "beta"
        ],
        [
         "33",
         "beta",
         "beta"
        ],
        [
         "34",
         "beta",
         "beta"
        ],
        [
         "35",
         "beta",
         "beta"
        ],
        [
         "36",
         "beta",
         "beta"
        ],
        [
         "37",
         "beta",
         "beta"
        ],
        [
         "38",
         "beta",
         "beta"
        ],
        [
         "39",
         "beta",
         "beta"
        ],
        [
         "40",
         "beta",
         "beta"
        ],
        [
         "41",
         "beta",
         "beta"
        ],
        [
         "42",
         "beta",
         "beta"
        ],
        [
         "43",
         "beta",
         "beta"
        ],
        [
         "44",
         "unseen",
         "beta"
        ],
        [
         "45",
         "unseen",
         "beta"
        ],
        [
         "46",
         "unseen",
         "beta"
        ],
        [
         "47",
         "unseen",
         "beta"
        ],
        [
         "48",
         "beta",
         "beta"
        ],
        [
         "49",
         "beta",
         "beta"
        ]
       ],
       "shape": {
        "columns": 2,
        "rows": 1492
       }
      },
      "text/html": [
       "<div>\n",
       "<style scoped>\n",
       "    .dataframe tbody tr th:only-of-type {\n",
       "        vertical-align: middle;\n",
       "    }\n",
       "\n",
       "    .dataframe tbody tr th {\n",
       "        vertical-align: top;\n",
       "    }\n",
       "\n",
       "    .dataframe thead th {\n",
       "        text-align: right;\n",
       "    }\n",
       "</style>\n",
       "<table border=\"1\" class=\"dataframe\">\n",
       "  <thead>\n",
       "    <tr style=\"text-align: right;\">\n",
       "      <th></th>\n",
       "      <th>pred</th>\n",
       "      <th>true</th>\n",
       "    </tr>\n",
       "  </thead>\n",
       "  <tbody>\n",
       "    <tr>\n",
       "      <th>0</th>\n",
       "      <td>unseen</td>\n",
       "      <td>beta</td>\n",
       "    </tr>\n",
       "    <tr>\n",
       "      <th>1</th>\n",
       "      <td>beta</td>\n",
       "      <td>beta</td>\n",
       "    </tr>\n",
       "    <tr>\n",
       "      <th>2</th>\n",
       "      <td>beta</td>\n",
       "      <td>beta</td>\n",
       "    </tr>\n",
       "    <tr>\n",
       "      <th>3</th>\n",
       "      <td>beta</td>\n",
       "      <td>beta</td>\n",
       "    </tr>\n",
       "    <tr>\n",
       "      <th>4</th>\n",
       "      <td>beta</td>\n",
       "      <td>beta</td>\n",
       "    </tr>\n",
       "    <tr>\n",
       "      <th>...</th>\n",
       "      <td>...</td>\n",
       "      <td>...</td>\n",
       "    </tr>\n",
       "    <tr>\n",
       "      <th>1487</th>\n",
       "      <td>gamma</td>\n",
       "      <td>gamma</td>\n",
       "    </tr>\n",
       "    <tr>\n",
       "      <th>1488</th>\n",
       "      <td>gamma</td>\n",
       "      <td>gamma</td>\n",
       "    </tr>\n",
       "    <tr>\n",
       "      <th>1489</th>\n",
       "      <td>ductal</td>\n",
       "      <td>gamma</td>\n",
       "    </tr>\n",
       "    <tr>\n",
       "      <th>1490</th>\n",
       "      <td>gamma</td>\n",
       "      <td>gamma</td>\n",
       "    </tr>\n",
       "    <tr>\n",
       "      <th>1491</th>\n",
       "      <td>gamma</td>\n",
       "      <td>gamma</td>\n",
       "    </tr>\n",
       "  </tbody>\n",
       "</table>\n",
       "<p>1492 rows × 2 columns</p>\n",
       "</div>"
      ],
      "text/plain": [
       "        pred   true\n",
       "0     unseen   beta\n",
       "1       beta   beta\n",
       "2       beta   beta\n",
       "3       beta   beta\n",
       "4       beta   beta\n",
       "...      ...    ...\n",
       "1487   gamma  gamma\n",
       "1488   gamma  gamma\n",
       "1489  ductal  gamma\n",
       "1490   gamma  gamma\n",
       "1491   gamma  gamma\n",
       "\n",
       "[1492 rows x 2 columns]"
      ]
     },
     "execution_count": 8,
     "metadata": {},
     "output_type": "execute_result"
    }
   ],
   "source": [
    "res = pd.DataFrame(data={\"pred\": y_hat_with_unseen, \"true\": y_true})\n",
    "res"
   ]
  },
  {
   "cell_type": "code",
   "execution_count": null,
   "id": "594ad76a",
   "metadata": {},
   "outputs": [],
   "source": [
    "from sklearn.metrics import classification_report, ConfusionMatrixDisplay\n",
    "import matplotlib.pyplot as plt"
   ]
  },
  {
   "cell_type": "code",
   "execution_count": null,
   "id": "8a343b35",
   "metadata": {},
   "outputs": [
    {
     "data": {
      "text/plain": [
       "{'acinar',\n",
       " 'alpha',\n",
       " 'beta',\n",
       " 'delta',\n",
       " 'ductal',\n",
       " 'gamma',\n",
       " 'macrophage',\n",
       " 'mast',\n",
       " 'unseen'}"
      ]
     },
     "execution_count": 10,
     "metadata": {},
     "output_type": "execute_result"
    }
   ],
   "source": [
    "type_list = set(res[\"pred\"].to_list())\n",
    "# type_list.add(\"Megakaryocytes\")\n",
    "type_list = type_list.union(set(res[\"true\"].to_list()))\n",
    "type_list"
   ]
  },
  {
   "cell_type": "code",
   "execution_count": null,
   "id": "ddca837c",
   "metadata": {},
   "outputs": [
    {
     "name": "stdout",
     "output_type": "stream",
     "text": [
      "              precision    recall  f1-score   support\n",
      "\n",
      "      ductal       0.00      0.00      0.00         0\n",
      "       gamma       1.00      0.66      0.80       886\n",
      "        mast       1.00      0.85      0.92       472\n",
      "      unseen       0.98      0.82      0.89        49\n",
      "       alpha       0.00      0.00      0.00         0\n",
      "  macrophage       1.00      0.86      0.92        85\n",
      "       delta       0.00      0.00      0.00         0\n",
      "      acinar       0.00      0.00      0.00         0\n",
      "        beta       0.00      0.00      0.00         0\n",
      "\n",
      "    accuracy                           0.74      1492\n",
      "   macro avg       0.44      0.35      0.39      1492\n",
      "weighted avg       1.00      0.74      0.85      1492\n",
      "\n"
     ]
    },
    {
     "name": "stderr",
     "output_type": "stream",
     "text": [
      "/data_ssd/ysQiu/anaconda3/envs/scDOT/lib/python3.12/site-packages/sklearn/metrics/_classification.py:1531: UndefinedMetricWarning: Recall is ill-defined and being set to 0.0 in labels with no true samples. Use `zero_division` parameter to control this behavior.\n",
      "  _warn_prf(average, modifier, f\"{metric.capitalize()} is\", len(result))\n",
      "/data_ssd/ysQiu/anaconda3/envs/scDOT/lib/python3.12/site-packages/sklearn/metrics/_classification.py:1531: UndefinedMetricWarning: Recall is ill-defined and being set to 0.0 in labels with no true samples. Use `zero_division` parameter to control this behavior.\n",
      "  _warn_prf(average, modifier, f\"{metric.capitalize()} is\", len(result))\n",
      "/data_ssd/ysQiu/anaconda3/envs/scDOT/lib/python3.12/site-packages/sklearn/metrics/_classification.py:1531: UndefinedMetricWarning: Recall is ill-defined and being set to 0.0 in labels with no true samples. Use `zero_division` parameter to control this behavior.\n",
      "  _warn_prf(average, modifier, f\"{metric.capitalize()} is\", len(result))\n"
     ]
    }
   ],
   "source": [
    "report = classification_report(y_true=res['true'], y_pred=res['pred'], target_names=type_list)\n",
    "print(report)"
   ]
  }
 ],
 "metadata": {
  "kernelspec": {
   "display_name": "scDOT",
   "language": "python",
   "name": "python3"
  },
  "language_info": {
   "codemirror_mode": {
    "name": "ipython",
    "version": 3
   },
   "file_extension": ".py",
   "mimetype": "text/x-python",
   "name": "python",
   "nbconvert_exporter": "python",
   "pygments_lexer": "ipython3",
   "version": "3.12.4"
  }
 },
 "nbformat": 4,
 "nbformat_minor": 5
}
