{
 "cells": [
  {
   "cell_type": "markdown",
   "id": "greater-conference",
   "metadata": {},
   "source": [
    "# Import packages"
   ]
  },
  {
   "cell_type": "code",
   "execution_count": 7,
   "id": "extreme-gossip",
   "metadata": {},
   "outputs": [],
   "source": [
    "# /data_ssd/ysQiu/anaconda3/envs/scDOT/bin/python\n",
    "\n",
    "import pandas as pd\n",
    "import numpy as np\n",
    "from scDOT_modified import scDOT"
   ]
  },
  {
   "cell_type": "markdown",
   "id": "healthy-segment",
   "metadata": {},
   "source": [
    "# Load file names of data"
   ]
  },
  {
   "cell_type": "code",
   "execution_count": 8,
   "id": "absolute-russian",
   "metadata": {},
   "outputs": [
    {
     "data": {
      "text/plain": [
       "'Chromium'"
      ]
     },
     "execution_count": 8,
     "metadata": {},
     "output_type": "execute_result"
    }
   ],
   "source": [
    "batch = pd.read_csv(filepath_or_buffer=\"/data_ssd/ysQiu/TanWeiqiang/scDOT/datasets/pbmc/pbmc/batch.csv\", header=0, index_col=False).x.values\n",
    "query_name = batch[0]\n",
    "# ref_name = batch[1:5] # 全部读取内存不足\n",
    "# ref_name = batch[1:] # 全部读取\n",
    "# \"\"\"\n",
    "ref_name = batch[[\n",
    "                    # 0, \n",
    "                    1, \n",
    "                    2, \n",
    "                    3, \n",
    "                    4, \n",
    "                    5, \n",
    "                    6, \n",
    "                    7, \n",
    "                    8, \n",
    "                    9, \n",
    "                    10, \n",
    "                    11\n",
    "                ]]\n",
    "# \"\"\"\n",
    "query_name"
   ]
  },
  {
   "cell_type": "code",
   "execution_count": 3,
   "id": "020532e3",
   "metadata": {},
   "outputs": [],
   "source": [
    "# batch = pd.read_csv(filepath_or_buffer=\"/data_ssd/ysQiu/TanWeiqiang/mtANN/pancreas/batch.csv\", header=0, index_col=False).x.values\n",
    "# query_name = batch[3]\n",
    "# # ref_name = batch[1:5] # 全部读取内存不足\n",
    "# # ref_name = batch[1:] # 全部读取\n",
    "# # \"\"\"\n",
    "# ref_name = batch[[\n",
    "#                     0, \n",
    "#                     1, \n",
    "#                     2, \n",
    "#                     # 3, \n",
    "#                 ]]\n",
    "# # \"\"\"\n",
    "# query_name"
   ]
  },
  {
   "cell_type": "code",
   "execution_count": 4,
   "id": "34b70451",
   "metadata": {},
   "outputs": [],
   "source": [
    "# name: str = batch[4]\n",
    "# file_name = \"./datasets/pbmc/pbmc/\" + f\"{name}_label.csv\"\n",
    "# y_true = pd.read_csv(filepath_or_buffer=file_name, header=0, index_col=0).iloc[:,0].values\n",
    "# tmp = pd.DataFrame(data=y_true)\n",
    "# print(name)\n",
    "# tmp[0].unique()"
   ]
  },
  {
   "cell_type": "code",
   "execution_count": 9,
   "id": "748e6720",
   "metadata": {},
   "outputs": [
    {
     "data": {
      "text/plain": [
       "array(['inDrop', 'C1HT-medium', 'C1HT-small', 'CEL-Seq2', 'ddSEQ',\n",
       "       'Drop-Seq', 'ICELL8', 'MARS-Seq', 'Quartz-Seq2', 'mcSCRB-Seq',\n",
       "       'Smart-Seq2'], dtype=object)"
      ]
     },
     "execution_count": 9,
     "metadata": {},
     "output_type": "execute_result"
    }
   ],
   "source": [
    "ref_name"
   ]
  },
  {
   "cell_type": "markdown",
   "id": "4b156d07",
   "metadata": {},
   "source": [
    "# 阈值敏感程度"
   ]
  },
  {
   "cell_type": "code",
   "execution_count": 10,
   "id": "a9625914",
   "metadata": {},
   "outputs": [
    {
     "name": "stdout",
     "output_type": "stream",
     "text": [
      "Time for data loading is 107.68253445625305\n",
      "precessing 0-th data\n"
     ]
    },
    {
     "name": "stderr",
     "output_type": "stream",
     "text": [
      "/data_ssd/ysQiu/anaconda3/envs/scDOT/lib/python3.12/site-packages/numpy/_core/fromnumeric.py:84: FutureWarning: The behavior of DataFrame.sum with axis=None is deprecated, in a future version this will reduce over both axes and return a scalar. To retain the old behavior, pass axis=0 (or do not pass axis)\n",
      "  return reduction(axis=axis, out=out, **passkwargs)\n",
      "/data_ssd/ysQiu/anaconda3/envs/scDOT/lib/python3.12/site-packages/scanpy/preprocessing/_scale.py:318: UserWarning: Received a view of an AnnData. Making a copy.\n",
      "  view_to_actual(adata)\n"
     ]
    },
    {
     "name": "stdout",
     "output_type": "stream",
     "text": [
      "precessing 1-th data\n"
     ]
    },
    {
     "name": "stderr",
     "output_type": "stream",
     "text": [
      "/data_ssd/ysQiu/anaconda3/envs/scDOT/lib/python3.12/site-packages/scanpy/preprocessing/_scale.py:318: UserWarning: Received a view of an AnnData. Making a copy.\n",
      "  view_to_actual(adata)\n"
     ]
    },
    {
     "name": "stdout",
     "output_type": "stream",
     "text": [
      "precessing 2-th data\n"
     ]
    },
    {
     "name": "stderr",
     "output_type": "stream",
     "text": [
      "/data_ssd/ysQiu/anaconda3/envs/scDOT/lib/python3.12/site-packages/scanpy/preprocessing/_scale.py:318: UserWarning: Received a view of an AnnData. Making a copy.\n",
      "  view_to_actual(adata)\n"
     ]
    },
    {
     "name": "stdout",
     "output_type": "stream",
     "text": [
      "precessing 3-th data\n"
     ]
    },
    {
     "name": "stderr",
     "output_type": "stream",
     "text": [
      "/data_ssd/ysQiu/anaconda3/envs/scDOT/lib/python3.12/site-packages/scanpy/preprocessing/_scale.py:318: UserWarning: Received a view of an AnnData. Making a copy.\n",
      "  view_to_actual(adata)\n"
     ]
    },
    {
     "name": "stdout",
     "output_type": "stream",
     "text": [
      "precessing 4-th data\n"
     ]
    },
    {
     "name": "stderr",
     "output_type": "stream",
     "text": [
      "/data_ssd/ysQiu/anaconda3/envs/scDOT/lib/python3.12/site-packages/scanpy/preprocessing/_scale.py:318: UserWarning: Received a view of an AnnData. Making a copy.\n",
      "  view_to_actual(adata)\n"
     ]
    },
    {
     "name": "stdout",
     "output_type": "stream",
     "text": [
      "precessing 5-th data\n"
     ]
    },
    {
     "name": "stderr",
     "output_type": "stream",
     "text": [
      "/data_ssd/ysQiu/anaconda3/envs/scDOT/lib/python3.12/site-packages/scanpy/preprocessing/_scale.py:318: UserWarning: Received a view of an AnnData. Making a copy.\n",
      "  view_to_actual(adata)\n"
     ]
    },
    {
     "name": "stdout",
     "output_type": "stream",
     "text": [
      "precessing 6-th data\n"
     ]
    },
    {
     "name": "stderr",
     "output_type": "stream",
     "text": [
      "/data_ssd/ysQiu/anaconda3/envs/scDOT/lib/python3.12/site-packages/scanpy/preprocessing/_scale.py:318: UserWarning: Received a view of an AnnData. Making a copy.\n",
      "  view_to_actual(adata)\n"
     ]
    },
    {
     "name": "stdout",
     "output_type": "stream",
     "text": [
      "precessing 7-th data\n"
     ]
    },
    {
     "name": "stderr",
     "output_type": "stream",
     "text": [
      "/data_ssd/ysQiu/anaconda3/envs/scDOT/lib/python3.12/site-packages/scanpy/preprocessing/_scale.py:318: UserWarning: Received a view of an AnnData. Making a copy.\n",
      "  view_to_actual(adata)\n"
     ]
    },
    {
     "name": "stdout",
     "output_type": "stream",
     "text": [
      "precessing 8-th data\n"
     ]
    },
    {
     "name": "stderr",
     "output_type": "stream",
     "text": [
      "/data_ssd/ysQiu/anaconda3/envs/scDOT/lib/python3.12/site-packages/scanpy/preprocessing/_scale.py:318: UserWarning: Received a view of an AnnData. Making a copy.\n",
      "  view_to_actual(adata)\n"
     ]
    },
    {
     "name": "stdout",
     "output_type": "stream",
     "text": [
      "precessing 9-th data\n"
     ]
    },
    {
     "name": "stderr",
     "output_type": "stream",
     "text": [
      "/data_ssd/ysQiu/anaconda3/envs/scDOT/lib/python3.12/site-packages/scanpy/preprocessing/_scale.py:318: UserWarning: Received a view of an AnnData. Making a copy.\n",
      "  view_to_actual(adata)\n"
     ]
    },
    {
     "name": "stdout",
     "output_type": "stream",
     "text": [
      "precessing 10-th data\n"
     ]
    },
    {
     "name": "stderr",
     "output_type": "stream",
     "text": [
      "/data_ssd/ysQiu/anaconda3/envs/scDOT/lib/python3.12/site-packages/scanpy/preprocessing/_scale.py:318: UserWarning: Received a view of an AnnData. Making a copy.\n",
      "  view_to_actual(adata)\n"
     ]
    },
    {
     "name": "stdout",
     "output_type": "stream",
     "text": [
      "precessing 11-th data\n"
     ]
    },
    {
     "name": "stderr",
     "output_type": "stream",
     "text": [
      "/data_ssd/ysQiu/anaconda3/envs/scDOT/lib/python3.12/site-packages/scanpy/preprocessing/_scale.py:318: UserWarning: Received a view of an AnnData. Making a copy.\n",
      "  view_to_actual(adata)\n"
     ]
    },
    {
     "name": "stdout",
     "output_type": "stream",
     "text": [
      "-------------------------------\n",
      "单个标签的运输成本矩阵形状 (1, 1604)\n",
      "单个标签的运输成本矩阵形状 (1, 1604)\n",
      "单个标签的运输成本矩阵形状 (1, 1604)\n",
      "单个标签的运输成本矩阵形状 (1, 1604)\n",
      "单个标签的运输成本矩阵形状 (1, 1604)\n",
      "单个标签的运输成本矩阵形状 (1, 1604)\n",
      "单个标签的运输成本矩阵形状 (1, 1604)\n",
      "单个标签的运输成本矩阵形状 (1, 1604)\n",
      "单个标签的运输成本矩阵形状 (1, 1604)\n",
      "-------------------------------\n",
      "单个标签的运输成本矩阵形状 (1, 1604)\n",
      "单个标签的运输成本矩阵形状 (1, 1604)\n",
      "单个标签的运输成本矩阵形状 (1, 1604)\n",
      "单个标签的运输成本矩阵形状 (1, 1604)\n",
      "单个标签的运输成本矩阵形状 (1, 1604)\n",
      "单个标签的运输成本矩阵形状 (1, 1604)\n",
      "单个标签的运输成本矩阵形状 (1, 1604)\n",
      "单个标签的运输成本矩阵形状 (1, 1604)\n",
      "单个标签的运输成本矩阵形状 (1, 1604)\n",
      "-------------------------------\n",
      "单个标签的运输成本矩阵形状 (1, 1604)\n",
      "单个标签的运输成本矩阵形状 (1, 1604)\n",
      "单个标签的运输成本矩阵形状 (1, 1604)\n",
      "单个标签的运输成本矩阵形状 (1, 1604)\n",
      "单个标签的运输成本矩阵形状 (1, 1604)\n",
      "单个标签的运输成本矩阵形状 (1, 1604)\n",
      "单个标签的运输成本矩阵形状 (1, 1604)\n",
      "单个标签的运输成本矩阵形状 (1, 1604)\n",
      "单个标签的运输成本矩阵形状 (1, 1604)\n",
      "-------------------------------\n",
      "单个标签的运输成本矩阵形状 (1, 1604)\n",
      "单个标签的运输成本矩阵形状 (1, 1604)\n",
      "单个标签的运输成本矩阵形状 (1, 1604)\n",
      "单个标签的运输成本矩阵形状 (1, 1604)\n",
      "单个标签的运输成本矩阵形状 (1, 1604)\n",
      "单个标签的运输成本矩阵形状 (1, 1604)\n",
      "单个标签的运输成本矩阵形状 (1, 1604)\n",
      "单个标签的运输成本矩阵形状 (1, 1604)\n",
      "单个标签的运输成本矩阵形状 (1, 1604)\n",
      "-------------------------------\n",
      "单个标签的运输成本矩阵形状 (1, 1604)\n",
      "单个标签的运输成本矩阵形状 (1, 1604)\n",
      "单个标签的运输成本矩阵形状 (1, 1604)\n",
      "单个标签的运输成本矩阵形状 (1, 1604)\n",
      "单个标签的运输成本矩阵形状 (1, 1604)\n",
      "单个标签的运输成本矩阵形状 (1, 1604)\n",
      "单个标签的运输成本矩阵形状 (1, 1604)\n",
      "单个标签的运输成本矩阵形状 (1, 1604)\n",
      "单个标签的运输成本矩阵形状 (1, 1604)\n",
      "-------------------------------\n",
      "单个标签的运输成本矩阵形状 (1, 1604)\n",
      "单个标签的运输成本矩阵形状 (1, 1604)\n",
      "单个标签的运输成本矩阵形状 (1, 1604)\n",
      "单个标签的运输成本矩阵形状 (1, 1604)\n",
      "单个标签的运输成本矩阵形状 (1, 1604)\n",
      "单个标签的运输成本矩阵形状 (1, 1604)\n",
      "单个标签的运输成本矩阵形状 (1, 1604)\n",
      "单个标签的运输成本矩阵形状 (1, 1604)\n",
      "单个标签的运输成本矩阵形状 (1, 1604)\n",
      "-------------------------------\n",
      "单个标签的运输成本矩阵形状 (1, 1604)\n",
      "单个标签的运输成本矩阵形状 (1, 1604)\n",
      "单个标签的运输成本矩阵形状 (1, 1604)\n",
      "单个标签的运输成本矩阵形状 (1, 1604)\n",
      "单个标签的运输成本矩阵形状 (1, 1604)\n",
      "单个标签的运输成本矩阵形状 (1, 1604)\n",
      "单个标签的运输成本矩阵形状 (1, 1604)\n",
      "单个标签的运输成本矩阵形状 (1, 1604)\n",
      "单个标签的运输成本矩阵形状 (1, 1604)\n",
      "-------------------------------\n",
      "单个标签的运输成本矩阵形状 (1, 1604)\n",
      "单个标签的运输成本矩阵形状 (1, 1604)\n",
      "单个标签的运输成本矩阵形状 (1, 1604)\n",
      "单个标签的运输成本矩阵形状 (1, 1604)\n",
      "单个标签的运输成本矩阵形状 (1, 1604)\n",
      "单个标签的运输成本矩阵形状 (1, 1604)\n",
      "单个标签的运输成本矩阵形状 (1, 1604)\n",
      "单个标签的运输成本矩阵形状 (1, 1604)\n",
      "单个标签的运输成本矩阵形状 (1, 1604)\n",
      "-------------------------------\n",
      "单个标签的运输成本矩阵形状 (1, 1604)\n",
      "单个标签的运输成本矩阵形状 (1, 1604)\n",
      "单个标签的运输成本矩阵形状 (1, 1604)\n",
      "单个标签的运输成本矩阵形状 (1, 1604)\n",
      "单个标签的运输成本矩阵形状 (1, 1604)\n",
      "单个标签的运输成本矩阵形状 (1, 1604)\n",
      "单个标签的运输成本矩阵形状 (1, 1604)\n",
      "单个标签的运输成本矩阵形状 (1, 1604)\n",
      "单个标签的运输成本矩阵形状 (1, 1604)\n",
      "-------------------------------\n",
      "单个标签的运输成本矩阵形状 (1, 1604)\n",
      "单个标签的运输成本矩阵形状 (1, 1604)\n",
      "单个标签的运输成本矩阵形状 (1, 1604)\n",
      "单个标签的运输成本矩阵形状 (1, 1604)\n",
      "单个标签的运输成本矩阵形状 (1, 1604)\n",
      "单个标签的运输成本矩阵形状 (1, 1604)\n",
      "单个标签的运输成本矩阵形状 (1, 1604)\n",
      "单个标签的运输成本矩阵形状 (1, 1604)\n",
      "单个标签的运输成本矩阵形状 (1, 1604)\n",
      "-------------------------------\n",
      "单个标签的运输成本矩阵形状 (1, 1604)\n",
      "单个标签的运输成本矩阵形状 (1, 1604)\n",
      "单个标签的运输成本矩阵形状 (1, 1604)\n",
      "单个标签的运输成本矩阵形状 (1, 1604)\n",
      "单个标签的运输成本矩阵形状 (1, 1604)\n",
      "单个标签的运输成本矩阵形状 (1, 1604)\n",
      "单个标签的运输成本矩阵形状 (1, 1604)\n",
      "单个标签的运输成本矩阵形状 (1, 1604)\n",
      "第1个运输成本矩阵的形状为：(1604, 9)\n",
      "第2个运输成本矩阵的形状为：(1604, 9)\n",
      "第3个运输成本矩阵的形状为：(1604, 9)\n",
      "第4个运输成本矩阵的形状为：(1604, 9)\n",
      "第5个运输成本矩阵的形状为：(1604, 9)\n",
      "第6个运输成本矩阵的形状为：(1604, 9)\n",
      "第7个运输成本矩阵的形状为：(1604, 9)\n",
      "第8个运输成本矩阵的形状为：(1604, 9)\n",
      "第9个运输成本矩阵的形状为：(1604, 9)\n",
      "第10个运输成本矩阵的形状为：(1604, 9)\n",
      "第11个运输成本矩阵的形状为：(1604, 9)\n",
      "更新初始的权重 [0.08888552 0.09538292 0.08297939 0.10315192 0.09896425 0.09661016\n",
      " 0.08317578 0.07707023 0.10702346 0.07896498 0.0877914 ]\n",
      "tt [np.float64(1.0059515924036386e-10), np.float64(9.349814462523959e-11), np.float64(1.0751178554931737e-10), np.float64(8.562120987676901e-11), np.float64(8.979029736037231e-11), np.float64(9.221210001703774e-11), np.float64(1.0727398224715872e-10), np.float64(1.1494326415560414e-10), np.float64(8.191475589931884e-11), np.float64(1.125000676736236e-10), np.float64(1.0184110767173743e-10)]\n",
      "新一轮的权重为： [0.08888552 0.09538292 0.08297939 0.10315192 0.09896425 0.09661016\n",
      " 0.08317578 0.07707023 0.10702346 0.07896498 0.0877914 ]\n",
      "损失函数值： 0.3760268667526234 loss1： 9.777992846017627e-11 loss2： 0.37602686689550935 loss3： -2.4066589773539516e-10\n",
      "tt [np.float64(1.3536553307060544e-10), np.float64(1.2564356746908434e-10), np.float64(1.4487740800727634e-10), np.float64(1.1496621413877038e-10), np.float64(1.206554332494996e-10), np.float64(1.240308716677562e-10), np.float64(1.4442065141940533e-10), np.float64(1.5488840642619842e-10), np.float64(1.0992184675300874e-10), np.float64(1.5157069831027814e-10), np.float64(1.3710535139765668e-10)]\n",
      "新一轮的权重为： [0.08793401 0.09685656 0.08000032 0.10770251 0.10178038 0.09842183\n",
      " 0.08036439 0.0724222  0.11324098 0.07485057 0.08642624]\n",
      "损失函数值： 0.3755325801632233 loss1： 1.3099867681163507e-10 loss2： 0.37553258027242153 loss3： -2.4019694122220363e-10\n",
      "tt [np.float64(8.278805746416384e-15), np.float64(1.0781083122588492e-14), np.float64(1.599801361350268e-14), np.float64(9.557753159312744e-15), np.float64(3.1603852924795864e-15), np.float64(5.833753940023148e-15), np.float64(1.933468554122194e-14), np.float64(1.570749144623301e-15), np.float64(7.146215472660581e-15), np.float64(8.274894631164586e-15), np.float64(1.0467901963054855e-14), np.float64(1.619775299687203e-14), np.float64(9.601353282079124e-15), np.float64(3.1269189982499954e-15), np.float64(5.674338367671855e-15), np.float64(1.8629831968234695e-14), np.float64(1.5323088567392756e-15), np.float64(7.127504970715967e-15), np.float64(8.775812955974826e-15), np.float64(1.1240122130672581e-14), np.float64(1.726606325920728e-14), np.float64(1.0120598822134561e-14), np.float64(3.310864822051556e-15), np.float64(6.043114483818399e-15), np.float64(2.162508443347045e-14), np.float64(1.6572251795884621e-15), np.float64(7.54917579524693e-15), np.float64(7.97641083313231e-15), np.float64(1.0224300339428199e-14), np.float64(1.5444048114029095e-14), np.float64(9.337828622428168e-15), np.float64(3.0319858262914925e-15), np.float64(5.513051608403539e-15), np.float64(1.752898879897962e-14), np.float64(1.5178703123150806e-15), np.float64(6.969130985626456e-15), np.float64(8.169374319465661e-15), np.float64(1.0400560083844366e-14), np.float64(1.577135564510506e-14), np.float64(9.48851372690126e-15), np.float64(3.0892617502789386e-15), np.float64(5.6449497657586495e-15), np.float64(1.8315372337770106e-14), np.float64(1.5509819619471567e-15), np.float64(7.0840526341212404e-15), np.float64(8.310081605951027e-15), np.float64(1.0734381544537372e-14), np.float64(1.6280753078871255e-14), np.float64(9.708551253331949e-15), np.float64(3.1381862516816397e-15), np.float64(5.7292287450065645e-15), np.float64(1.869201610243055e-14), np.float64(1.5369949808900318e-15), np.float64(7.23040518157653e-15), np.float64(8.63690560461394e-15), np.float64(1.1306941384317943e-14), np.float64(1.700506799730338e-14), np.float64(9.887100839625271e-15), np.float64(3.262271143927273e-15), np.float64(6.050247405304283e-15), np.float64(2.0186457117042782e-14), np.float64(1.612822642346305e-15), np.float64(7.394961701678794e-15), np.float64(8.631727386184124e-15), np.float64(1.1517533184519795e-14), np.float64(1.6799461146468187e-14), np.float64(9.962936693681258e-15), np.float64(3.2774748482712964e-15), np.float64(6.107307800119163e-15), np.float64(2.1861749027031078e-14), np.float64(1.6352230739984938e-15), np.float64(7.406751201650996e-15), np.float64(7.868867875543557e-15), np.float64(1.006995652006988e-14), np.float64(1.5389265618752244e-14), np.float64(9.191382239174535e-15), np.float64(2.9912168238630557e-15), np.float64(5.460319971528972e-15), np.float64(1.6759031217192883e-14), np.float64(1.3511193586773125e-15), np.float64(6.865868596554895e-15), np.float64(8.957645234558923e-15), np.float64(1.1639213765458527e-14), np.float64(1.756055107643222e-14), np.float64(1.0360484759706914e-14), np.float64(3.3861373175981634e-15), np.float64(6.283961707580069e-15), np.float64(2.1760170187928713e-14), np.float64(1.697186786071976e-15), np.float64(7.722768008222204e-15), np.float64(8.575399918706408e-15), np.float64(1.1176865015782226e-14), np.float64(1.6534943891635035e-14), np.float64(9.912676914428925e-15), np.float64(3.2335380435651634e-15), np.float64(5.9070782277158636e-15), np.float64(2.070841112011676e-14), np.float64(1.5663155050874401e-15), np.float64(7.366877506399041e-15)]\n",
      "更新初始的权重 [0.00931344 0.00689189 0.00367871 0.00798493 0.01724268 0.01249947\n",
      " 0.00246217 0.02087762 0.01067335 0.00931783 0.00715658 0.00359134\n",
      " 0.00794314 0.01731226 0.01274156 0.00268012 0.02097442 0.01069741\n",
      " 0.00877276 0.00652151 0.0031581  0.00746201 0.01693326 0.01218849\n",
      " 0.00186904 0.02066149 0.01016814 0.00965859 0.00736947 0.0039323\n",
      " 0.00819907 0.01751117 0.01299127 0.00305974 0.02101089 0.01090323\n",
      " 0.0094369  0.00721481 0.00378043 0.00805174 0.01739089 0.0127867\n",
      " 0.00278348 0.02092734 0.01075349 0.00927846 0.00693073 0.00355565\n",
      " 0.00784134 0.0172888  0.01265768 0.00266014 0.0209626  0.01056576\n",
      " 0.00892063 0.00646929 0.00325886 0.00767466 0.01703257 0.01217804\n",
      " 0.0022223  0.02077219 0.0103586  0.00892619 0.0063074  0.0033405\n",
      " 0.00760494 0.01700143 0.0120947  0.00181656 0.02071627 0.01034391\n",
      " 0.0097844  0.00750763 0.00395831 0.00834484 0.01759729 0.01307397\n",
      " 0.00335679 0.02143676 0.01103957 0.00858289 0.00621572 0.00304814\n",
      " 0.00724969 0.01678057 0.01184031 0.0018389  0.02056237 0.00995794\n",
      " 0.0089869  0.00657135 0.00344854 0.00765107 0.01709156 0.01238966\n",
      " 0.00208701 0.02088876 0.01039366]\n",
      "tt [np.float64(2.939142278117306e-13), np.float64(2.993195237855247e-13), np.float64(2.3555744572300165e-13), np.float64(1.0170426083241601e-13), np.float64(5.481723553434468e-14), np.float64(1.7216536159156577e-13), np.float64(9.565253104164604e-13), np.float64(9.485751599206152e-15), np.float64(1.2456353442670696e-13), np.float64(4.1893058084676565e-13), np.float64(4.3822590620311445e-13), np.float64(2.8386735365033155e-13), np.float64(1.4548961572585308e-13), np.float64(9.023426174407734e-14), np.float64(2.8042676850564573e-13), np.float64(1.2725392369693553e-12), np.float64(1.0832587721247903e-14), np.float64(1.006946850938801e-13), np.float64(2.8316847167877515e-13)]\n",
      "新一轮的权重为： [2.47059722e-15 4.71819062e-09 3.43646399e-25 9.99969828e-01\n",
      " 3.01368476e-05 3.08893945e-08 1.79579201e-22 3.20138104e-31\n",
      " 1.61364520e-50 1.31670681e-50 4.21183400e-55 4.54186411e-57\n",
      " 1.75545056e-57 4.18223514e-53 2.37378428e-32 2.30610881e-59\n",
      " 2.79119397e-57 5.19622865e-29 2.77200232e-19]\n",
      "损失函数值： 0.3776911336997828 loss1： 1.0170285091416817e-13 loss2： 0.3776911336996811 loss3： 2.862936405853504e-18\n",
      "一共迭代了1次\n",
      "查询数据集的形状为(1604, 19003)\n",
      "标签个数 9\n",
      "概率矩阵的形状(1604, 9)\n",
      "The annotation accuracy of Chromium is (np.float64(0.8946384039900249), np.float64(0.8946384039900249))\n",
      "阈值为：0.1, The annotation accuracy of Chromium is (np.float64(0.8946384039900249), np.float64(0.8946384039900249))\n",
      "Time for data loading is 107.76883101463318\n",
      "precessing 0-th data\n"
     ]
    },
    {
     "name": "stderr",
     "output_type": "stream",
     "text": [
      "/data_ssd/ysQiu/anaconda3/envs/scDOT/lib/python3.12/site-packages/numpy/_core/fromnumeric.py:84: FutureWarning: The behavior of DataFrame.sum with axis=None is deprecated, in a future version this will reduce over both axes and return a scalar. To retain the old behavior, pass axis=0 (or do not pass axis)\n",
      "  return reduction(axis=axis, out=out, **passkwargs)\n",
      "/data_ssd/ysQiu/anaconda3/envs/scDOT/lib/python3.12/site-packages/scanpy/preprocessing/_scale.py:318: UserWarning: Received a view of an AnnData. Making a copy.\n",
      "  view_to_actual(adata)\n"
     ]
    },
    {
     "name": "stdout",
     "output_type": "stream",
     "text": [
      "precessing 1-th data\n"
     ]
    },
    {
     "name": "stderr",
     "output_type": "stream",
     "text": [
      "/data_ssd/ysQiu/anaconda3/envs/scDOT/lib/python3.12/site-packages/scanpy/preprocessing/_scale.py:318: UserWarning: Received a view of an AnnData. Making a copy.\n",
      "  view_to_actual(adata)\n"
     ]
    },
    {
     "name": "stdout",
     "output_type": "stream",
     "text": [
      "precessing 2-th data\n"
     ]
    },
    {
     "name": "stderr",
     "output_type": "stream",
     "text": [
      "/data_ssd/ysQiu/anaconda3/envs/scDOT/lib/python3.12/site-packages/scanpy/preprocessing/_scale.py:318: UserWarning: Received a view of an AnnData. Making a copy.\n",
      "  view_to_actual(adata)\n"
     ]
    },
    {
     "name": "stdout",
     "output_type": "stream",
     "text": [
      "precessing 3-th data\n"
     ]
    },
    {
     "name": "stderr",
     "output_type": "stream",
     "text": [
      "/data_ssd/ysQiu/anaconda3/envs/scDOT/lib/python3.12/site-packages/scanpy/preprocessing/_scale.py:318: UserWarning: Received a view of an AnnData. Making a copy.\n",
      "  view_to_actual(adata)\n"
     ]
    },
    {
     "name": "stdout",
     "output_type": "stream",
     "text": [
      "precessing 4-th data\n"
     ]
    },
    {
     "name": "stderr",
     "output_type": "stream",
     "text": [
      "/data_ssd/ysQiu/anaconda3/envs/scDOT/lib/python3.12/site-packages/scanpy/preprocessing/_scale.py:318: UserWarning: Received a view of an AnnData. Making a copy.\n",
      "  view_to_actual(adata)\n"
     ]
    },
    {
     "name": "stdout",
     "output_type": "stream",
     "text": [
      "precessing 5-th data\n"
     ]
    },
    {
     "name": "stderr",
     "output_type": "stream",
     "text": [
      "/data_ssd/ysQiu/anaconda3/envs/scDOT/lib/python3.12/site-packages/scanpy/preprocessing/_scale.py:318: UserWarning: Received a view of an AnnData. Making a copy.\n",
      "  view_to_actual(adata)\n"
     ]
    },
    {
     "name": "stdout",
     "output_type": "stream",
     "text": [
      "precessing 6-th data\n"
     ]
    },
    {
     "name": "stderr",
     "output_type": "stream",
     "text": [
      "/data_ssd/ysQiu/anaconda3/envs/scDOT/lib/python3.12/site-packages/scanpy/preprocessing/_scale.py:318: UserWarning: Received a view of an AnnData. Making a copy.\n",
      "  view_to_actual(adata)\n"
     ]
    },
    {
     "name": "stdout",
     "output_type": "stream",
     "text": [
      "precessing 7-th data\n"
     ]
    },
    {
     "name": "stderr",
     "output_type": "stream",
     "text": [
      "/data_ssd/ysQiu/anaconda3/envs/scDOT/lib/python3.12/site-packages/scanpy/preprocessing/_scale.py:318: UserWarning: Received a view of an AnnData. Making a copy.\n",
      "  view_to_actual(adata)\n"
     ]
    },
    {
     "name": "stdout",
     "output_type": "stream",
     "text": [
      "precessing 8-th data\n"
     ]
    },
    {
     "name": "stderr",
     "output_type": "stream",
     "text": [
      "/data_ssd/ysQiu/anaconda3/envs/scDOT/lib/python3.12/site-packages/scanpy/preprocessing/_scale.py:318: UserWarning: Received a view of an AnnData. Making a copy.\n",
      "  view_to_actual(adata)\n"
     ]
    },
    {
     "name": "stdout",
     "output_type": "stream",
     "text": [
      "precessing 9-th data\n"
     ]
    },
    {
     "name": "stderr",
     "output_type": "stream",
     "text": [
      "/data_ssd/ysQiu/anaconda3/envs/scDOT/lib/python3.12/site-packages/scanpy/preprocessing/_scale.py:318: UserWarning: Received a view of an AnnData. Making a copy.\n",
      "  view_to_actual(adata)\n"
     ]
    },
    {
     "name": "stdout",
     "output_type": "stream",
     "text": [
      "precessing 10-th data\n"
     ]
    },
    {
     "name": "stderr",
     "output_type": "stream",
     "text": [
      "/data_ssd/ysQiu/anaconda3/envs/scDOT/lib/python3.12/site-packages/scanpy/preprocessing/_scale.py:318: UserWarning: Received a view of an AnnData. Making a copy.\n",
      "  view_to_actual(adata)\n"
     ]
    },
    {
     "name": "stdout",
     "output_type": "stream",
     "text": [
      "precessing 11-th data\n"
     ]
    },
    {
     "name": "stderr",
     "output_type": "stream",
     "text": [
      "/data_ssd/ysQiu/anaconda3/envs/scDOT/lib/python3.12/site-packages/scanpy/preprocessing/_scale.py:318: UserWarning: Received a view of an AnnData. Making a copy.\n",
      "  view_to_actual(adata)\n"
     ]
    },
    {
     "name": "stdout",
     "output_type": "stream",
     "text": [
      "-------------------------------\n",
      "单个标签的运输成本矩阵形状 (1, 1604)\n",
      "单个标签的运输成本矩阵形状 (1, 1604)\n",
      "单个标签的运输成本矩阵形状 (1, 1604)\n",
      "单个标签的运输成本矩阵形状 (1, 1604)\n",
      "单个标签的运输成本矩阵形状 (1, 1604)\n",
      "单个标签的运输成本矩阵形状 (1, 1604)\n",
      "单个标签的运输成本矩阵形状 (1, 1604)\n",
      "单个标签的运输成本矩阵形状 (1, 1604)\n",
      "单个标签的运输成本矩阵形状 (1, 1604)\n",
      "-------------------------------\n",
      "单个标签的运输成本矩阵形状 (1, 1604)\n",
      "单个标签的运输成本矩阵形状 (1, 1604)\n",
      "单个标签的运输成本矩阵形状 (1, 1604)\n",
      "单个标签的运输成本矩阵形状 (1, 1604)\n",
      "单个标签的运输成本矩阵形状 (1, 1604)\n",
      "单个标签的运输成本矩阵形状 (1, 1604)\n",
      "单个标签的运输成本矩阵形状 (1, 1604)\n",
      "单个标签的运输成本矩阵形状 (1, 1604)\n",
      "单个标签的运输成本矩阵形状 (1, 1604)\n",
      "-------------------------------\n",
      "单个标签的运输成本矩阵形状 (1, 1604)\n",
      "单个标签的运输成本矩阵形状 (1, 1604)\n",
      "单个标签的运输成本矩阵形状 (1, 1604)\n",
      "单个标签的运输成本矩阵形状 (1, 1604)\n",
      "单个标签的运输成本矩阵形状 (1, 1604)\n",
      "单个标签的运输成本矩阵形状 (1, 1604)\n",
      "单个标签的运输成本矩阵形状 (1, 1604)\n",
      "单个标签的运输成本矩阵形状 (1, 1604)\n",
      "单个标签的运输成本矩阵形状 (1, 1604)\n",
      "-------------------------------\n",
      "单个标签的运输成本矩阵形状 (1, 1604)\n",
      "单个标签的运输成本矩阵形状 (1, 1604)\n",
      "单个标签的运输成本矩阵形状 (1, 1604)\n",
      "单个标签的运输成本矩阵形状 (1, 1604)\n",
      "单个标签的运输成本矩阵形状 (1, 1604)\n",
      "单个标签的运输成本矩阵形状 (1, 1604)\n",
      "单个标签的运输成本矩阵形状 (1, 1604)\n",
      "单个标签的运输成本矩阵形状 (1, 1604)\n",
      "单个标签的运输成本矩阵形状 (1, 1604)\n",
      "-------------------------------\n",
      "单个标签的运输成本矩阵形状 (1, 1604)\n",
      "单个标签的运输成本矩阵形状 (1, 1604)\n",
      "单个标签的运输成本矩阵形状 (1, 1604)\n",
      "单个标签的运输成本矩阵形状 (1, 1604)\n",
      "单个标签的运输成本矩阵形状 (1, 1604)\n",
      "单个标签的运输成本矩阵形状 (1, 1604)\n",
      "单个标签的运输成本矩阵形状 (1, 1604)\n",
      "单个标签的运输成本矩阵形状 (1, 1604)\n",
      "单个标签的运输成本矩阵形状 (1, 1604)\n",
      "-------------------------------\n",
      "单个标签的运输成本矩阵形状 (1, 1604)\n",
      "单个标签的运输成本矩阵形状 (1, 1604)\n",
      "单个标签的运输成本矩阵形状 (1, 1604)\n",
      "单个标签的运输成本矩阵形状 (1, 1604)\n",
      "单个标签的运输成本矩阵形状 (1, 1604)\n",
      "单个标签的运输成本矩阵形状 (1, 1604)\n",
      "单个标签的运输成本矩阵形状 (1, 1604)\n",
      "单个标签的运输成本矩阵形状 (1, 1604)\n",
      "单个标签的运输成本矩阵形状 (1, 1604)\n",
      "-------------------------------\n",
      "单个标签的运输成本矩阵形状 (1, 1604)\n",
      "单个标签的运输成本矩阵形状 (1, 1604)\n",
      "单个标签的运输成本矩阵形状 (1, 1604)\n",
      "单个标签的运输成本矩阵形状 (1, 1604)\n",
      "单个标签的运输成本矩阵形状 (1, 1604)\n",
      "单个标签的运输成本矩阵形状 (1, 1604)\n",
      "单个标签的运输成本矩阵形状 (1, 1604)\n",
      "单个标签的运输成本矩阵形状 (1, 1604)\n",
      "单个标签的运输成本矩阵形状 (1, 1604)\n",
      "-------------------------------\n",
      "单个标签的运输成本矩阵形状 (1, 1604)\n",
      "单个标签的运输成本矩阵形状 (1, 1604)\n",
      "单个标签的运输成本矩阵形状 (1, 1604)\n",
      "单个标签的运输成本矩阵形状 (1, 1604)\n",
      "单个标签的运输成本矩阵形状 (1, 1604)\n",
      "单个标签的运输成本矩阵形状 (1, 1604)\n",
      "单个标签的运输成本矩阵形状 (1, 1604)\n",
      "单个标签的运输成本矩阵形状 (1, 1604)\n",
      "单个标签的运输成本矩阵形状 (1, 1604)\n",
      "-------------------------------\n",
      "单个标签的运输成本矩阵形状 (1, 1604)\n",
      "单个标签的运输成本矩阵形状 (1, 1604)\n",
      "单个标签的运输成本矩阵形状 (1, 1604)\n",
      "单个标签的运输成本矩阵形状 (1, 1604)\n",
      "单个标签的运输成本矩阵形状 (1, 1604)\n",
      "单个标签的运输成本矩阵形状 (1, 1604)\n",
      "单个标签的运输成本矩阵形状 (1, 1604)\n",
      "单个标签的运输成本矩阵形状 (1, 1604)\n",
      "单个标签的运输成本矩阵形状 (1, 1604)\n",
      "-------------------------------\n",
      "单个标签的运输成本矩阵形状 (1, 1604)\n",
      "单个标签的运输成本矩阵形状 (1, 1604)\n",
      "单个标签的运输成本矩阵形状 (1, 1604)\n",
      "单个标签的运输成本矩阵形状 (1, 1604)\n",
      "单个标签的运输成本矩阵形状 (1, 1604)\n",
      "单个标签的运输成本矩阵形状 (1, 1604)\n",
      "单个标签的运输成本矩阵形状 (1, 1604)\n",
      "单个标签的运输成本矩阵形状 (1, 1604)\n",
      "单个标签的运输成本矩阵形状 (1, 1604)\n",
      "-------------------------------\n",
      "单个标签的运输成本矩阵形状 (1, 1604)\n",
      "单个标签的运输成本矩阵形状 (1, 1604)\n",
      "单个标签的运输成本矩阵形状 (1, 1604)\n",
      "单个标签的运输成本矩阵形状 (1, 1604)\n",
      "单个标签的运输成本矩阵形状 (1, 1604)\n",
      "单个标签的运输成本矩阵形状 (1, 1604)\n",
      "单个标签的运输成本矩阵形状 (1, 1604)\n",
      "单个标签的运输成本矩阵形状 (1, 1604)\n",
      "第1个运输成本矩阵的形状为：(1604, 9)\n",
      "第2个运输成本矩阵的形状为：(1604, 9)\n",
      "第3个运输成本矩阵的形状为：(1604, 9)\n",
      "第4个运输成本矩阵的形状为：(1604, 9)\n",
      "第5个运输成本矩阵的形状为：(1604, 9)\n",
      "第6个运输成本矩阵的形状为：(1604, 9)\n",
      "第7个运输成本矩阵的形状为：(1604, 9)\n",
      "第8个运输成本矩阵的形状为：(1604, 9)\n",
      "第9个运输成本矩阵的形状为：(1604, 9)\n",
      "第10个运输成本矩阵的形状为：(1604, 9)\n",
      "第11个运输成本矩阵的形状为：(1604, 9)\n",
      "更新初始的权重 [0.08888552 0.09538292 0.08297939 0.10315192 0.09896425 0.09661016\n",
      " 0.08317578 0.07707023 0.10702346 0.07896498 0.0877914 ]\n",
      "tt [np.float64(1.0059515924036386e-10), np.float64(9.349814462523959e-11), np.float64(1.0751178554931737e-10), np.float64(8.562120987676901e-11), np.float64(8.979029736037231e-11), np.float64(9.221210001703774e-11), np.float64(1.0727398224715872e-10), np.float64(1.1494326415560414e-10), np.float64(8.191475589931884e-11), np.float64(1.125000676736236e-10), np.float64(1.0184110767173743e-10)]\n",
      "新一轮的权重为： [0.08888552 0.09538292 0.08297939 0.10315192 0.09896425 0.09661016\n",
      " 0.08317578 0.07707023 0.10702346 0.07896498 0.0877914 ]\n",
      "损失函数值： 0.3760268667526234 loss1： 9.777992846017627e-11 loss2： 0.37602686689550935 loss3： -2.4066589773539516e-10\n",
      "tt [np.float64(1.3536553307060544e-10), np.float64(1.2564356746908434e-10), np.float64(1.4487740800727634e-10), np.float64(1.1496621413877038e-10), np.float64(1.206554332494996e-10), np.float64(1.240308716677562e-10), np.float64(1.4442065141940533e-10), np.float64(1.5488840642619842e-10), np.float64(1.0992184675300874e-10), np.float64(1.5157069831027814e-10), np.float64(1.3710535139765668e-10)]\n",
      "新一轮的权重为： [0.08793401 0.09685656 0.08000032 0.10770251 0.10178038 0.09842183\n",
      " 0.08036439 0.0724222  0.11324098 0.07485057 0.08642624]\n",
      "损失函数值： 0.3755325801632233 loss1： 1.3099867681163507e-10 loss2： 0.37553258027242153 loss3： -2.4019694122220363e-10\n",
      "tt [np.float64(8.278805746416384e-15), np.float64(1.0781083122588492e-14), np.float64(1.599801361350268e-14), np.float64(9.557753159312744e-15), np.float64(3.1603852924795864e-15), np.float64(5.833753940023148e-15), np.float64(1.933468554122194e-14), np.float64(1.570749144623301e-15), np.float64(7.146215472660581e-15), np.float64(8.274894631164586e-15), np.float64(1.0467901963054855e-14), np.float64(1.619775299687203e-14), np.float64(9.601353282079124e-15), np.float64(3.1269189982499954e-15), np.float64(5.674338367671855e-15), np.float64(1.8629831968234695e-14), np.float64(1.5323088567392756e-15), np.float64(7.127504970715967e-15), np.float64(8.775812955974826e-15), np.float64(1.1240122130672581e-14), np.float64(1.726606325920728e-14), np.float64(1.0120598822134561e-14), np.float64(3.310864822051556e-15), np.float64(6.043114483818399e-15), np.float64(2.162508443347045e-14), np.float64(1.6572251795884621e-15), np.float64(7.54917579524693e-15), np.float64(7.97641083313231e-15), np.float64(1.0224300339428199e-14), np.float64(1.5444048114029095e-14), np.float64(9.337828622428168e-15), np.float64(3.0319858262914925e-15), np.float64(5.513051608403539e-15), np.float64(1.752898879897962e-14), np.float64(1.5178703123150806e-15), np.float64(6.969130985626456e-15), np.float64(8.169374319465661e-15), np.float64(1.0400560083844366e-14), np.float64(1.577135564510506e-14), np.float64(9.48851372690126e-15), np.float64(3.0892617502789386e-15), np.float64(5.6449497657586495e-15), np.float64(1.8315372337770106e-14), np.float64(1.5509819619471567e-15), np.float64(7.0840526341212404e-15), np.float64(8.310081605951027e-15), np.float64(1.0734381544537372e-14), np.float64(1.6280753078871255e-14), np.float64(9.708551253331949e-15), np.float64(3.1381862516816397e-15), np.float64(5.7292287450065645e-15), np.float64(1.869201610243055e-14), np.float64(1.5369949808900318e-15), np.float64(7.23040518157653e-15), np.float64(8.63690560461394e-15), np.float64(1.1306941384317943e-14), np.float64(1.700506799730338e-14), np.float64(9.887100839625271e-15), np.float64(3.262271143927273e-15), np.float64(6.050247405304283e-15), np.float64(2.0186457117042782e-14), np.float64(1.612822642346305e-15), np.float64(7.394961701678794e-15), np.float64(8.631727386184124e-15), np.float64(1.1517533184519795e-14), np.float64(1.6799461146468187e-14), np.float64(9.962936693681258e-15), np.float64(3.2774748482712964e-15), np.float64(6.107307800119163e-15), np.float64(2.1861749027031078e-14), np.float64(1.6352230739984938e-15), np.float64(7.406751201650996e-15), np.float64(7.868867875543557e-15), np.float64(1.006995652006988e-14), np.float64(1.5389265618752244e-14), np.float64(9.191382239174535e-15), np.float64(2.9912168238630557e-15), np.float64(5.460319971528972e-15), np.float64(1.6759031217192883e-14), np.float64(1.3511193586773125e-15), np.float64(6.865868596554895e-15), np.float64(8.957645234558923e-15), np.float64(1.1639213765458527e-14), np.float64(1.756055107643222e-14), np.float64(1.0360484759706914e-14), np.float64(3.3861373175981634e-15), np.float64(6.283961707580069e-15), np.float64(2.1760170187928713e-14), np.float64(1.697186786071976e-15), np.float64(7.722768008222204e-15), np.float64(8.575399918706408e-15), np.float64(1.1176865015782226e-14), np.float64(1.6534943891635035e-14), np.float64(9.912676914428925e-15), np.float64(3.2335380435651634e-15), np.float64(5.9070782277158636e-15), np.float64(2.070841112011676e-14), np.float64(1.5663155050874401e-15), np.float64(7.366877506399041e-15)]\n",
      "更新初始的权重 [0.00931344 0.00689189 0.00367871 0.00798493 0.01724268 0.01249947\n",
      " 0.00246217 0.02087762 0.01067335 0.00931783 0.00715658 0.00359134\n",
      " 0.00794314 0.01731226 0.01274156 0.00268012 0.02097442 0.01069741\n",
      " 0.00877276 0.00652151 0.0031581  0.00746201 0.01693326 0.01218849\n",
      " 0.00186904 0.02066149 0.01016814 0.00965859 0.00736947 0.0039323\n",
      " 0.00819907 0.01751117 0.01299127 0.00305974 0.02101089 0.01090323\n",
      " 0.0094369  0.00721481 0.00378043 0.00805174 0.01739089 0.0127867\n",
      " 0.00278348 0.02092734 0.01075349 0.00927846 0.00693073 0.00355565\n",
      " 0.00784134 0.0172888  0.01265768 0.00266014 0.0209626  0.01056576\n",
      " 0.00892063 0.00646929 0.00325886 0.00767466 0.01703257 0.01217804\n",
      " 0.0022223  0.02077219 0.0103586  0.00892619 0.0063074  0.0033405\n",
      " 0.00760494 0.01700143 0.0120947  0.00181656 0.02071627 0.01034391\n",
      " 0.0097844  0.00750763 0.00395831 0.00834484 0.01759729 0.01307397\n",
      " 0.00335679 0.02143676 0.01103957 0.00858289 0.00621572 0.00304814\n",
      " 0.00724969 0.01678057 0.01184031 0.0018389  0.02056237 0.00995794\n",
      " 0.0089869  0.00657135 0.00344854 0.00765107 0.01709156 0.01238966\n",
      " 0.00208701 0.02088876 0.01039366]\n",
      "tt [np.float64(2.939142278117306e-13), np.float64(2.993195237855247e-13), np.float64(2.3555744572300165e-13), np.float64(1.0170426083241601e-13), np.float64(5.481723553434468e-14), np.float64(1.7216536159156577e-13), np.float64(9.565253104164604e-13), np.float64(9.485751599206152e-15), np.float64(1.2456353442670696e-13), np.float64(4.1893058084676565e-13), np.float64(4.3822590620311445e-13), np.float64(2.8386735365033155e-13), np.float64(1.4548961572585308e-13), np.float64(9.023426174407734e-14), np.float64(2.8042676850564573e-13), np.float64(1.2725392369693553e-12), np.float64(1.0832587721247903e-14), np.float64(1.006946850938801e-13), np.float64(2.8316847167877515e-13)]\n",
      "新一轮的权重为： [2.47059722e-15 4.71819062e-09 3.43646399e-25 9.99969828e-01\n",
      " 3.01368476e-05 3.08893945e-08 1.79579201e-22 3.20138104e-31\n",
      " 1.61364520e-50 1.31670681e-50 4.21183400e-55 4.54186411e-57\n",
      " 1.75545056e-57 4.18223514e-53 2.37378428e-32 2.30610881e-59\n",
      " 2.79119397e-57 5.19622865e-29 2.77200232e-19]\n",
      "损失函数值： 0.3776911336997828 loss1： 1.0170285091416817e-13 loss2： 0.3776911336996811 loss3： 2.862936405853504e-18\n",
      "一共迭代了1次\n",
      "查询数据集的形状为(1604, 19003)\n",
      "标签个数 9\n",
      "概率矩阵的形状(1604, 9)\n",
      "The annotation accuracy of Chromium is (np.float64(0.8946384039900249), np.float64(0.8946384039900249))\n",
      "阈值为：0.2, The annotation accuracy of Chromium is (np.float64(0.8946384039900249), np.float64(0.8946384039900249))\n",
      "Time for data loading is 112.19958519935608\n",
      "precessing 0-th data\n"
     ]
    },
    {
     "name": "stderr",
     "output_type": "stream",
     "text": [
      "/data_ssd/ysQiu/anaconda3/envs/scDOT/lib/python3.12/site-packages/numpy/_core/fromnumeric.py:84: FutureWarning: The behavior of DataFrame.sum with axis=None is deprecated, in a future version this will reduce over both axes and return a scalar. To retain the old behavior, pass axis=0 (or do not pass axis)\n",
      "  return reduction(axis=axis, out=out, **passkwargs)\n",
      "/data_ssd/ysQiu/anaconda3/envs/scDOT/lib/python3.12/site-packages/scanpy/preprocessing/_scale.py:318: UserWarning: Received a view of an AnnData. Making a copy.\n",
      "  view_to_actual(adata)\n"
     ]
    },
    {
     "name": "stdout",
     "output_type": "stream",
     "text": [
      "precessing 1-th data\n"
     ]
    },
    {
     "name": "stderr",
     "output_type": "stream",
     "text": [
      "/data_ssd/ysQiu/anaconda3/envs/scDOT/lib/python3.12/site-packages/scanpy/preprocessing/_scale.py:318: UserWarning: Received a view of an AnnData. Making a copy.\n",
      "  view_to_actual(adata)\n"
     ]
    },
    {
     "name": "stdout",
     "output_type": "stream",
     "text": [
      "precessing 2-th data\n"
     ]
    },
    {
     "name": "stderr",
     "output_type": "stream",
     "text": [
      "/data_ssd/ysQiu/anaconda3/envs/scDOT/lib/python3.12/site-packages/scanpy/preprocessing/_scale.py:318: UserWarning: Received a view of an AnnData. Making a copy.\n",
      "  view_to_actual(adata)\n"
     ]
    },
    {
     "name": "stdout",
     "output_type": "stream",
     "text": [
      "precessing 3-th data\n"
     ]
    },
    {
     "name": "stderr",
     "output_type": "stream",
     "text": [
      "/data_ssd/ysQiu/anaconda3/envs/scDOT/lib/python3.12/site-packages/scanpy/preprocessing/_scale.py:318: UserWarning: Received a view of an AnnData. Making a copy.\n",
      "  view_to_actual(adata)\n"
     ]
    },
    {
     "name": "stdout",
     "output_type": "stream",
     "text": [
      "precessing 4-th data\n"
     ]
    },
    {
     "name": "stderr",
     "output_type": "stream",
     "text": [
      "/data_ssd/ysQiu/anaconda3/envs/scDOT/lib/python3.12/site-packages/scanpy/preprocessing/_scale.py:318: UserWarning: Received a view of an AnnData. Making a copy.\n",
      "  view_to_actual(adata)\n"
     ]
    },
    {
     "name": "stdout",
     "output_type": "stream",
     "text": [
      "precessing 5-th data\n"
     ]
    },
    {
     "name": "stderr",
     "output_type": "stream",
     "text": [
      "/data_ssd/ysQiu/anaconda3/envs/scDOT/lib/python3.12/site-packages/scanpy/preprocessing/_scale.py:318: UserWarning: Received a view of an AnnData. Making a copy.\n",
      "  view_to_actual(adata)\n"
     ]
    },
    {
     "name": "stdout",
     "output_type": "stream",
     "text": [
      "precessing 6-th data\n"
     ]
    },
    {
     "name": "stderr",
     "output_type": "stream",
     "text": [
      "/data_ssd/ysQiu/anaconda3/envs/scDOT/lib/python3.12/site-packages/scanpy/preprocessing/_scale.py:318: UserWarning: Received a view of an AnnData. Making a copy.\n",
      "  view_to_actual(adata)\n"
     ]
    },
    {
     "name": "stdout",
     "output_type": "stream",
     "text": [
      "precessing 7-th data\n"
     ]
    },
    {
     "name": "stderr",
     "output_type": "stream",
     "text": [
      "/data_ssd/ysQiu/anaconda3/envs/scDOT/lib/python3.12/site-packages/scanpy/preprocessing/_scale.py:318: UserWarning: Received a view of an AnnData. Making a copy.\n",
      "  view_to_actual(adata)\n"
     ]
    },
    {
     "name": "stdout",
     "output_type": "stream",
     "text": [
      "precessing 8-th data\n"
     ]
    },
    {
     "name": "stderr",
     "output_type": "stream",
     "text": [
      "/data_ssd/ysQiu/anaconda3/envs/scDOT/lib/python3.12/site-packages/scanpy/preprocessing/_scale.py:318: UserWarning: Received a view of an AnnData. Making a copy.\n",
      "  view_to_actual(adata)\n"
     ]
    },
    {
     "name": "stdout",
     "output_type": "stream",
     "text": [
      "precessing 9-th data\n"
     ]
    },
    {
     "name": "stderr",
     "output_type": "stream",
     "text": [
      "/data_ssd/ysQiu/anaconda3/envs/scDOT/lib/python3.12/site-packages/scanpy/preprocessing/_scale.py:318: UserWarning: Received a view of an AnnData. Making a copy.\n",
      "  view_to_actual(adata)\n"
     ]
    },
    {
     "name": "stdout",
     "output_type": "stream",
     "text": [
      "precessing 10-th data\n"
     ]
    },
    {
     "name": "stderr",
     "output_type": "stream",
     "text": [
      "/data_ssd/ysQiu/anaconda3/envs/scDOT/lib/python3.12/site-packages/scanpy/preprocessing/_scale.py:318: UserWarning: Received a view of an AnnData. Making a copy.\n",
      "  view_to_actual(adata)\n"
     ]
    },
    {
     "name": "stdout",
     "output_type": "stream",
     "text": [
      "precessing 11-th data\n"
     ]
    },
    {
     "name": "stderr",
     "output_type": "stream",
     "text": [
      "/data_ssd/ysQiu/anaconda3/envs/scDOT/lib/python3.12/site-packages/scanpy/preprocessing/_scale.py:318: UserWarning: Received a view of an AnnData. Making a copy.\n",
      "  view_to_actual(adata)\n"
     ]
    },
    {
     "name": "stdout",
     "output_type": "stream",
     "text": [
      "-------------------------------\n",
      "单个标签的运输成本矩阵形状 (1, 1604)\n",
      "单个标签的运输成本矩阵形状 (1, 1604)\n",
      "单个标签的运输成本矩阵形状 (1, 1604)\n",
      "单个标签的运输成本矩阵形状 (1, 1604)\n",
      "单个标签的运输成本矩阵形状 (1, 1604)\n",
      "单个标签的运输成本矩阵形状 (1, 1604)\n",
      "单个标签的运输成本矩阵形状 (1, 1604)\n",
      "单个标签的运输成本矩阵形状 (1, 1604)\n",
      "单个标签的运输成本矩阵形状 (1, 1604)\n",
      "-------------------------------\n",
      "单个标签的运输成本矩阵形状 (1, 1604)\n",
      "单个标签的运输成本矩阵形状 (1, 1604)\n",
      "单个标签的运输成本矩阵形状 (1, 1604)\n",
      "单个标签的运输成本矩阵形状 (1, 1604)\n",
      "单个标签的运输成本矩阵形状 (1, 1604)\n",
      "单个标签的运输成本矩阵形状 (1, 1604)\n",
      "单个标签的运输成本矩阵形状 (1, 1604)\n",
      "单个标签的运输成本矩阵形状 (1, 1604)\n",
      "单个标签的运输成本矩阵形状 (1, 1604)\n",
      "-------------------------------\n",
      "单个标签的运输成本矩阵形状 (1, 1604)\n",
      "单个标签的运输成本矩阵形状 (1, 1604)\n",
      "单个标签的运输成本矩阵形状 (1, 1604)\n",
      "单个标签的运输成本矩阵形状 (1, 1604)\n",
      "单个标签的运输成本矩阵形状 (1, 1604)\n",
      "单个标签的运输成本矩阵形状 (1, 1604)\n",
      "单个标签的运输成本矩阵形状 (1, 1604)\n",
      "单个标签的运输成本矩阵形状 (1, 1604)\n",
      "单个标签的运输成本矩阵形状 (1, 1604)\n",
      "-------------------------------\n",
      "单个标签的运输成本矩阵形状 (1, 1604)\n",
      "单个标签的运输成本矩阵形状 (1, 1604)\n",
      "单个标签的运输成本矩阵形状 (1, 1604)\n",
      "单个标签的运输成本矩阵形状 (1, 1604)\n",
      "单个标签的运输成本矩阵形状 (1, 1604)\n",
      "单个标签的运输成本矩阵形状 (1, 1604)\n",
      "单个标签的运输成本矩阵形状 (1, 1604)\n",
      "单个标签的运输成本矩阵形状 (1, 1604)\n",
      "单个标签的运输成本矩阵形状 (1, 1604)\n",
      "-------------------------------\n",
      "单个标签的运输成本矩阵形状 (1, 1604)\n",
      "单个标签的运输成本矩阵形状 (1, 1604)\n",
      "单个标签的运输成本矩阵形状 (1, 1604)\n",
      "单个标签的运输成本矩阵形状 (1, 1604)\n",
      "单个标签的运输成本矩阵形状 (1, 1604)\n",
      "单个标签的运输成本矩阵形状 (1, 1604)\n",
      "单个标签的运输成本矩阵形状 (1, 1604)\n",
      "单个标签的运输成本矩阵形状 (1, 1604)\n",
      "单个标签的运输成本矩阵形状 (1, 1604)\n",
      "-------------------------------\n",
      "单个标签的运输成本矩阵形状 (1, 1604)\n",
      "单个标签的运输成本矩阵形状 (1, 1604)\n",
      "单个标签的运输成本矩阵形状 (1, 1604)\n",
      "单个标签的运输成本矩阵形状 (1, 1604)\n",
      "单个标签的运输成本矩阵形状 (1, 1604)\n",
      "单个标签的运输成本矩阵形状 (1, 1604)\n",
      "单个标签的运输成本矩阵形状 (1, 1604)\n",
      "单个标签的运输成本矩阵形状 (1, 1604)\n",
      "单个标签的运输成本矩阵形状 (1, 1604)\n",
      "-------------------------------\n",
      "单个标签的运输成本矩阵形状 (1, 1604)\n",
      "单个标签的运输成本矩阵形状 (1, 1604)\n",
      "单个标签的运输成本矩阵形状 (1, 1604)\n",
      "单个标签的运输成本矩阵形状 (1, 1604)\n",
      "单个标签的运输成本矩阵形状 (1, 1604)\n",
      "单个标签的运输成本矩阵形状 (1, 1604)\n",
      "单个标签的运输成本矩阵形状 (1, 1604)\n",
      "单个标签的运输成本矩阵形状 (1, 1604)\n",
      "单个标签的运输成本矩阵形状 (1, 1604)\n",
      "-------------------------------\n",
      "单个标签的运输成本矩阵形状 (1, 1604)\n",
      "单个标签的运输成本矩阵形状 (1, 1604)\n",
      "单个标签的运输成本矩阵形状 (1, 1604)\n",
      "单个标签的运输成本矩阵形状 (1, 1604)\n",
      "单个标签的运输成本矩阵形状 (1, 1604)\n",
      "单个标签的运输成本矩阵形状 (1, 1604)\n",
      "单个标签的运输成本矩阵形状 (1, 1604)\n",
      "单个标签的运输成本矩阵形状 (1, 1604)\n",
      "单个标签的运输成本矩阵形状 (1, 1604)\n",
      "-------------------------------\n",
      "单个标签的运输成本矩阵形状 (1, 1604)\n",
      "单个标签的运输成本矩阵形状 (1, 1604)\n",
      "单个标签的运输成本矩阵形状 (1, 1604)\n",
      "单个标签的运输成本矩阵形状 (1, 1604)\n",
      "单个标签的运输成本矩阵形状 (1, 1604)\n",
      "单个标签的运输成本矩阵形状 (1, 1604)\n",
      "单个标签的运输成本矩阵形状 (1, 1604)\n",
      "单个标签的运输成本矩阵形状 (1, 1604)\n",
      "单个标签的运输成本矩阵形状 (1, 1604)\n",
      "-------------------------------\n",
      "单个标签的运输成本矩阵形状 (1, 1604)\n",
      "单个标签的运输成本矩阵形状 (1, 1604)\n",
      "单个标签的运输成本矩阵形状 (1, 1604)\n",
      "单个标签的运输成本矩阵形状 (1, 1604)\n",
      "单个标签的运输成本矩阵形状 (1, 1604)\n",
      "单个标签的运输成本矩阵形状 (1, 1604)\n",
      "单个标签的运输成本矩阵形状 (1, 1604)\n",
      "单个标签的运输成本矩阵形状 (1, 1604)\n",
      "单个标签的运输成本矩阵形状 (1, 1604)\n",
      "-------------------------------\n",
      "单个标签的运输成本矩阵形状 (1, 1604)\n",
      "单个标签的运输成本矩阵形状 (1, 1604)\n",
      "单个标签的运输成本矩阵形状 (1, 1604)\n",
      "单个标签的运输成本矩阵形状 (1, 1604)\n",
      "单个标签的运输成本矩阵形状 (1, 1604)\n",
      "单个标签的运输成本矩阵形状 (1, 1604)\n",
      "单个标签的运输成本矩阵形状 (1, 1604)\n",
      "单个标签的运输成本矩阵形状 (1, 1604)\n",
      "第1个运输成本矩阵的形状为：(1604, 9)\n",
      "第2个运输成本矩阵的形状为：(1604, 9)\n",
      "第3个运输成本矩阵的形状为：(1604, 9)\n",
      "第4个运输成本矩阵的形状为：(1604, 9)\n",
      "第5个运输成本矩阵的形状为：(1604, 9)\n",
      "第6个运输成本矩阵的形状为：(1604, 9)\n",
      "第7个运输成本矩阵的形状为：(1604, 9)\n",
      "第8个运输成本矩阵的形状为：(1604, 9)\n",
      "第9个运输成本矩阵的形状为：(1604, 9)\n",
      "第10个运输成本矩阵的形状为：(1604, 9)\n",
      "第11个运输成本矩阵的形状为：(1604, 9)\n",
      "更新初始的权重 [0.08888552 0.09538292 0.08297939 0.10315192 0.09896425 0.09661016\n",
      " 0.08317578 0.07707023 0.10702346 0.07896498 0.0877914 ]\n",
      "tt [np.float64(1.0059515924036386e-10), np.float64(9.349814462523959e-11), np.float64(1.0751178554931737e-10), np.float64(8.562120987676901e-11), np.float64(8.979029736037231e-11), np.float64(9.221210001703774e-11), np.float64(1.0727398224715872e-10), np.float64(1.1494326415560414e-10), np.float64(8.191475589931884e-11), np.float64(1.125000676736236e-10), np.float64(1.0184110767173743e-10)]\n",
      "新一轮的权重为： [0.08888552 0.09538292 0.08297939 0.10315192 0.09896425 0.09661016\n",
      " 0.08317578 0.07707023 0.10702346 0.07896498 0.0877914 ]\n",
      "损失函数值： 0.3760268667526234 loss1： 9.777992846017627e-11 loss2： 0.37602686689550935 loss3： -2.4066589773539516e-10\n",
      "tt [np.float64(1.3536553307060544e-10), np.float64(1.2564356746908434e-10), np.float64(1.4487740800727634e-10), np.float64(1.1496621413877038e-10), np.float64(1.206554332494996e-10), np.float64(1.240308716677562e-10), np.float64(1.4442065141940533e-10), np.float64(1.5488840642619842e-10), np.float64(1.0992184675300874e-10), np.float64(1.5157069831027814e-10), np.float64(1.3710535139765668e-10)]\n",
      "新一轮的权重为： [0.08793401 0.09685656 0.08000032 0.10770251 0.10178038 0.09842183\n",
      " 0.08036439 0.0724222  0.11324098 0.07485057 0.08642624]\n",
      "损失函数值： 0.3755325801632233 loss1： 1.3099867681163507e-10 loss2： 0.37553258027242153 loss3： -2.4019694122220363e-10\n",
      "tt [np.float64(8.278805746416384e-15), np.float64(1.0781083122588492e-14), np.float64(1.599801361350268e-14), np.float64(9.557753159312744e-15), np.float64(3.1603852924795864e-15), np.float64(5.833753940023148e-15), np.float64(1.933468554122194e-14), np.float64(1.570749144623301e-15), np.float64(7.146215472660581e-15), np.float64(8.274894631164586e-15), np.float64(1.0467901963054855e-14), np.float64(1.619775299687203e-14), np.float64(9.601353282079124e-15), np.float64(3.1269189982499954e-15), np.float64(5.674338367671855e-15), np.float64(1.8629831968234695e-14), np.float64(1.5323088567392756e-15), np.float64(7.127504970715967e-15), np.float64(8.775812955974826e-15), np.float64(1.1240122130672581e-14), np.float64(1.726606325920728e-14), np.float64(1.0120598822134561e-14), np.float64(3.310864822051556e-15), np.float64(6.043114483818399e-15), np.float64(2.162508443347045e-14), np.float64(1.6572251795884621e-15), np.float64(7.54917579524693e-15), np.float64(7.97641083313231e-15), np.float64(1.0224300339428199e-14), np.float64(1.5444048114029095e-14), np.float64(9.337828622428168e-15), np.float64(3.0319858262914925e-15), np.float64(5.513051608403539e-15), np.float64(1.752898879897962e-14), np.float64(1.5178703123150806e-15), np.float64(6.969130985626456e-15), np.float64(8.169374319465661e-15), np.float64(1.0400560083844366e-14), np.float64(1.577135564510506e-14), np.float64(9.48851372690126e-15), np.float64(3.0892617502789386e-15), np.float64(5.6449497657586495e-15), np.float64(1.8315372337770106e-14), np.float64(1.5509819619471567e-15), np.float64(7.0840526341212404e-15), np.float64(8.310081605951027e-15), np.float64(1.0734381544537372e-14), np.float64(1.6280753078871255e-14), np.float64(9.708551253331949e-15), np.float64(3.1381862516816397e-15), np.float64(5.7292287450065645e-15), np.float64(1.869201610243055e-14), np.float64(1.5369949808900318e-15), np.float64(7.23040518157653e-15), np.float64(8.63690560461394e-15), np.float64(1.1306941384317943e-14), np.float64(1.700506799730338e-14), np.float64(9.887100839625271e-15), np.float64(3.262271143927273e-15), np.float64(6.050247405304283e-15), np.float64(2.0186457117042782e-14), np.float64(1.612822642346305e-15), np.float64(7.394961701678794e-15), np.float64(8.631727386184124e-15), np.float64(1.1517533184519795e-14), np.float64(1.6799461146468187e-14), np.float64(9.962936693681258e-15), np.float64(3.2774748482712964e-15), np.float64(6.107307800119163e-15), np.float64(2.1861749027031078e-14), np.float64(1.6352230739984938e-15), np.float64(7.406751201650996e-15), np.float64(7.868867875543557e-15), np.float64(1.006995652006988e-14), np.float64(1.5389265618752244e-14), np.float64(9.191382239174535e-15), np.float64(2.9912168238630557e-15), np.float64(5.460319971528972e-15), np.float64(1.6759031217192883e-14), np.float64(1.3511193586773125e-15), np.float64(6.865868596554895e-15), np.float64(8.957645234558923e-15), np.float64(1.1639213765458527e-14), np.float64(1.756055107643222e-14), np.float64(1.0360484759706914e-14), np.float64(3.3861373175981634e-15), np.float64(6.283961707580069e-15), np.float64(2.1760170187928713e-14), np.float64(1.697186786071976e-15), np.float64(7.722768008222204e-15), np.float64(8.575399918706408e-15), np.float64(1.1176865015782226e-14), np.float64(1.6534943891635035e-14), np.float64(9.912676914428925e-15), np.float64(3.2335380435651634e-15), np.float64(5.9070782277158636e-15), np.float64(2.070841112011676e-14), np.float64(1.5663155050874401e-15), np.float64(7.366877506399041e-15)]\n",
      "更新初始的权重 [0.00931344 0.00689189 0.00367871 0.00798493 0.01724268 0.01249947\n",
      " 0.00246217 0.02087762 0.01067335 0.00931783 0.00715658 0.00359134\n",
      " 0.00794314 0.01731226 0.01274156 0.00268012 0.02097442 0.01069741\n",
      " 0.00877276 0.00652151 0.0031581  0.00746201 0.01693326 0.01218849\n",
      " 0.00186904 0.02066149 0.01016814 0.00965859 0.00736947 0.0039323\n",
      " 0.00819907 0.01751117 0.01299127 0.00305974 0.02101089 0.01090323\n",
      " 0.0094369  0.00721481 0.00378043 0.00805174 0.01739089 0.0127867\n",
      " 0.00278348 0.02092734 0.01075349 0.00927846 0.00693073 0.00355565\n",
      " 0.00784134 0.0172888  0.01265768 0.00266014 0.0209626  0.01056576\n",
      " 0.00892063 0.00646929 0.00325886 0.00767466 0.01703257 0.01217804\n",
      " 0.0022223  0.02077219 0.0103586  0.00892619 0.0063074  0.0033405\n",
      " 0.00760494 0.01700143 0.0120947  0.00181656 0.02071627 0.01034391\n",
      " 0.0097844  0.00750763 0.00395831 0.00834484 0.01759729 0.01307397\n",
      " 0.00335679 0.02143676 0.01103957 0.00858289 0.00621572 0.00304814\n",
      " 0.00724969 0.01678057 0.01184031 0.0018389  0.02056237 0.00995794\n",
      " 0.0089869  0.00657135 0.00344854 0.00765107 0.01709156 0.01238966\n",
      " 0.00208701 0.02088876 0.01039366]\n",
      "tt [np.float64(2.939142278117306e-13), np.float64(2.993195237855247e-13), np.float64(2.3555744572300165e-13), np.float64(1.0170426083241601e-13), np.float64(5.481723553434468e-14), np.float64(1.7216536159156577e-13), np.float64(9.565253104164604e-13), np.float64(9.485751599206152e-15), np.float64(1.2456353442670696e-13), np.float64(4.1893058084676565e-13), np.float64(4.3822590620311445e-13), np.float64(2.8386735365033155e-13), np.float64(1.4548961572585308e-13), np.float64(9.023426174407734e-14), np.float64(2.8042676850564573e-13), np.float64(1.2725392369693553e-12), np.float64(1.0832587721247903e-14), np.float64(1.006946850938801e-13), np.float64(2.8316847167877515e-13)]\n",
      "新一轮的权重为： [2.47059722e-15 4.71819062e-09 3.43646399e-25 9.99969828e-01\n",
      " 3.01368476e-05 3.08893945e-08 1.79579201e-22 3.20138104e-31\n",
      " 1.61364520e-50 1.31670681e-50 4.21183400e-55 4.54186411e-57\n",
      " 1.75545056e-57 4.18223514e-53 2.37378428e-32 2.30610881e-59\n",
      " 2.79119397e-57 5.19622865e-29 2.77200232e-19]\n",
      "损失函数值： 0.3776911336997828 loss1： 1.0170285091416817e-13 loss2： 0.3776911336996811 loss3： 2.862936405853504e-18\n",
      "一共迭代了1次\n",
      "查询数据集的形状为(1604, 19003)\n",
      "标签个数 9\n",
      "概率矩阵的形状(1604, 9)\n",
      "The annotation accuracy of Chromium is (np.float64(0.8946384039900249), np.float64(0.8946384039900249))\n",
      "阈值为：0.3, The annotation accuracy of Chromium is (np.float64(0.8946384039900249), np.float64(0.8946384039900249))\n",
      "Time for data loading is 114.50413107872009\n",
      "precessing 0-th data\n"
     ]
    },
    {
     "name": "stderr",
     "output_type": "stream",
     "text": [
      "/data_ssd/ysQiu/anaconda3/envs/scDOT/lib/python3.12/site-packages/numpy/_core/fromnumeric.py:84: FutureWarning: The behavior of DataFrame.sum with axis=None is deprecated, in a future version this will reduce over both axes and return a scalar. To retain the old behavior, pass axis=0 (or do not pass axis)\n",
      "  return reduction(axis=axis, out=out, **passkwargs)\n",
      "/data_ssd/ysQiu/anaconda3/envs/scDOT/lib/python3.12/site-packages/scanpy/preprocessing/_scale.py:318: UserWarning: Received a view of an AnnData. Making a copy.\n",
      "  view_to_actual(adata)\n"
     ]
    },
    {
     "name": "stdout",
     "output_type": "stream",
     "text": [
      "precessing 1-th data\n"
     ]
    },
    {
     "name": "stderr",
     "output_type": "stream",
     "text": [
      "/data_ssd/ysQiu/anaconda3/envs/scDOT/lib/python3.12/site-packages/scanpy/preprocessing/_scale.py:318: UserWarning: Received a view of an AnnData. Making a copy.\n",
      "  view_to_actual(adata)\n"
     ]
    },
    {
     "name": "stdout",
     "output_type": "stream",
     "text": [
      "precessing 2-th data\n"
     ]
    },
    {
     "name": "stderr",
     "output_type": "stream",
     "text": [
      "/data_ssd/ysQiu/anaconda3/envs/scDOT/lib/python3.12/site-packages/scanpy/preprocessing/_scale.py:318: UserWarning: Received a view of an AnnData. Making a copy.\n",
      "  view_to_actual(adata)\n"
     ]
    },
    {
     "name": "stdout",
     "output_type": "stream",
     "text": [
      "precessing 3-th data\n"
     ]
    },
    {
     "name": "stderr",
     "output_type": "stream",
     "text": [
      "/data_ssd/ysQiu/anaconda3/envs/scDOT/lib/python3.12/site-packages/scanpy/preprocessing/_scale.py:318: UserWarning: Received a view of an AnnData. Making a copy.\n",
      "  view_to_actual(adata)\n"
     ]
    },
    {
     "name": "stdout",
     "output_type": "stream",
     "text": [
      "precessing 4-th data\n"
     ]
    },
    {
     "name": "stderr",
     "output_type": "stream",
     "text": [
      "/data_ssd/ysQiu/anaconda3/envs/scDOT/lib/python3.12/site-packages/scanpy/preprocessing/_scale.py:318: UserWarning: Received a view of an AnnData. Making a copy.\n",
      "  view_to_actual(adata)\n"
     ]
    },
    {
     "name": "stdout",
     "output_type": "stream",
     "text": [
      "precessing 5-th data\n"
     ]
    },
    {
     "name": "stderr",
     "output_type": "stream",
     "text": [
      "/data_ssd/ysQiu/anaconda3/envs/scDOT/lib/python3.12/site-packages/scanpy/preprocessing/_scale.py:318: UserWarning: Received a view of an AnnData. Making a copy.\n",
      "  view_to_actual(adata)\n"
     ]
    },
    {
     "name": "stdout",
     "output_type": "stream",
     "text": [
      "precessing 6-th data\n"
     ]
    },
    {
     "name": "stderr",
     "output_type": "stream",
     "text": [
      "/data_ssd/ysQiu/anaconda3/envs/scDOT/lib/python3.12/site-packages/scanpy/preprocessing/_scale.py:318: UserWarning: Received a view of an AnnData. Making a copy.\n",
      "  view_to_actual(adata)\n"
     ]
    },
    {
     "name": "stdout",
     "output_type": "stream",
     "text": [
      "precessing 7-th data\n"
     ]
    },
    {
     "name": "stderr",
     "output_type": "stream",
     "text": [
      "/data_ssd/ysQiu/anaconda3/envs/scDOT/lib/python3.12/site-packages/scanpy/preprocessing/_scale.py:318: UserWarning: Received a view of an AnnData. Making a copy.\n",
      "  view_to_actual(adata)\n"
     ]
    },
    {
     "name": "stdout",
     "output_type": "stream",
     "text": [
      "precessing 8-th data\n"
     ]
    },
    {
     "name": "stderr",
     "output_type": "stream",
     "text": [
      "/data_ssd/ysQiu/anaconda3/envs/scDOT/lib/python3.12/site-packages/scanpy/preprocessing/_scale.py:318: UserWarning: Received a view of an AnnData. Making a copy.\n",
      "  view_to_actual(adata)\n"
     ]
    },
    {
     "name": "stdout",
     "output_type": "stream",
     "text": [
      "precessing 9-th data\n"
     ]
    },
    {
     "name": "stderr",
     "output_type": "stream",
     "text": [
      "/data_ssd/ysQiu/anaconda3/envs/scDOT/lib/python3.12/site-packages/scanpy/preprocessing/_scale.py:318: UserWarning: Received a view of an AnnData. Making a copy.\n",
      "  view_to_actual(adata)\n"
     ]
    },
    {
     "name": "stdout",
     "output_type": "stream",
     "text": [
      "precessing 10-th data\n"
     ]
    },
    {
     "name": "stderr",
     "output_type": "stream",
     "text": [
      "/data_ssd/ysQiu/anaconda3/envs/scDOT/lib/python3.12/site-packages/scanpy/preprocessing/_scale.py:318: UserWarning: Received a view of an AnnData. Making a copy.\n",
      "  view_to_actual(adata)\n"
     ]
    },
    {
     "name": "stdout",
     "output_type": "stream",
     "text": [
      "precessing 11-th data\n"
     ]
    },
    {
     "name": "stderr",
     "output_type": "stream",
     "text": [
      "/data_ssd/ysQiu/anaconda3/envs/scDOT/lib/python3.12/site-packages/scanpy/preprocessing/_scale.py:318: UserWarning: Received a view of an AnnData. Making a copy.\n",
      "  view_to_actual(adata)\n"
     ]
    },
    {
     "name": "stdout",
     "output_type": "stream",
     "text": [
      "-------------------------------\n",
      "单个标签的运输成本矩阵形状 (1, 1604)\n",
      "单个标签的运输成本矩阵形状 (1, 1604)\n",
      "单个标签的运输成本矩阵形状 (1, 1604)\n",
      "单个标签的运输成本矩阵形状 (1, 1604)\n",
      "单个标签的运输成本矩阵形状 (1, 1604)\n",
      "单个标签的运输成本矩阵形状 (1, 1604)\n",
      "单个标签的运输成本矩阵形状 (1, 1604)\n",
      "单个标签的运输成本矩阵形状 (1, 1604)\n",
      "单个标签的运输成本矩阵形状 (1, 1604)\n",
      "-------------------------------\n",
      "单个标签的运输成本矩阵形状 (1, 1604)\n",
      "单个标签的运输成本矩阵形状 (1, 1604)\n",
      "单个标签的运输成本矩阵形状 (1, 1604)\n",
      "单个标签的运输成本矩阵形状 (1, 1604)\n",
      "单个标签的运输成本矩阵形状 (1, 1604)\n",
      "单个标签的运输成本矩阵形状 (1, 1604)\n",
      "单个标签的运输成本矩阵形状 (1, 1604)\n",
      "单个标签的运输成本矩阵形状 (1, 1604)\n",
      "单个标签的运输成本矩阵形状 (1, 1604)\n",
      "-------------------------------\n",
      "单个标签的运输成本矩阵形状 (1, 1604)\n",
      "单个标签的运输成本矩阵形状 (1, 1604)\n",
      "单个标签的运输成本矩阵形状 (1, 1604)\n",
      "单个标签的运输成本矩阵形状 (1, 1604)\n",
      "单个标签的运输成本矩阵形状 (1, 1604)\n",
      "单个标签的运输成本矩阵形状 (1, 1604)\n",
      "单个标签的运输成本矩阵形状 (1, 1604)\n",
      "单个标签的运输成本矩阵形状 (1, 1604)\n",
      "单个标签的运输成本矩阵形状 (1, 1604)\n",
      "-------------------------------\n",
      "单个标签的运输成本矩阵形状 (1, 1604)\n",
      "单个标签的运输成本矩阵形状 (1, 1604)\n",
      "单个标签的运输成本矩阵形状 (1, 1604)\n",
      "单个标签的运输成本矩阵形状 (1, 1604)\n",
      "单个标签的运输成本矩阵形状 (1, 1604)\n",
      "单个标签的运输成本矩阵形状 (1, 1604)\n",
      "单个标签的运输成本矩阵形状 (1, 1604)\n",
      "单个标签的运输成本矩阵形状 (1, 1604)\n",
      "单个标签的运输成本矩阵形状 (1, 1604)\n",
      "-------------------------------\n",
      "单个标签的运输成本矩阵形状 (1, 1604)\n",
      "单个标签的运输成本矩阵形状 (1, 1604)\n",
      "单个标签的运输成本矩阵形状 (1, 1604)\n",
      "单个标签的运输成本矩阵形状 (1, 1604)\n",
      "单个标签的运输成本矩阵形状 (1, 1604)\n",
      "单个标签的运输成本矩阵形状 (1, 1604)\n",
      "单个标签的运输成本矩阵形状 (1, 1604)\n",
      "单个标签的运输成本矩阵形状 (1, 1604)\n",
      "单个标签的运输成本矩阵形状 (1, 1604)\n",
      "-------------------------------\n",
      "单个标签的运输成本矩阵形状 (1, 1604)\n",
      "单个标签的运输成本矩阵形状 (1, 1604)\n",
      "单个标签的运输成本矩阵形状 (1, 1604)\n",
      "单个标签的运输成本矩阵形状 (1, 1604)\n",
      "单个标签的运输成本矩阵形状 (1, 1604)\n",
      "单个标签的运输成本矩阵形状 (1, 1604)\n",
      "单个标签的运输成本矩阵形状 (1, 1604)\n",
      "单个标签的运输成本矩阵形状 (1, 1604)\n",
      "单个标签的运输成本矩阵形状 (1, 1604)\n",
      "-------------------------------\n",
      "单个标签的运输成本矩阵形状 (1, 1604)\n",
      "单个标签的运输成本矩阵形状 (1, 1604)\n",
      "单个标签的运输成本矩阵形状 (1, 1604)\n",
      "单个标签的运输成本矩阵形状 (1, 1604)\n",
      "单个标签的运输成本矩阵形状 (1, 1604)\n",
      "单个标签的运输成本矩阵形状 (1, 1604)\n",
      "单个标签的运输成本矩阵形状 (1, 1604)\n",
      "单个标签的运输成本矩阵形状 (1, 1604)\n",
      "单个标签的运输成本矩阵形状 (1, 1604)\n",
      "-------------------------------\n",
      "单个标签的运输成本矩阵形状 (1, 1604)\n",
      "单个标签的运输成本矩阵形状 (1, 1604)\n",
      "单个标签的运输成本矩阵形状 (1, 1604)\n",
      "单个标签的运输成本矩阵形状 (1, 1604)\n",
      "单个标签的运输成本矩阵形状 (1, 1604)\n",
      "单个标签的运输成本矩阵形状 (1, 1604)\n",
      "单个标签的运输成本矩阵形状 (1, 1604)\n",
      "单个标签的运输成本矩阵形状 (1, 1604)\n",
      "单个标签的运输成本矩阵形状 (1, 1604)\n",
      "-------------------------------\n",
      "单个标签的运输成本矩阵形状 (1, 1604)\n",
      "单个标签的运输成本矩阵形状 (1, 1604)\n",
      "单个标签的运输成本矩阵形状 (1, 1604)\n",
      "单个标签的运输成本矩阵形状 (1, 1604)\n",
      "单个标签的运输成本矩阵形状 (1, 1604)\n",
      "单个标签的运输成本矩阵形状 (1, 1604)\n",
      "单个标签的运输成本矩阵形状 (1, 1604)\n",
      "单个标签的运输成本矩阵形状 (1, 1604)\n",
      "单个标签的运输成本矩阵形状 (1, 1604)\n",
      "-------------------------------\n",
      "单个标签的运输成本矩阵形状 (1, 1604)\n",
      "单个标签的运输成本矩阵形状 (1, 1604)\n",
      "单个标签的运输成本矩阵形状 (1, 1604)\n",
      "单个标签的运输成本矩阵形状 (1, 1604)\n",
      "单个标签的运输成本矩阵形状 (1, 1604)\n",
      "单个标签的运输成本矩阵形状 (1, 1604)\n",
      "单个标签的运输成本矩阵形状 (1, 1604)\n",
      "单个标签的运输成本矩阵形状 (1, 1604)\n",
      "单个标签的运输成本矩阵形状 (1, 1604)\n",
      "-------------------------------\n",
      "单个标签的运输成本矩阵形状 (1, 1604)\n",
      "单个标签的运输成本矩阵形状 (1, 1604)\n",
      "单个标签的运输成本矩阵形状 (1, 1604)\n",
      "单个标签的运输成本矩阵形状 (1, 1604)\n",
      "单个标签的运输成本矩阵形状 (1, 1604)\n",
      "单个标签的运输成本矩阵形状 (1, 1604)\n",
      "单个标签的运输成本矩阵形状 (1, 1604)\n",
      "单个标签的运输成本矩阵形状 (1, 1604)\n",
      "第1个运输成本矩阵的形状为：(1604, 9)\n",
      "第2个运输成本矩阵的形状为：(1604, 9)\n",
      "第3个运输成本矩阵的形状为：(1604, 9)\n",
      "第4个运输成本矩阵的形状为：(1604, 9)\n",
      "第5个运输成本矩阵的形状为：(1604, 9)\n",
      "第6个运输成本矩阵的形状为：(1604, 9)\n",
      "第7个运输成本矩阵的形状为：(1604, 9)\n",
      "第8个运输成本矩阵的形状为：(1604, 9)\n",
      "第9个运输成本矩阵的形状为：(1604, 9)\n",
      "第10个运输成本矩阵的形状为：(1604, 9)\n",
      "第11个运输成本矩阵的形状为：(1604, 9)\n",
      "更新初始的权重 [0.08888552 0.09538292 0.08297939 0.10315192 0.09896425 0.09661016\n",
      " 0.08317578 0.07707023 0.10702346 0.07896498 0.0877914 ]\n",
      "tt [np.float64(1.0059515924036386e-10), np.float64(9.349814462523959e-11), np.float64(1.0751178554931737e-10), np.float64(8.562120987676901e-11), np.float64(8.979029736037231e-11), np.float64(9.221210001703774e-11), np.float64(1.0727398224715872e-10), np.float64(1.1494326415560414e-10), np.float64(8.191475589931884e-11), np.float64(1.125000676736236e-10), np.float64(1.0184110767173743e-10)]\n",
      "新一轮的权重为： [0.08888552 0.09538292 0.08297939 0.10315192 0.09896425 0.09661016\n",
      " 0.08317578 0.07707023 0.10702346 0.07896498 0.0877914 ]\n",
      "损失函数值： 0.3760268667526234 loss1： 9.777992846017627e-11 loss2： 0.37602686689550935 loss3： -2.4066589773539516e-10\n",
      "tt [np.float64(1.3536553307060544e-10), np.float64(1.2564356746908434e-10), np.float64(1.4487740800727634e-10), np.float64(1.1496621413877038e-10), np.float64(1.206554332494996e-10), np.float64(1.240308716677562e-10), np.float64(1.4442065141940533e-10), np.float64(1.5488840642619842e-10), np.float64(1.0992184675300874e-10), np.float64(1.5157069831027814e-10), np.float64(1.3710535139765668e-10)]\n",
      "新一轮的权重为： [0.08793401 0.09685656 0.08000032 0.10770251 0.10178038 0.09842183\n",
      " 0.08036439 0.0724222  0.11324098 0.07485057 0.08642624]\n",
      "损失函数值： 0.3755325801632233 loss1： 1.3099867681163507e-10 loss2： 0.37553258027242153 loss3： -2.4019694122220363e-10\n",
      "tt [np.float64(8.278805746416384e-15), np.float64(1.0781083122588492e-14), np.float64(1.599801361350268e-14), np.float64(9.557753159312744e-15), np.float64(3.1603852924795864e-15), np.float64(5.833753940023148e-15), np.float64(1.933468554122194e-14), np.float64(1.570749144623301e-15), np.float64(7.146215472660581e-15), np.float64(8.274894631164586e-15), np.float64(1.0467901963054855e-14), np.float64(1.619775299687203e-14), np.float64(9.601353282079124e-15), np.float64(3.1269189982499954e-15), np.float64(5.674338367671855e-15), np.float64(1.8629831968234695e-14), np.float64(1.5323088567392756e-15), np.float64(7.127504970715967e-15), np.float64(8.775812955974826e-15), np.float64(1.1240122130672581e-14), np.float64(1.726606325920728e-14), np.float64(1.0120598822134561e-14), np.float64(3.310864822051556e-15), np.float64(6.043114483818399e-15), np.float64(2.162508443347045e-14), np.float64(1.6572251795884621e-15), np.float64(7.54917579524693e-15), np.float64(7.97641083313231e-15), np.float64(1.0224300339428199e-14), np.float64(1.5444048114029095e-14), np.float64(9.337828622428168e-15), np.float64(3.0319858262914925e-15), np.float64(5.513051608403539e-15), np.float64(1.752898879897962e-14), np.float64(1.5178703123150806e-15), np.float64(6.969130985626456e-15), np.float64(8.169374319465661e-15), np.float64(1.0400560083844366e-14), np.float64(1.577135564510506e-14), np.float64(9.48851372690126e-15), np.float64(3.0892617502789386e-15), np.float64(5.6449497657586495e-15), np.float64(1.8315372337770106e-14), np.float64(1.5509819619471567e-15), np.float64(7.0840526341212404e-15), np.float64(8.310081605951027e-15), np.float64(1.0734381544537372e-14), np.float64(1.6280753078871255e-14), np.float64(9.708551253331949e-15), np.float64(3.1381862516816397e-15), np.float64(5.7292287450065645e-15), np.float64(1.869201610243055e-14), np.float64(1.5369949808900318e-15), np.float64(7.23040518157653e-15), np.float64(8.63690560461394e-15), np.float64(1.1306941384317943e-14), np.float64(1.700506799730338e-14), np.float64(9.887100839625271e-15), np.float64(3.262271143927273e-15), np.float64(6.050247405304283e-15), np.float64(2.0186457117042782e-14), np.float64(1.612822642346305e-15), np.float64(7.394961701678794e-15), np.float64(8.631727386184124e-15), np.float64(1.1517533184519795e-14), np.float64(1.6799461146468187e-14), np.float64(9.962936693681258e-15), np.float64(3.2774748482712964e-15), np.float64(6.107307800119163e-15), np.float64(2.1861749027031078e-14), np.float64(1.6352230739984938e-15), np.float64(7.406751201650996e-15), np.float64(7.868867875543557e-15), np.float64(1.006995652006988e-14), np.float64(1.5389265618752244e-14), np.float64(9.191382239174535e-15), np.float64(2.9912168238630557e-15), np.float64(5.460319971528972e-15), np.float64(1.6759031217192883e-14), np.float64(1.3511193586773125e-15), np.float64(6.865868596554895e-15), np.float64(8.957645234558923e-15), np.float64(1.1639213765458527e-14), np.float64(1.756055107643222e-14), np.float64(1.0360484759706914e-14), np.float64(3.3861373175981634e-15), np.float64(6.283961707580069e-15), np.float64(2.1760170187928713e-14), np.float64(1.697186786071976e-15), np.float64(7.722768008222204e-15), np.float64(8.575399918706408e-15), np.float64(1.1176865015782226e-14), np.float64(1.6534943891635035e-14), np.float64(9.912676914428925e-15), np.float64(3.2335380435651634e-15), np.float64(5.9070782277158636e-15), np.float64(2.070841112011676e-14), np.float64(1.5663155050874401e-15), np.float64(7.366877506399041e-15)]\n",
      "更新初始的权重 [0.00931344 0.00689189 0.00367871 0.00798493 0.01724268 0.01249947\n",
      " 0.00246217 0.02087762 0.01067335 0.00931783 0.00715658 0.00359134\n",
      " 0.00794314 0.01731226 0.01274156 0.00268012 0.02097442 0.01069741\n",
      " 0.00877276 0.00652151 0.0031581  0.00746201 0.01693326 0.01218849\n",
      " 0.00186904 0.02066149 0.01016814 0.00965859 0.00736947 0.0039323\n",
      " 0.00819907 0.01751117 0.01299127 0.00305974 0.02101089 0.01090323\n",
      " 0.0094369  0.00721481 0.00378043 0.00805174 0.01739089 0.0127867\n",
      " 0.00278348 0.02092734 0.01075349 0.00927846 0.00693073 0.00355565\n",
      " 0.00784134 0.0172888  0.01265768 0.00266014 0.0209626  0.01056576\n",
      " 0.00892063 0.00646929 0.00325886 0.00767466 0.01703257 0.01217804\n",
      " 0.0022223  0.02077219 0.0103586  0.00892619 0.0063074  0.0033405\n",
      " 0.00760494 0.01700143 0.0120947  0.00181656 0.02071627 0.01034391\n",
      " 0.0097844  0.00750763 0.00395831 0.00834484 0.01759729 0.01307397\n",
      " 0.00335679 0.02143676 0.01103957 0.00858289 0.00621572 0.00304814\n",
      " 0.00724969 0.01678057 0.01184031 0.0018389  0.02056237 0.00995794\n",
      " 0.0089869  0.00657135 0.00344854 0.00765107 0.01709156 0.01238966\n",
      " 0.00208701 0.02088876 0.01039366]\n",
      "tt [np.float64(2.939142278117306e-13), np.float64(2.993195237855247e-13), np.float64(2.3555744572300165e-13), np.float64(1.0170426083241601e-13), np.float64(5.481723553434468e-14), np.float64(1.7216536159156577e-13), np.float64(9.565253104164604e-13), np.float64(9.485751599206152e-15), np.float64(1.2456353442670696e-13), np.float64(4.1893058084676565e-13), np.float64(4.3822590620311445e-13), np.float64(2.8386735365033155e-13), np.float64(1.4548961572585308e-13), np.float64(9.023426174407734e-14), np.float64(2.8042676850564573e-13), np.float64(1.2725392369693553e-12), np.float64(1.0832587721247903e-14), np.float64(1.006946850938801e-13), np.float64(2.8316847167877515e-13)]\n",
      "新一轮的权重为： [2.47059722e-15 4.71819062e-09 3.43646399e-25 9.99969828e-01\n",
      " 3.01368476e-05 3.08893945e-08 1.79579201e-22 3.20138104e-31\n",
      " 1.61364520e-50 1.31670681e-50 4.21183400e-55 4.54186411e-57\n",
      " 1.75545056e-57 4.18223514e-53 2.37378428e-32 2.30610881e-59\n",
      " 2.79119397e-57 5.19622865e-29 2.77200232e-19]\n",
      "损失函数值： 0.3776911336997828 loss1： 1.0170285091416817e-13 loss2： 0.3776911336996811 loss3： 2.862936405853504e-18\n",
      "一共迭代了1次\n",
      "查询数据集的形状为(1604, 19003)\n",
      "标签个数 9\n",
      "概率矩阵的形状(1604, 9)\n",
      "The annotation accuracy of Chromium is (np.float64(0.8946384039900249), np.float64(0.8946384039900249))\n",
      "阈值为：0.4, The annotation accuracy of Chromium is (np.float64(0.8946384039900249), np.float64(0.8958852867830424))\n",
      "Time for data loading is 116.44605016708374\n",
      "precessing 0-th data\n"
     ]
    },
    {
     "name": "stderr",
     "output_type": "stream",
     "text": [
      "/data_ssd/ysQiu/anaconda3/envs/scDOT/lib/python3.12/site-packages/numpy/_core/fromnumeric.py:84: FutureWarning: The behavior of DataFrame.sum with axis=None is deprecated, in a future version this will reduce over both axes and return a scalar. To retain the old behavior, pass axis=0 (or do not pass axis)\n",
      "  return reduction(axis=axis, out=out, **passkwargs)\n",
      "/data_ssd/ysQiu/anaconda3/envs/scDOT/lib/python3.12/site-packages/scanpy/preprocessing/_scale.py:318: UserWarning: Received a view of an AnnData. Making a copy.\n",
      "  view_to_actual(adata)\n"
     ]
    },
    {
     "name": "stdout",
     "output_type": "stream",
     "text": [
      "precessing 1-th data\n"
     ]
    },
    {
     "name": "stderr",
     "output_type": "stream",
     "text": [
      "/data_ssd/ysQiu/anaconda3/envs/scDOT/lib/python3.12/site-packages/scanpy/preprocessing/_scale.py:318: UserWarning: Received a view of an AnnData. Making a copy.\n",
      "  view_to_actual(adata)\n"
     ]
    },
    {
     "name": "stdout",
     "output_type": "stream",
     "text": [
      "precessing 2-th data\n"
     ]
    },
    {
     "name": "stderr",
     "output_type": "stream",
     "text": [
      "/data_ssd/ysQiu/anaconda3/envs/scDOT/lib/python3.12/site-packages/scanpy/preprocessing/_scale.py:318: UserWarning: Received a view of an AnnData. Making a copy.\n",
      "  view_to_actual(adata)\n"
     ]
    },
    {
     "name": "stdout",
     "output_type": "stream",
     "text": [
      "precessing 3-th data\n"
     ]
    },
    {
     "name": "stderr",
     "output_type": "stream",
     "text": [
      "/data_ssd/ysQiu/anaconda3/envs/scDOT/lib/python3.12/site-packages/scanpy/preprocessing/_scale.py:318: UserWarning: Received a view of an AnnData. Making a copy.\n",
      "  view_to_actual(adata)\n"
     ]
    },
    {
     "name": "stdout",
     "output_type": "stream",
     "text": [
      "precessing 4-th data\n"
     ]
    },
    {
     "name": "stderr",
     "output_type": "stream",
     "text": [
      "/data_ssd/ysQiu/anaconda3/envs/scDOT/lib/python3.12/site-packages/scanpy/preprocessing/_scale.py:318: UserWarning: Received a view of an AnnData. Making a copy.\n",
      "  view_to_actual(adata)\n"
     ]
    },
    {
     "name": "stdout",
     "output_type": "stream",
     "text": [
      "precessing 5-th data\n"
     ]
    },
    {
     "name": "stderr",
     "output_type": "stream",
     "text": [
      "/data_ssd/ysQiu/anaconda3/envs/scDOT/lib/python3.12/site-packages/scanpy/preprocessing/_scale.py:318: UserWarning: Received a view of an AnnData. Making a copy.\n",
      "  view_to_actual(adata)\n"
     ]
    },
    {
     "name": "stdout",
     "output_type": "stream",
     "text": [
      "precessing 6-th data\n"
     ]
    },
    {
     "name": "stderr",
     "output_type": "stream",
     "text": [
      "/data_ssd/ysQiu/anaconda3/envs/scDOT/lib/python3.12/site-packages/scanpy/preprocessing/_scale.py:318: UserWarning: Received a view of an AnnData. Making a copy.\n",
      "  view_to_actual(adata)\n"
     ]
    },
    {
     "name": "stdout",
     "output_type": "stream",
     "text": [
      "precessing 7-th data\n"
     ]
    },
    {
     "name": "stderr",
     "output_type": "stream",
     "text": [
      "/data_ssd/ysQiu/anaconda3/envs/scDOT/lib/python3.12/site-packages/scanpy/preprocessing/_scale.py:318: UserWarning: Received a view of an AnnData. Making a copy.\n",
      "  view_to_actual(adata)\n"
     ]
    },
    {
     "name": "stdout",
     "output_type": "stream",
     "text": [
      "precessing 8-th data\n"
     ]
    },
    {
     "name": "stderr",
     "output_type": "stream",
     "text": [
      "/data_ssd/ysQiu/anaconda3/envs/scDOT/lib/python3.12/site-packages/scanpy/preprocessing/_scale.py:318: UserWarning: Received a view of an AnnData. Making a copy.\n",
      "  view_to_actual(adata)\n"
     ]
    },
    {
     "name": "stdout",
     "output_type": "stream",
     "text": [
      "precessing 9-th data\n"
     ]
    },
    {
     "name": "stderr",
     "output_type": "stream",
     "text": [
      "/data_ssd/ysQiu/anaconda3/envs/scDOT/lib/python3.12/site-packages/scanpy/preprocessing/_scale.py:318: UserWarning: Received a view of an AnnData. Making a copy.\n",
      "  view_to_actual(adata)\n"
     ]
    },
    {
     "name": "stdout",
     "output_type": "stream",
     "text": [
      "precessing 10-th data\n"
     ]
    },
    {
     "name": "stderr",
     "output_type": "stream",
     "text": [
      "/data_ssd/ysQiu/anaconda3/envs/scDOT/lib/python3.12/site-packages/scanpy/preprocessing/_scale.py:318: UserWarning: Received a view of an AnnData. Making a copy.\n",
      "  view_to_actual(adata)\n"
     ]
    },
    {
     "name": "stdout",
     "output_type": "stream",
     "text": [
      "precessing 11-th data\n"
     ]
    },
    {
     "name": "stderr",
     "output_type": "stream",
     "text": [
      "/data_ssd/ysQiu/anaconda3/envs/scDOT/lib/python3.12/site-packages/scanpy/preprocessing/_scale.py:318: UserWarning: Received a view of an AnnData. Making a copy.\n",
      "  view_to_actual(adata)\n"
     ]
    },
    {
     "name": "stdout",
     "output_type": "stream",
     "text": [
      "-------------------------------\n",
      "单个标签的运输成本矩阵形状 (1, 1604)\n",
      "单个标签的运输成本矩阵形状 (1, 1604)\n",
      "单个标签的运输成本矩阵形状 (1, 1604)\n",
      "单个标签的运输成本矩阵形状 (1, 1604)\n",
      "单个标签的运输成本矩阵形状 (1, 1604)\n",
      "单个标签的运输成本矩阵形状 (1, 1604)\n",
      "单个标签的运输成本矩阵形状 (1, 1604)\n",
      "单个标签的运输成本矩阵形状 (1, 1604)\n",
      "单个标签的运输成本矩阵形状 (1, 1604)\n",
      "-------------------------------\n",
      "单个标签的运输成本矩阵形状 (1, 1604)\n",
      "单个标签的运输成本矩阵形状 (1, 1604)\n",
      "单个标签的运输成本矩阵形状 (1, 1604)\n",
      "单个标签的运输成本矩阵形状 (1, 1604)\n",
      "单个标签的运输成本矩阵形状 (1, 1604)\n",
      "单个标签的运输成本矩阵形状 (1, 1604)\n",
      "单个标签的运输成本矩阵形状 (1, 1604)\n",
      "单个标签的运输成本矩阵形状 (1, 1604)\n",
      "单个标签的运输成本矩阵形状 (1, 1604)\n",
      "-------------------------------\n",
      "单个标签的运输成本矩阵形状 (1, 1604)\n",
      "单个标签的运输成本矩阵形状 (1, 1604)\n",
      "单个标签的运输成本矩阵形状 (1, 1604)\n",
      "单个标签的运输成本矩阵形状 (1, 1604)\n",
      "单个标签的运输成本矩阵形状 (1, 1604)\n",
      "单个标签的运输成本矩阵形状 (1, 1604)\n",
      "单个标签的运输成本矩阵形状 (1, 1604)\n",
      "单个标签的运输成本矩阵形状 (1, 1604)\n",
      "单个标签的运输成本矩阵形状 (1, 1604)\n",
      "-------------------------------\n",
      "单个标签的运输成本矩阵形状 (1, 1604)\n",
      "单个标签的运输成本矩阵形状 (1, 1604)\n",
      "单个标签的运输成本矩阵形状 (1, 1604)\n",
      "单个标签的运输成本矩阵形状 (1, 1604)\n",
      "单个标签的运输成本矩阵形状 (1, 1604)\n",
      "单个标签的运输成本矩阵形状 (1, 1604)\n",
      "单个标签的运输成本矩阵形状 (1, 1604)\n",
      "单个标签的运输成本矩阵形状 (1, 1604)\n",
      "单个标签的运输成本矩阵形状 (1, 1604)\n",
      "-------------------------------\n",
      "单个标签的运输成本矩阵形状 (1, 1604)\n",
      "单个标签的运输成本矩阵形状 (1, 1604)\n",
      "单个标签的运输成本矩阵形状 (1, 1604)\n",
      "单个标签的运输成本矩阵形状 (1, 1604)\n",
      "单个标签的运输成本矩阵形状 (1, 1604)\n",
      "单个标签的运输成本矩阵形状 (1, 1604)\n",
      "单个标签的运输成本矩阵形状 (1, 1604)\n",
      "单个标签的运输成本矩阵形状 (1, 1604)\n",
      "单个标签的运输成本矩阵形状 (1, 1604)\n",
      "-------------------------------\n",
      "单个标签的运输成本矩阵形状 (1, 1604)\n",
      "单个标签的运输成本矩阵形状 (1, 1604)\n",
      "单个标签的运输成本矩阵形状 (1, 1604)\n",
      "单个标签的运输成本矩阵形状 (1, 1604)\n",
      "单个标签的运输成本矩阵形状 (1, 1604)\n",
      "单个标签的运输成本矩阵形状 (1, 1604)\n",
      "单个标签的运输成本矩阵形状 (1, 1604)\n",
      "单个标签的运输成本矩阵形状 (1, 1604)\n",
      "单个标签的运输成本矩阵形状 (1, 1604)\n",
      "-------------------------------\n",
      "单个标签的运输成本矩阵形状 (1, 1604)\n",
      "单个标签的运输成本矩阵形状 (1, 1604)\n",
      "单个标签的运输成本矩阵形状 (1, 1604)\n",
      "单个标签的运输成本矩阵形状 (1, 1604)\n",
      "单个标签的运输成本矩阵形状 (1, 1604)\n",
      "单个标签的运输成本矩阵形状 (1, 1604)\n",
      "单个标签的运输成本矩阵形状 (1, 1604)\n",
      "单个标签的运输成本矩阵形状 (1, 1604)\n",
      "单个标签的运输成本矩阵形状 (1, 1604)\n",
      "-------------------------------\n",
      "单个标签的运输成本矩阵形状 (1, 1604)\n",
      "单个标签的运输成本矩阵形状 (1, 1604)\n",
      "单个标签的运输成本矩阵形状 (1, 1604)\n",
      "单个标签的运输成本矩阵形状 (1, 1604)\n",
      "单个标签的运输成本矩阵形状 (1, 1604)\n",
      "单个标签的运输成本矩阵形状 (1, 1604)\n",
      "单个标签的运输成本矩阵形状 (1, 1604)\n",
      "单个标签的运输成本矩阵形状 (1, 1604)\n",
      "单个标签的运输成本矩阵形状 (1, 1604)\n",
      "-------------------------------\n",
      "单个标签的运输成本矩阵形状 (1, 1604)\n",
      "单个标签的运输成本矩阵形状 (1, 1604)\n",
      "单个标签的运输成本矩阵形状 (1, 1604)\n",
      "单个标签的运输成本矩阵形状 (1, 1604)\n",
      "单个标签的运输成本矩阵形状 (1, 1604)\n",
      "单个标签的运输成本矩阵形状 (1, 1604)\n",
      "单个标签的运输成本矩阵形状 (1, 1604)\n",
      "单个标签的运输成本矩阵形状 (1, 1604)\n",
      "单个标签的运输成本矩阵形状 (1, 1604)\n",
      "-------------------------------\n",
      "单个标签的运输成本矩阵形状 (1, 1604)\n",
      "单个标签的运输成本矩阵形状 (1, 1604)\n",
      "单个标签的运输成本矩阵形状 (1, 1604)\n",
      "单个标签的运输成本矩阵形状 (1, 1604)\n",
      "单个标签的运输成本矩阵形状 (1, 1604)\n",
      "单个标签的运输成本矩阵形状 (1, 1604)\n",
      "单个标签的运输成本矩阵形状 (1, 1604)\n",
      "单个标签的运输成本矩阵形状 (1, 1604)\n",
      "单个标签的运输成本矩阵形状 (1, 1604)\n",
      "-------------------------------\n",
      "单个标签的运输成本矩阵形状 (1, 1604)\n",
      "单个标签的运输成本矩阵形状 (1, 1604)\n",
      "单个标签的运输成本矩阵形状 (1, 1604)\n",
      "单个标签的运输成本矩阵形状 (1, 1604)\n",
      "单个标签的运输成本矩阵形状 (1, 1604)\n",
      "单个标签的运输成本矩阵形状 (1, 1604)\n",
      "单个标签的运输成本矩阵形状 (1, 1604)\n",
      "单个标签的运输成本矩阵形状 (1, 1604)\n",
      "第1个运输成本矩阵的形状为：(1604, 9)\n",
      "第2个运输成本矩阵的形状为：(1604, 9)\n",
      "第3个运输成本矩阵的形状为：(1604, 9)\n",
      "第4个运输成本矩阵的形状为：(1604, 9)\n",
      "第5个运输成本矩阵的形状为：(1604, 9)\n",
      "第6个运输成本矩阵的形状为：(1604, 9)\n",
      "第7个运输成本矩阵的形状为：(1604, 9)\n",
      "第8个运输成本矩阵的形状为：(1604, 9)\n",
      "第9个运输成本矩阵的形状为：(1604, 9)\n",
      "第10个运输成本矩阵的形状为：(1604, 9)\n",
      "第11个运输成本矩阵的形状为：(1604, 9)\n",
      "更新初始的权重 [0.08888552 0.09538292 0.08297939 0.10315192 0.09896425 0.09661016\n",
      " 0.08317578 0.07707023 0.10702346 0.07896498 0.0877914 ]\n",
      "tt [np.float64(1.0059515924036386e-10), np.float64(9.349814462523959e-11), np.float64(1.0751178554931737e-10), np.float64(8.562120987676901e-11), np.float64(8.979029736037231e-11), np.float64(9.221210001703774e-11), np.float64(1.0727398224715872e-10), np.float64(1.1494326415560414e-10), np.float64(8.191475589931884e-11), np.float64(1.125000676736236e-10), np.float64(1.0184110767173743e-10)]\n",
      "新一轮的权重为： [0.08888552 0.09538292 0.08297939 0.10315192 0.09896425 0.09661016\n",
      " 0.08317578 0.07707023 0.10702346 0.07896498 0.0877914 ]\n",
      "损失函数值： 0.3760268667526234 loss1： 9.777992846017627e-11 loss2： 0.37602686689550935 loss3： -2.4066589773539516e-10\n",
      "tt [np.float64(1.3536553307060544e-10), np.float64(1.2564356746908434e-10), np.float64(1.4487740800727634e-10), np.float64(1.1496621413877038e-10), np.float64(1.206554332494996e-10), np.float64(1.240308716677562e-10), np.float64(1.4442065141940533e-10), np.float64(1.5488840642619842e-10), np.float64(1.0992184675300874e-10), np.float64(1.5157069831027814e-10), np.float64(1.3710535139765668e-10)]\n",
      "新一轮的权重为： [0.08793401 0.09685656 0.08000032 0.10770251 0.10178038 0.09842183\n",
      " 0.08036439 0.0724222  0.11324098 0.07485057 0.08642624]\n",
      "损失函数值： 0.3755325801632233 loss1： 1.3099867681163507e-10 loss2： 0.37553258027242153 loss3： -2.4019694122220363e-10\n",
      "tt [np.float64(8.278805746416384e-15), np.float64(1.0781083122588492e-14), np.float64(1.599801361350268e-14), np.float64(9.557753159312744e-15), np.float64(3.1603852924795864e-15), np.float64(5.833753940023148e-15), np.float64(1.933468554122194e-14), np.float64(1.570749144623301e-15), np.float64(7.146215472660581e-15), np.float64(8.274894631164586e-15), np.float64(1.0467901963054855e-14), np.float64(1.619775299687203e-14), np.float64(9.601353282079124e-15), np.float64(3.1269189982499954e-15), np.float64(5.674338367671855e-15), np.float64(1.8629831968234695e-14), np.float64(1.5323088567392756e-15), np.float64(7.127504970715967e-15), np.float64(8.775812955974826e-15), np.float64(1.1240122130672581e-14), np.float64(1.726606325920728e-14), np.float64(1.0120598822134561e-14), np.float64(3.310864822051556e-15), np.float64(6.043114483818399e-15), np.float64(2.162508443347045e-14), np.float64(1.6572251795884621e-15), np.float64(7.54917579524693e-15), np.float64(7.97641083313231e-15), np.float64(1.0224300339428199e-14), np.float64(1.5444048114029095e-14), np.float64(9.337828622428168e-15), np.float64(3.0319858262914925e-15), np.float64(5.513051608403539e-15), np.float64(1.752898879897962e-14), np.float64(1.5178703123150806e-15), np.float64(6.969130985626456e-15), np.float64(8.169374319465661e-15), np.float64(1.0400560083844366e-14), np.float64(1.577135564510506e-14), np.float64(9.48851372690126e-15), np.float64(3.0892617502789386e-15), np.float64(5.6449497657586495e-15), np.float64(1.8315372337770106e-14), np.float64(1.5509819619471567e-15), np.float64(7.0840526341212404e-15), np.float64(8.310081605951027e-15), np.float64(1.0734381544537372e-14), np.float64(1.6280753078871255e-14), np.float64(9.708551253331949e-15), np.float64(3.1381862516816397e-15), np.float64(5.7292287450065645e-15), np.float64(1.869201610243055e-14), np.float64(1.5369949808900318e-15), np.float64(7.23040518157653e-15), np.float64(8.63690560461394e-15), np.float64(1.1306941384317943e-14), np.float64(1.700506799730338e-14), np.float64(9.887100839625271e-15), np.float64(3.262271143927273e-15), np.float64(6.050247405304283e-15), np.float64(2.0186457117042782e-14), np.float64(1.612822642346305e-15), np.float64(7.394961701678794e-15), np.float64(8.631727386184124e-15), np.float64(1.1517533184519795e-14), np.float64(1.6799461146468187e-14), np.float64(9.962936693681258e-15), np.float64(3.2774748482712964e-15), np.float64(6.107307800119163e-15), np.float64(2.1861749027031078e-14), np.float64(1.6352230739984938e-15), np.float64(7.406751201650996e-15), np.float64(7.868867875543557e-15), np.float64(1.006995652006988e-14), np.float64(1.5389265618752244e-14), np.float64(9.191382239174535e-15), np.float64(2.9912168238630557e-15), np.float64(5.460319971528972e-15), np.float64(1.6759031217192883e-14), np.float64(1.3511193586773125e-15), np.float64(6.865868596554895e-15), np.float64(8.957645234558923e-15), np.float64(1.1639213765458527e-14), np.float64(1.756055107643222e-14), np.float64(1.0360484759706914e-14), np.float64(3.3861373175981634e-15), np.float64(6.283961707580069e-15), np.float64(2.1760170187928713e-14), np.float64(1.697186786071976e-15), np.float64(7.722768008222204e-15), np.float64(8.575399918706408e-15), np.float64(1.1176865015782226e-14), np.float64(1.6534943891635035e-14), np.float64(9.912676914428925e-15), np.float64(3.2335380435651634e-15), np.float64(5.9070782277158636e-15), np.float64(2.070841112011676e-14), np.float64(1.5663155050874401e-15), np.float64(7.366877506399041e-15)]\n",
      "更新初始的权重 [0.00931344 0.00689189 0.00367871 0.00798493 0.01724268 0.01249947\n",
      " 0.00246217 0.02087762 0.01067335 0.00931783 0.00715658 0.00359134\n",
      " 0.00794314 0.01731226 0.01274156 0.00268012 0.02097442 0.01069741\n",
      " 0.00877276 0.00652151 0.0031581  0.00746201 0.01693326 0.01218849\n",
      " 0.00186904 0.02066149 0.01016814 0.00965859 0.00736947 0.0039323\n",
      " 0.00819907 0.01751117 0.01299127 0.00305974 0.02101089 0.01090323\n",
      " 0.0094369  0.00721481 0.00378043 0.00805174 0.01739089 0.0127867\n",
      " 0.00278348 0.02092734 0.01075349 0.00927846 0.00693073 0.00355565\n",
      " 0.00784134 0.0172888  0.01265768 0.00266014 0.0209626  0.01056576\n",
      " 0.00892063 0.00646929 0.00325886 0.00767466 0.01703257 0.01217804\n",
      " 0.0022223  0.02077219 0.0103586  0.00892619 0.0063074  0.0033405\n",
      " 0.00760494 0.01700143 0.0120947  0.00181656 0.02071627 0.01034391\n",
      " 0.0097844  0.00750763 0.00395831 0.00834484 0.01759729 0.01307397\n",
      " 0.00335679 0.02143676 0.01103957 0.00858289 0.00621572 0.00304814\n",
      " 0.00724969 0.01678057 0.01184031 0.0018389  0.02056237 0.00995794\n",
      " 0.0089869  0.00657135 0.00344854 0.00765107 0.01709156 0.01238966\n",
      " 0.00208701 0.02088876 0.01039366]\n",
      "tt [np.float64(2.939142278117306e-13), np.float64(2.993195237855247e-13), np.float64(2.3555744572300165e-13), np.float64(1.0170426083241601e-13), np.float64(5.481723553434468e-14), np.float64(1.7216536159156577e-13), np.float64(9.565253104164604e-13), np.float64(9.485751599206152e-15), np.float64(1.2456353442670696e-13), np.float64(4.1893058084676565e-13), np.float64(4.3822590620311445e-13), np.float64(2.8386735365033155e-13), np.float64(1.4548961572585308e-13), np.float64(9.023426174407734e-14), np.float64(2.8042676850564573e-13), np.float64(1.2725392369693553e-12), np.float64(1.0832587721247903e-14), np.float64(1.006946850938801e-13), np.float64(2.8316847167877515e-13)]\n",
      "新一轮的权重为： [2.47059722e-15 4.71819062e-09 3.43646399e-25 9.99969828e-01\n",
      " 3.01368476e-05 3.08893945e-08 1.79579201e-22 3.20138104e-31\n",
      " 1.61364520e-50 1.31670681e-50 4.21183400e-55 4.54186411e-57\n",
      " 1.75545056e-57 4.18223514e-53 2.37378428e-32 2.30610881e-59\n",
      " 2.79119397e-57 5.19622865e-29 2.77200232e-19]\n",
      "损失函数值： 0.3776911336997828 loss1： 1.0170285091416817e-13 loss2： 0.3776911336996811 loss3： 2.862936405853504e-18\n",
      "一共迭代了1次\n",
      "查询数据集的形状为(1604, 19003)\n",
      "标签个数 9\n",
      "概率矩阵的形状(1604, 9)\n",
      "The annotation accuracy of Chromium is (np.float64(0.8946384039900249), np.float64(0.8890274314214464))\n",
      "阈值为：0.5, The annotation accuracy of Chromium is (np.float64(0.8946384039900249), np.float64(0.8977556109725686))\n",
      "Time for data loading is 115.69393682479858\n",
      "precessing 0-th data\n"
     ]
    },
    {
     "name": "stderr",
     "output_type": "stream",
     "text": [
      "/data_ssd/ysQiu/anaconda3/envs/scDOT/lib/python3.12/site-packages/numpy/_core/fromnumeric.py:84: FutureWarning: The behavior of DataFrame.sum with axis=None is deprecated, in a future version this will reduce over both axes and return a scalar. To retain the old behavior, pass axis=0 (or do not pass axis)\n",
      "  return reduction(axis=axis, out=out, **passkwargs)\n",
      "/data_ssd/ysQiu/anaconda3/envs/scDOT/lib/python3.12/site-packages/scanpy/preprocessing/_scale.py:318: UserWarning: Received a view of an AnnData. Making a copy.\n",
      "  view_to_actual(adata)\n"
     ]
    },
    {
     "name": "stdout",
     "output_type": "stream",
     "text": [
      "precessing 1-th data\n"
     ]
    },
    {
     "name": "stderr",
     "output_type": "stream",
     "text": [
      "/data_ssd/ysQiu/anaconda3/envs/scDOT/lib/python3.12/site-packages/scanpy/preprocessing/_scale.py:318: UserWarning: Received a view of an AnnData. Making a copy.\n",
      "  view_to_actual(adata)\n"
     ]
    },
    {
     "name": "stdout",
     "output_type": "stream",
     "text": [
      "precessing 2-th data\n"
     ]
    },
    {
     "name": "stderr",
     "output_type": "stream",
     "text": [
      "/data_ssd/ysQiu/anaconda3/envs/scDOT/lib/python3.12/site-packages/scanpy/preprocessing/_scale.py:318: UserWarning: Received a view of an AnnData. Making a copy.\n",
      "  view_to_actual(adata)\n"
     ]
    },
    {
     "name": "stdout",
     "output_type": "stream",
     "text": [
      "precessing 3-th data\n"
     ]
    },
    {
     "name": "stderr",
     "output_type": "stream",
     "text": [
      "/data_ssd/ysQiu/anaconda3/envs/scDOT/lib/python3.12/site-packages/scanpy/preprocessing/_scale.py:318: UserWarning: Received a view of an AnnData. Making a copy.\n",
      "  view_to_actual(adata)\n"
     ]
    },
    {
     "name": "stdout",
     "output_type": "stream",
     "text": [
      "precessing 4-th data\n"
     ]
    },
    {
     "name": "stderr",
     "output_type": "stream",
     "text": [
      "/data_ssd/ysQiu/anaconda3/envs/scDOT/lib/python3.12/site-packages/scanpy/preprocessing/_scale.py:318: UserWarning: Received a view of an AnnData. Making a copy.\n",
      "  view_to_actual(adata)\n"
     ]
    },
    {
     "name": "stdout",
     "output_type": "stream",
     "text": [
      "precessing 5-th data\n"
     ]
    },
    {
     "name": "stderr",
     "output_type": "stream",
     "text": [
      "/data_ssd/ysQiu/anaconda3/envs/scDOT/lib/python3.12/site-packages/scanpy/preprocessing/_scale.py:318: UserWarning: Received a view of an AnnData. Making a copy.\n",
      "  view_to_actual(adata)\n"
     ]
    },
    {
     "name": "stdout",
     "output_type": "stream",
     "text": [
      "precessing 6-th data\n"
     ]
    },
    {
     "name": "stderr",
     "output_type": "stream",
     "text": [
      "/data_ssd/ysQiu/anaconda3/envs/scDOT/lib/python3.12/site-packages/scanpy/preprocessing/_scale.py:318: UserWarning: Received a view of an AnnData. Making a copy.\n",
      "  view_to_actual(adata)\n"
     ]
    },
    {
     "name": "stdout",
     "output_type": "stream",
     "text": [
      "precessing 7-th data\n"
     ]
    },
    {
     "name": "stderr",
     "output_type": "stream",
     "text": [
      "/data_ssd/ysQiu/anaconda3/envs/scDOT/lib/python3.12/site-packages/scanpy/preprocessing/_scale.py:318: UserWarning: Received a view of an AnnData. Making a copy.\n",
      "  view_to_actual(adata)\n"
     ]
    },
    {
     "name": "stdout",
     "output_type": "stream",
     "text": [
      "precessing 8-th data\n"
     ]
    },
    {
     "name": "stderr",
     "output_type": "stream",
     "text": [
      "/data_ssd/ysQiu/anaconda3/envs/scDOT/lib/python3.12/site-packages/scanpy/preprocessing/_scale.py:318: UserWarning: Received a view of an AnnData. Making a copy.\n",
      "  view_to_actual(adata)\n"
     ]
    },
    {
     "name": "stdout",
     "output_type": "stream",
     "text": [
      "precessing 9-th data\n"
     ]
    },
    {
     "name": "stderr",
     "output_type": "stream",
     "text": [
      "/data_ssd/ysQiu/anaconda3/envs/scDOT/lib/python3.12/site-packages/scanpy/preprocessing/_scale.py:318: UserWarning: Received a view of an AnnData. Making a copy.\n",
      "  view_to_actual(adata)\n"
     ]
    },
    {
     "name": "stdout",
     "output_type": "stream",
     "text": [
      "precessing 10-th data\n"
     ]
    },
    {
     "name": "stderr",
     "output_type": "stream",
     "text": [
      "/data_ssd/ysQiu/anaconda3/envs/scDOT/lib/python3.12/site-packages/scanpy/preprocessing/_scale.py:318: UserWarning: Received a view of an AnnData. Making a copy.\n",
      "  view_to_actual(adata)\n"
     ]
    },
    {
     "name": "stdout",
     "output_type": "stream",
     "text": [
      "precessing 11-th data\n"
     ]
    },
    {
     "name": "stderr",
     "output_type": "stream",
     "text": [
      "/data_ssd/ysQiu/anaconda3/envs/scDOT/lib/python3.12/site-packages/scanpy/preprocessing/_scale.py:318: UserWarning: Received a view of an AnnData. Making a copy.\n",
      "  view_to_actual(adata)\n"
     ]
    },
    {
     "name": "stdout",
     "output_type": "stream",
     "text": [
      "-------------------------------\n",
      "单个标签的运输成本矩阵形状 (1, 1604)\n",
      "单个标签的运输成本矩阵形状 (1, 1604)\n",
      "单个标签的运输成本矩阵形状 (1, 1604)\n",
      "单个标签的运输成本矩阵形状 (1, 1604)\n",
      "单个标签的运输成本矩阵形状 (1, 1604)\n",
      "单个标签的运输成本矩阵形状 (1, 1604)\n",
      "单个标签的运输成本矩阵形状 (1, 1604)\n",
      "单个标签的运输成本矩阵形状 (1, 1604)\n",
      "单个标签的运输成本矩阵形状 (1, 1604)\n",
      "-------------------------------\n",
      "单个标签的运输成本矩阵形状 (1, 1604)\n",
      "单个标签的运输成本矩阵形状 (1, 1604)\n",
      "单个标签的运输成本矩阵形状 (1, 1604)\n",
      "单个标签的运输成本矩阵形状 (1, 1604)\n",
      "单个标签的运输成本矩阵形状 (1, 1604)\n",
      "单个标签的运输成本矩阵形状 (1, 1604)\n",
      "单个标签的运输成本矩阵形状 (1, 1604)\n",
      "单个标签的运输成本矩阵形状 (1, 1604)\n",
      "单个标签的运输成本矩阵形状 (1, 1604)\n",
      "-------------------------------\n",
      "单个标签的运输成本矩阵形状 (1, 1604)\n",
      "单个标签的运输成本矩阵形状 (1, 1604)\n",
      "单个标签的运输成本矩阵形状 (1, 1604)\n",
      "单个标签的运输成本矩阵形状 (1, 1604)\n",
      "单个标签的运输成本矩阵形状 (1, 1604)\n",
      "单个标签的运输成本矩阵形状 (1, 1604)\n",
      "单个标签的运输成本矩阵形状 (1, 1604)\n",
      "单个标签的运输成本矩阵形状 (1, 1604)\n",
      "单个标签的运输成本矩阵形状 (1, 1604)\n",
      "-------------------------------\n",
      "单个标签的运输成本矩阵形状 (1, 1604)\n",
      "单个标签的运输成本矩阵形状 (1, 1604)\n",
      "单个标签的运输成本矩阵形状 (1, 1604)\n",
      "单个标签的运输成本矩阵形状 (1, 1604)\n",
      "单个标签的运输成本矩阵形状 (1, 1604)\n",
      "单个标签的运输成本矩阵形状 (1, 1604)\n",
      "单个标签的运输成本矩阵形状 (1, 1604)\n",
      "单个标签的运输成本矩阵形状 (1, 1604)\n",
      "单个标签的运输成本矩阵形状 (1, 1604)\n",
      "-------------------------------\n",
      "单个标签的运输成本矩阵形状 (1, 1604)\n",
      "单个标签的运输成本矩阵形状 (1, 1604)\n",
      "单个标签的运输成本矩阵形状 (1, 1604)\n",
      "单个标签的运输成本矩阵形状 (1, 1604)\n",
      "单个标签的运输成本矩阵形状 (1, 1604)\n",
      "单个标签的运输成本矩阵形状 (1, 1604)\n",
      "单个标签的运输成本矩阵形状 (1, 1604)\n",
      "单个标签的运输成本矩阵形状 (1, 1604)\n",
      "单个标签的运输成本矩阵形状 (1, 1604)\n",
      "-------------------------------\n",
      "单个标签的运输成本矩阵形状 (1, 1604)\n",
      "单个标签的运输成本矩阵形状 (1, 1604)\n",
      "单个标签的运输成本矩阵形状 (1, 1604)\n",
      "单个标签的运输成本矩阵形状 (1, 1604)\n",
      "单个标签的运输成本矩阵形状 (1, 1604)\n",
      "单个标签的运输成本矩阵形状 (1, 1604)\n",
      "单个标签的运输成本矩阵形状 (1, 1604)\n",
      "单个标签的运输成本矩阵形状 (1, 1604)\n",
      "单个标签的运输成本矩阵形状 (1, 1604)\n",
      "-------------------------------\n",
      "单个标签的运输成本矩阵形状 (1, 1604)\n",
      "单个标签的运输成本矩阵形状 (1, 1604)\n",
      "单个标签的运输成本矩阵形状 (1, 1604)\n",
      "单个标签的运输成本矩阵形状 (1, 1604)\n",
      "单个标签的运输成本矩阵形状 (1, 1604)\n",
      "单个标签的运输成本矩阵形状 (1, 1604)\n",
      "单个标签的运输成本矩阵形状 (1, 1604)\n",
      "单个标签的运输成本矩阵形状 (1, 1604)\n",
      "单个标签的运输成本矩阵形状 (1, 1604)\n",
      "-------------------------------\n",
      "单个标签的运输成本矩阵形状 (1, 1604)\n",
      "单个标签的运输成本矩阵形状 (1, 1604)\n",
      "单个标签的运输成本矩阵形状 (1, 1604)\n",
      "单个标签的运输成本矩阵形状 (1, 1604)\n",
      "单个标签的运输成本矩阵形状 (1, 1604)\n",
      "单个标签的运输成本矩阵形状 (1, 1604)\n",
      "单个标签的运输成本矩阵形状 (1, 1604)\n",
      "单个标签的运输成本矩阵形状 (1, 1604)\n",
      "单个标签的运输成本矩阵形状 (1, 1604)\n",
      "-------------------------------\n",
      "单个标签的运输成本矩阵形状 (1, 1604)\n",
      "单个标签的运输成本矩阵形状 (1, 1604)\n",
      "单个标签的运输成本矩阵形状 (1, 1604)\n",
      "单个标签的运输成本矩阵形状 (1, 1604)\n",
      "单个标签的运输成本矩阵形状 (1, 1604)\n",
      "单个标签的运输成本矩阵形状 (1, 1604)\n",
      "单个标签的运输成本矩阵形状 (1, 1604)\n",
      "单个标签的运输成本矩阵形状 (1, 1604)\n",
      "单个标签的运输成本矩阵形状 (1, 1604)\n",
      "-------------------------------\n",
      "单个标签的运输成本矩阵形状 (1, 1604)\n",
      "单个标签的运输成本矩阵形状 (1, 1604)\n",
      "单个标签的运输成本矩阵形状 (1, 1604)\n",
      "单个标签的运输成本矩阵形状 (1, 1604)\n",
      "单个标签的运输成本矩阵形状 (1, 1604)\n",
      "单个标签的运输成本矩阵形状 (1, 1604)\n",
      "单个标签的运输成本矩阵形状 (1, 1604)\n",
      "单个标签的运输成本矩阵形状 (1, 1604)\n",
      "单个标签的运输成本矩阵形状 (1, 1604)\n",
      "-------------------------------\n",
      "单个标签的运输成本矩阵形状 (1, 1604)\n",
      "单个标签的运输成本矩阵形状 (1, 1604)\n",
      "单个标签的运输成本矩阵形状 (1, 1604)\n",
      "单个标签的运输成本矩阵形状 (1, 1604)\n",
      "单个标签的运输成本矩阵形状 (1, 1604)\n",
      "单个标签的运输成本矩阵形状 (1, 1604)\n",
      "单个标签的运输成本矩阵形状 (1, 1604)\n",
      "单个标签的运输成本矩阵形状 (1, 1604)\n",
      "第1个运输成本矩阵的形状为：(1604, 9)\n",
      "第2个运输成本矩阵的形状为：(1604, 9)\n",
      "第3个运输成本矩阵的形状为：(1604, 9)\n",
      "第4个运输成本矩阵的形状为：(1604, 9)\n",
      "第5个运输成本矩阵的形状为：(1604, 9)\n",
      "第6个运输成本矩阵的形状为：(1604, 9)\n",
      "第7个运输成本矩阵的形状为：(1604, 9)\n",
      "第8个运输成本矩阵的形状为：(1604, 9)\n",
      "第9个运输成本矩阵的形状为：(1604, 9)\n",
      "第10个运输成本矩阵的形状为：(1604, 9)\n",
      "第11个运输成本矩阵的形状为：(1604, 9)\n",
      "更新初始的权重 [0.08888552 0.09538292 0.08297939 0.10315192 0.09896425 0.09661016\n",
      " 0.08317578 0.07707023 0.10702346 0.07896498 0.0877914 ]\n",
      "tt [np.float64(1.0059515924036386e-10), np.float64(9.349814462523959e-11), np.float64(1.0751178554931737e-10), np.float64(8.562120987676901e-11), np.float64(8.979029736037231e-11), np.float64(9.221210001703774e-11), np.float64(1.0727398224715872e-10), np.float64(1.1494326415560414e-10), np.float64(8.191475589931884e-11), np.float64(1.125000676736236e-10), np.float64(1.0184110767173743e-10)]\n",
      "新一轮的权重为： [0.08888552 0.09538292 0.08297939 0.10315192 0.09896425 0.09661016\n",
      " 0.08317578 0.07707023 0.10702346 0.07896498 0.0877914 ]\n",
      "损失函数值： 0.3760268667526234 loss1： 9.777992846017627e-11 loss2： 0.37602686689550935 loss3： -2.4066589773539516e-10\n",
      "tt [np.float64(1.3536553307060544e-10), np.float64(1.2564356746908434e-10), np.float64(1.4487740800727634e-10), np.float64(1.1496621413877038e-10), np.float64(1.206554332494996e-10), np.float64(1.240308716677562e-10), np.float64(1.4442065141940533e-10), np.float64(1.5488840642619842e-10), np.float64(1.0992184675300874e-10), np.float64(1.5157069831027814e-10), np.float64(1.3710535139765668e-10)]\n",
      "新一轮的权重为： [0.08793401 0.09685656 0.08000032 0.10770251 0.10178038 0.09842183\n",
      " 0.08036439 0.0724222  0.11324098 0.07485057 0.08642624]\n",
      "损失函数值： 0.3755325801632233 loss1： 1.3099867681163507e-10 loss2： 0.37553258027242153 loss3： -2.4019694122220363e-10\n",
      "tt [np.float64(8.278805746416384e-15), np.float64(1.0781083122588492e-14), np.float64(1.599801361350268e-14), np.float64(9.557753159312744e-15), np.float64(3.1603852924795864e-15), np.float64(5.833753940023148e-15), np.float64(1.933468554122194e-14), np.float64(1.570749144623301e-15), np.float64(7.146215472660581e-15), np.float64(8.274894631164586e-15), np.float64(1.0467901963054855e-14), np.float64(1.619775299687203e-14), np.float64(9.601353282079124e-15), np.float64(3.1269189982499954e-15), np.float64(5.674338367671855e-15), np.float64(1.8629831968234695e-14), np.float64(1.5323088567392756e-15), np.float64(7.127504970715967e-15), np.float64(8.775812955974826e-15), np.float64(1.1240122130672581e-14), np.float64(1.726606325920728e-14), np.float64(1.0120598822134561e-14), np.float64(3.310864822051556e-15), np.float64(6.043114483818399e-15), np.float64(2.162508443347045e-14), np.float64(1.6572251795884621e-15), np.float64(7.54917579524693e-15), np.float64(7.97641083313231e-15), np.float64(1.0224300339428199e-14), np.float64(1.5444048114029095e-14), np.float64(9.337828622428168e-15), np.float64(3.0319858262914925e-15), np.float64(5.513051608403539e-15), np.float64(1.752898879897962e-14), np.float64(1.5178703123150806e-15), np.float64(6.969130985626456e-15), np.float64(8.169374319465661e-15), np.float64(1.0400560083844366e-14), np.float64(1.577135564510506e-14), np.float64(9.48851372690126e-15), np.float64(3.0892617502789386e-15), np.float64(5.6449497657586495e-15), np.float64(1.8315372337770106e-14), np.float64(1.5509819619471567e-15), np.float64(7.0840526341212404e-15), np.float64(8.310081605951027e-15), np.float64(1.0734381544537372e-14), np.float64(1.6280753078871255e-14), np.float64(9.708551253331949e-15), np.float64(3.1381862516816397e-15), np.float64(5.7292287450065645e-15), np.float64(1.869201610243055e-14), np.float64(1.5369949808900318e-15), np.float64(7.23040518157653e-15), np.float64(8.63690560461394e-15), np.float64(1.1306941384317943e-14), np.float64(1.700506799730338e-14), np.float64(9.887100839625271e-15), np.float64(3.262271143927273e-15), np.float64(6.050247405304283e-15), np.float64(2.0186457117042782e-14), np.float64(1.612822642346305e-15), np.float64(7.394961701678794e-15), np.float64(8.631727386184124e-15), np.float64(1.1517533184519795e-14), np.float64(1.6799461146468187e-14), np.float64(9.962936693681258e-15), np.float64(3.2774748482712964e-15), np.float64(6.107307800119163e-15), np.float64(2.1861749027031078e-14), np.float64(1.6352230739984938e-15), np.float64(7.406751201650996e-15), np.float64(7.868867875543557e-15), np.float64(1.006995652006988e-14), np.float64(1.5389265618752244e-14), np.float64(9.191382239174535e-15), np.float64(2.9912168238630557e-15), np.float64(5.460319971528972e-15), np.float64(1.6759031217192883e-14), np.float64(1.3511193586773125e-15), np.float64(6.865868596554895e-15), np.float64(8.957645234558923e-15), np.float64(1.1639213765458527e-14), np.float64(1.756055107643222e-14), np.float64(1.0360484759706914e-14), np.float64(3.3861373175981634e-15), np.float64(6.283961707580069e-15), np.float64(2.1760170187928713e-14), np.float64(1.697186786071976e-15), np.float64(7.722768008222204e-15), np.float64(8.575399918706408e-15), np.float64(1.1176865015782226e-14), np.float64(1.6534943891635035e-14), np.float64(9.912676914428925e-15), np.float64(3.2335380435651634e-15), np.float64(5.9070782277158636e-15), np.float64(2.070841112011676e-14), np.float64(1.5663155050874401e-15), np.float64(7.366877506399041e-15)]\n",
      "更新初始的权重 [0.00931344 0.00689189 0.00367871 0.00798493 0.01724268 0.01249947\n",
      " 0.00246217 0.02087762 0.01067335 0.00931783 0.00715658 0.00359134\n",
      " 0.00794314 0.01731226 0.01274156 0.00268012 0.02097442 0.01069741\n",
      " 0.00877276 0.00652151 0.0031581  0.00746201 0.01693326 0.01218849\n",
      " 0.00186904 0.02066149 0.01016814 0.00965859 0.00736947 0.0039323\n",
      " 0.00819907 0.01751117 0.01299127 0.00305974 0.02101089 0.01090323\n",
      " 0.0094369  0.00721481 0.00378043 0.00805174 0.01739089 0.0127867\n",
      " 0.00278348 0.02092734 0.01075349 0.00927846 0.00693073 0.00355565\n",
      " 0.00784134 0.0172888  0.01265768 0.00266014 0.0209626  0.01056576\n",
      " 0.00892063 0.00646929 0.00325886 0.00767466 0.01703257 0.01217804\n",
      " 0.0022223  0.02077219 0.0103586  0.00892619 0.0063074  0.0033405\n",
      " 0.00760494 0.01700143 0.0120947  0.00181656 0.02071627 0.01034391\n",
      " 0.0097844  0.00750763 0.00395831 0.00834484 0.01759729 0.01307397\n",
      " 0.00335679 0.02143676 0.01103957 0.00858289 0.00621572 0.00304814\n",
      " 0.00724969 0.01678057 0.01184031 0.0018389  0.02056237 0.00995794\n",
      " 0.0089869  0.00657135 0.00344854 0.00765107 0.01709156 0.01238966\n",
      " 0.00208701 0.02088876 0.01039366]\n",
      "tt [np.float64(2.939142278117306e-13), np.float64(2.993195237855247e-13), np.float64(2.3555744572300165e-13), np.float64(1.0170426083241601e-13), np.float64(5.481723553434468e-14), np.float64(1.7216536159156577e-13), np.float64(9.565253104164604e-13), np.float64(9.485751599206152e-15), np.float64(1.2456353442670696e-13), np.float64(4.1893058084676565e-13), np.float64(4.3822590620311445e-13), np.float64(2.8386735365033155e-13), np.float64(1.4548961572585308e-13), np.float64(9.023426174407734e-14), np.float64(2.8042676850564573e-13), np.float64(1.2725392369693553e-12), np.float64(1.0832587721247903e-14), np.float64(1.006946850938801e-13), np.float64(2.8316847167877515e-13)]\n",
      "新一轮的权重为： [2.47059722e-15 4.71819062e-09 3.43646399e-25 9.99969828e-01\n",
      " 3.01368476e-05 3.08893945e-08 1.79579201e-22 3.20138104e-31\n",
      " 1.61364520e-50 1.31670681e-50 4.21183400e-55 4.54186411e-57\n",
      " 1.75545056e-57 4.18223514e-53 2.37378428e-32 2.30610881e-59\n",
      " 2.79119397e-57 5.19622865e-29 2.77200232e-19]\n",
      "损失函数值： 0.3776911336997828 loss1： 1.0170285091416817e-13 loss2： 0.3776911336996811 loss3： 2.862936405853504e-18\n",
      "一共迭代了1次\n",
      "查询数据集的形状为(1604, 19003)\n",
      "标签个数 9\n",
      "概率矩阵的形状(1604, 9)\n",
      "The annotation accuracy of Chromium is (np.float64(0.8946384039900249), np.float64(0.8809226932668329))\n",
      "阈值为：0.6, The annotation accuracy of Chromium is (np.float64(0.8946384039900249), np.float64(0.8859102244389028))\n",
      "Time for data loading is 112.33921527862549\n",
      "precessing 0-th data\n"
     ]
    },
    {
     "name": "stderr",
     "output_type": "stream",
     "text": [
      "/data_ssd/ysQiu/anaconda3/envs/scDOT/lib/python3.12/site-packages/numpy/_core/fromnumeric.py:84: FutureWarning: The behavior of DataFrame.sum with axis=None is deprecated, in a future version this will reduce over both axes and return a scalar. To retain the old behavior, pass axis=0 (or do not pass axis)\n",
      "  return reduction(axis=axis, out=out, **passkwargs)\n",
      "/data_ssd/ysQiu/anaconda3/envs/scDOT/lib/python3.12/site-packages/scanpy/preprocessing/_scale.py:318: UserWarning: Received a view of an AnnData. Making a copy.\n",
      "  view_to_actual(adata)\n"
     ]
    },
    {
     "name": "stdout",
     "output_type": "stream",
     "text": [
      "precessing 1-th data\n"
     ]
    },
    {
     "name": "stderr",
     "output_type": "stream",
     "text": [
      "/data_ssd/ysQiu/anaconda3/envs/scDOT/lib/python3.12/site-packages/scanpy/preprocessing/_scale.py:318: UserWarning: Received a view of an AnnData. Making a copy.\n",
      "  view_to_actual(adata)\n"
     ]
    },
    {
     "name": "stdout",
     "output_type": "stream",
     "text": [
      "precessing 2-th data\n"
     ]
    },
    {
     "name": "stderr",
     "output_type": "stream",
     "text": [
      "/data_ssd/ysQiu/anaconda3/envs/scDOT/lib/python3.12/site-packages/scanpy/preprocessing/_scale.py:318: UserWarning: Received a view of an AnnData. Making a copy.\n",
      "  view_to_actual(adata)\n"
     ]
    },
    {
     "name": "stdout",
     "output_type": "stream",
     "text": [
      "precessing 3-th data\n"
     ]
    },
    {
     "name": "stderr",
     "output_type": "stream",
     "text": [
      "/data_ssd/ysQiu/anaconda3/envs/scDOT/lib/python3.12/site-packages/scanpy/preprocessing/_scale.py:318: UserWarning: Received a view of an AnnData. Making a copy.\n",
      "  view_to_actual(adata)\n"
     ]
    },
    {
     "name": "stdout",
     "output_type": "stream",
     "text": [
      "precessing 4-th data\n"
     ]
    },
    {
     "name": "stderr",
     "output_type": "stream",
     "text": [
      "/data_ssd/ysQiu/anaconda3/envs/scDOT/lib/python3.12/site-packages/scanpy/preprocessing/_scale.py:318: UserWarning: Received a view of an AnnData. Making a copy.\n",
      "  view_to_actual(adata)\n"
     ]
    },
    {
     "name": "stdout",
     "output_type": "stream",
     "text": [
      "precessing 5-th data\n"
     ]
    },
    {
     "name": "stderr",
     "output_type": "stream",
     "text": [
      "/data_ssd/ysQiu/anaconda3/envs/scDOT/lib/python3.12/site-packages/scanpy/preprocessing/_scale.py:318: UserWarning: Received a view of an AnnData. Making a copy.\n",
      "  view_to_actual(adata)\n"
     ]
    },
    {
     "name": "stdout",
     "output_type": "stream",
     "text": [
      "precessing 6-th data\n"
     ]
    },
    {
     "name": "stderr",
     "output_type": "stream",
     "text": [
      "/data_ssd/ysQiu/anaconda3/envs/scDOT/lib/python3.12/site-packages/scanpy/preprocessing/_scale.py:318: UserWarning: Received a view of an AnnData. Making a copy.\n",
      "  view_to_actual(adata)\n"
     ]
    },
    {
     "name": "stdout",
     "output_type": "stream",
     "text": [
      "precessing 7-th data\n"
     ]
    },
    {
     "name": "stderr",
     "output_type": "stream",
     "text": [
      "/data_ssd/ysQiu/anaconda3/envs/scDOT/lib/python3.12/site-packages/scanpy/preprocessing/_scale.py:318: UserWarning: Received a view of an AnnData. Making a copy.\n",
      "  view_to_actual(adata)\n"
     ]
    },
    {
     "name": "stdout",
     "output_type": "stream",
     "text": [
      "precessing 8-th data\n"
     ]
    },
    {
     "name": "stderr",
     "output_type": "stream",
     "text": [
      "/data_ssd/ysQiu/anaconda3/envs/scDOT/lib/python3.12/site-packages/scanpy/preprocessing/_scale.py:318: UserWarning: Received a view of an AnnData. Making a copy.\n",
      "  view_to_actual(adata)\n"
     ]
    },
    {
     "name": "stdout",
     "output_type": "stream",
     "text": [
      "precessing 9-th data\n"
     ]
    },
    {
     "name": "stderr",
     "output_type": "stream",
     "text": [
      "/data_ssd/ysQiu/anaconda3/envs/scDOT/lib/python3.12/site-packages/scanpy/preprocessing/_scale.py:318: UserWarning: Received a view of an AnnData. Making a copy.\n",
      "  view_to_actual(adata)\n"
     ]
    },
    {
     "name": "stdout",
     "output_type": "stream",
     "text": [
      "precessing 10-th data\n"
     ]
    },
    {
     "name": "stderr",
     "output_type": "stream",
     "text": [
      "/data_ssd/ysQiu/anaconda3/envs/scDOT/lib/python3.12/site-packages/scanpy/preprocessing/_scale.py:318: UserWarning: Received a view of an AnnData. Making a copy.\n",
      "  view_to_actual(adata)\n"
     ]
    },
    {
     "name": "stdout",
     "output_type": "stream",
     "text": [
      "precessing 11-th data\n"
     ]
    },
    {
     "name": "stderr",
     "output_type": "stream",
     "text": [
      "/data_ssd/ysQiu/anaconda3/envs/scDOT/lib/python3.12/site-packages/scanpy/preprocessing/_scale.py:318: UserWarning: Received a view of an AnnData. Making a copy.\n",
      "  view_to_actual(adata)\n"
     ]
    },
    {
     "name": "stdout",
     "output_type": "stream",
     "text": [
      "-------------------------------\n",
      "单个标签的运输成本矩阵形状 (1, 1604)\n",
      "单个标签的运输成本矩阵形状 (1, 1604)\n",
      "单个标签的运输成本矩阵形状 (1, 1604)\n",
      "单个标签的运输成本矩阵形状 (1, 1604)\n",
      "单个标签的运输成本矩阵形状 (1, 1604)\n",
      "单个标签的运输成本矩阵形状 (1, 1604)\n",
      "单个标签的运输成本矩阵形状 (1, 1604)\n",
      "单个标签的运输成本矩阵形状 (1, 1604)\n",
      "单个标签的运输成本矩阵形状 (1, 1604)\n",
      "-------------------------------\n",
      "单个标签的运输成本矩阵形状 (1, 1604)\n",
      "单个标签的运输成本矩阵形状 (1, 1604)\n",
      "单个标签的运输成本矩阵形状 (1, 1604)\n",
      "单个标签的运输成本矩阵形状 (1, 1604)\n",
      "单个标签的运输成本矩阵形状 (1, 1604)\n",
      "单个标签的运输成本矩阵形状 (1, 1604)\n",
      "单个标签的运输成本矩阵形状 (1, 1604)\n",
      "单个标签的运输成本矩阵形状 (1, 1604)\n",
      "单个标签的运输成本矩阵形状 (1, 1604)\n",
      "-------------------------------\n",
      "单个标签的运输成本矩阵形状 (1, 1604)\n",
      "单个标签的运输成本矩阵形状 (1, 1604)\n",
      "单个标签的运输成本矩阵形状 (1, 1604)\n",
      "单个标签的运输成本矩阵形状 (1, 1604)\n",
      "单个标签的运输成本矩阵形状 (1, 1604)\n",
      "单个标签的运输成本矩阵形状 (1, 1604)\n",
      "单个标签的运输成本矩阵形状 (1, 1604)\n",
      "单个标签的运输成本矩阵形状 (1, 1604)\n",
      "单个标签的运输成本矩阵形状 (1, 1604)\n",
      "-------------------------------\n",
      "单个标签的运输成本矩阵形状 (1, 1604)\n",
      "单个标签的运输成本矩阵形状 (1, 1604)\n",
      "单个标签的运输成本矩阵形状 (1, 1604)\n",
      "单个标签的运输成本矩阵形状 (1, 1604)\n",
      "单个标签的运输成本矩阵形状 (1, 1604)\n",
      "单个标签的运输成本矩阵形状 (1, 1604)\n",
      "单个标签的运输成本矩阵形状 (1, 1604)\n",
      "单个标签的运输成本矩阵形状 (1, 1604)\n",
      "单个标签的运输成本矩阵形状 (1, 1604)\n",
      "-------------------------------\n",
      "单个标签的运输成本矩阵形状 (1, 1604)\n",
      "单个标签的运输成本矩阵形状 (1, 1604)\n",
      "单个标签的运输成本矩阵形状 (1, 1604)\n",
      "单个标签的运输成本矩阵形状 (1, 1604)\n",
      "单个标签的运输成本矩阵形状 (1, 1604)\n",
      "单个标签的运输成本矩阵形状 (1, 1604)\n",
      "单个标签的运输成本矩阵形状 (1, 1604)\n",
      "单个标签的运输成本矩阵形状 (1, 1604)\n",
      "单个标签的运输成本矩阵形状 (1, 1604)\n",
      "-------------------------------\n",
      "单个标签的运输成本矩阵形状 (1, 1604)\n",
      "单个标签的运输成本矩阵形状 (1, 1604)\n",
      "单个标签的运输成本矩阵形状 (1, 1604)\n",
      "单个标签的运输成本矩阵形状 (1, 1604)\n",
      "单个标签的运输成本矩阵形状 (1, 1604)\n",
      "单个标签的运输成本矩阵形状 (1, 1604)\n",
      "单个标签的运输成本矩阵形状 (1, 1604)\n",
      "单个标签的运输成本矩阵形状 (1, 1604)\n",
      "单个标签的运输成本矩阵形状 (1, 1604)\n",
      "-------------------------------\n",
      "单个标签的运输成本矩阵形状 (1, 1604)\n",
      "单个标签的运输成本矩阵形状 (1, 1604)\n",
      "单个标签的运输成本矩阵形状 (1, 1604)\n",
      "单个标签的运输成本矩阵形状 (1, 1604)\n",
      "单个标签的运输成本矩阵形状 (1, 1604)\n",
      "单个标签的运输成本矩阵形状 (1, 1604)\n",
      "单个标签的运输成本矩阵形状 (1, 1604)\n",
      "单个标签的运输成本矩阵形状 (1, 1604)\n",
      "单个标签的运输成本矩阵形状 (1, 1604)\n",
      "-------------------------------\n",
      "单个标签的运输成本矩阵形状 (1, 1604)\n",
      "单个标签的运输成本矩阵形状 (1, 1604)\n",
      "单个标签的运输成本矩阵形状 (1, 1604)\n",
      "单个标签的运输成本矩阵形状 (1, 1604)\n",
      "单个标签的运输成本矩阵形状 (1, 1604)\n",
      "单个标签的运输成本矩阵形状 (1, 1604)\n",
      "单个标签的运输成本矩阵形状 (1, 1604)\n",
      "单个标签的运输成本矩阵形状 (1, 1604)\n",
      "单个标签的运输成本矩阵形状 (1, 1604)\n",
      "-------------------------------\n",
      "单个标签的运输成本矩阵形状 (1, 1604)\n",
      "单个标签的运输成本矩阵形状 (1, 1604)\n",
      "单个标签的运输成本矩阵形状 (1, 1604)\n",
      "单个标签的运输成本矩阵形状 (1, 1604)\n",
      "单个标签的运输成本矩阵形状 (1, 1604)\n",
      "单个标签的运输成本矩阵形状 (1, 1604)\n",
      "单个标签的运输成本矩阵形状 (1, 1604)\n",
      "单个标签的运输成本矩阵形状 (1, 1604)\n",
      "单个标签的运输成本矩阵形状 (1, 1604)\n",
      "-------------------------------\n",
      "单个标签的运输成本矩阵形状 (1, 1604)\n",
      "单个标签的运输成本矩阵形状 (1, 1604)\n",
      "单个标签的运输成本矩阵形状 (1, 1604)\n",
      "单个标签的运输成本矩阵形状 (1, 1604)\n",
      "单个标签的运输成本矩阵形状 (1, 1604)\n",
      "单个标签的运输成本矩阵形状 (1, 1604)\n",
      "单个标签的运输成本矩阵形状 (1, 1604)\n",
      "单个标签的运输成本矩阵形状 (1, 1604)\n",
      "单个标签的运输成本矩阵形状 (1, 1604)\n",
      "-------------------------------\n",
      "单个标签的运输成本矩阵形状 (1, 1604)\n",
      "单个标签的运输成本矩阵形状 (1, 1604)\n",
      "单个标签的运输成本矩阵形状 (1, 1604)\n",
      "单个标签的运输成本矩阵形状 (1, 1604)\n",
      "单个标签的运输成本矩阵形状 (1, 1604)\n",
      "单个标签的运输成本矩阵形状 (1, 1604)\n",
      "单个标签的运输成本矩阵形状 (1, 1604)\n",
      "单个标签的运输成本矩阵形状 (1, 1604)\n",
      "第1个运输成本矩阵的形状为：(1604, 9)\n",
      "第2个运输成本矩阵的形状为：(1604, 9)\n",
      "第3个运输成本矩阵的形状为：(1604, 9)\n",
      "第4个运输成本矩阵的形状为：(1604, 9)\n",
      "第5个运输成本矩阵的形状为：(1604, 9)\n",
      "第6个运输成本矩阵的形状为：(1604, 9)\n",
      "第7个运输成本矩阵的形状为：(1604, 9)\n",
      "第8个运输成本矩阵的形状为：(1604, 9)\n",
      "第9个运输成本矩阵的形状为：(1604, 9)\n",
      "第10个运输成本矩阵的形状为：(1604, 9)\n",
      "第11个运输成本矩阵的形状为：(1604, 9)\n",
      "更新初始的权重 [0.08888552 0.09538292 0.08297939 0.10315192 0.09896425 0.09661016\n",
      " 0.08317578 0.07707023 0.10702346 0.07896498 0.0877914 ]\n",
      "tt [np.float64(1.0059515924036386e-10), np.float64(9.349814462523959e-11), np.float64(1.0751178554931737e-10), np.float64(8.562120987676901e-11), np.float64(8.979029736037231e-11), np.float64(9.221210001703774e-11), np.float64(1.0727398224715872e-10), np.float64(1.1494326415560414e-10), np.float64(8.191475589931884e-11), np.float64(1.125000676736236e-10), np.float64(1.0184110767173743e-10)]\n",
      "新一轮的权重为： [0.08888552 0.09538292 0.08297939 0.10315192 0.09896425 0.09661016\n",
      " 0.08317578 0.07707023 0.10702346 0.07896498 0.0877914 ]\n",
      "损失函数值： 0.3760268667526234 loss1： 9.777992846017627e-11 loss2： 0.37602686689550935 loss3： -2.4066589773539516e-10\n",
      "tt [np.float64(1.3536553307060544e-10), np.float64(1.2564356746908434e-10), np.float64(1.4487740800727634e-10), np.float64(1.1496621413877038e-10), np.float64(1.206554332494996e-10), np.float64(1.240308716677562e-10), np.float64(1.4442065141940533e-10), np.float64(1.5488840642619842e-10), np.float64(1.0992184675300874e-10), np.float64(1.5157069831027814e-10), np.float64(1.3710535139765668e-10)]\n",
      "新一轮的权重为： [0.08793401 0.09685656 0.08000032 0.10770251 0.10178038 0.09842183\n",
      " 0.08036439 0.0724222  0.11324098 0.07485057 0.08642624]\n",
      "损失函数值： 0.3755325801632233 loss1： 1.3099867681163507e-10 loss2： 0.37553258027242153 loss3： -2.4019694122220363e-10\n",
      "tt [np.float64(8.278805746416384e-15), np.float64(1.0781083122588492e-14), np.float64(1.599801361350268e-14), np.float64(9.557753159312744e-15), np.float64(3.1603852924795864e-15), np.float64(5.833753940023148e-15), np.float64(1.933468554122194e-14), np.float64(1.570749144623301e-15), np.float64(7.146215472660581e-15), np.float64(8.274894631164586e-15), np.float64(1.0467901963054855e-14), np.float64(1.619775299687203e-14), np.float64(9.601353282079124e-15), np.float64(3.1269189982499954e-15), np.float64(5.674338367671855e-15), np.float64(1.8629831968234695e-14), np.float64(1.5323088567392756e-15), np.float64(7.127504970715967e-15), np.float64(8.775812955974826e-15), np.float64(1.1240122130672581e-14), np.float64(1.726606325920728e-14), np.float64(1.0120598822134561e-14), np.float64(3.310864822051556e-15), np.float64(6.043114483818399e-15), np.float64(2.162508443347045e-14), np.float64(1.6572251795884621e-15), np.float64(7.54917579524693e-15), np.float64(7.97641083313231e-15), np.float64(1.0224300339428199e-14), np.float64(1.5444048114029095e-14), np.float64(9.337828622428168e-15), np.float64(3.0319858262914925e-15), np.float64(5.513051608403539e-15), np.float64(1.752898879897962e-14), np.float64(1.5178703123150806e-15), np.float64(6.969130985626456e-15), np.float64(8.169374319465661e-15), np.float64(1.0400560083844366e-14), np.float64(1.577135564510506e-14), np.float64(9.48851372690126e-15), np.float64(3.0892617502789386e-15), np.float64(5.6449497657586495e-15), np.float64(1.8315372337770106e-14), np.float64(1.5509819619471567e-15), np.float64(7.0840526341212404e-15), np.float64(8.310081605951027e-15), np.float64(1.0734381544537372e-14), np.float64(1.6280753078871255e-14), np.float64(9.708551253331949e-15), np.float64(3.1381862516816397e-15), np.float64(5.7292287450065645e-15), np.float64(1.869201610243055e-14), np.float64(1.5369949808900318e-15), np.float64(7.23040518157653e-15), np.float64(8.63690560461394e-15), np.float64(1.1306941384317943e-14), np.float64(1.700506799730338e-14), np.float64(9.887100839625271e-15), np.float64(3.262271143927273e-15), np.float64(6.050247405304283e-15), np.float64(2.0186457117042782e-14), np.float64(1.612822642346305e-15), np.float64(7.394961701678794e-15), np.float64(8.631727386184124e-15), np.float64(1.1517533184519795e-14), np.float64(1.6799461146468187e-14), np.float64(9.962936693681258e-15), np.float64(3.2774748482712964e-15), np.float64(6.107307800119163e-15), np.float64(2.1861749027031078e-14), np.float64(1.6352230739984938e-15), np.float64(7.406751201650996e-15), np.float64(7.868867875543557e-15), np.float64(1.006995652006988e-14), np.float64(1.5389265618752244e-14), np.float64(9.191382239174535e-15), np.float64(2.9912168238630557e-15), np.float64(5.460319971528972e-15), np.float64(1.6759031217192883e-14), np.float64(1.3511193586773125e-15), np.float64(6.865868596554895e-15), np.float64(8.957645234558923e-15), np.float64(1.1639213765458527e-14), np.float64(1.756055107643222e-14), np.float64(1.0360484759706914e-14), np.float64(3.3861373175981634e-15), np.float64(6.283961707580069e-15), np.float64(2.1760170187928713e-14), np.float64(1.697186786071976e-15), np.float64(7.722768008222204e-15), np.float64(8.575399918706408e-15), np.float64(1.1176865015782226e-14), np.float64(1.6534943891635035e-14), np.float64(9.912676914428925e-15), np.float64(3.2335380435651634e-15), np.float64(5.9070782277158636e-15), np.float64(2.070841112011676e-14), np.float64(1.5663155050874401e-15), np.float64(7.366877506399041e-15)]\n",
      "更新初始的权重 [0.00931344 0.00689189 0.00367871 0.00798493 0.01724268 0.01249947\n",
      " 0.00246217 0.02087762 0.01067335 0.00931783 0.00715658 0.00359134\n",
      " 0.00794314 0.01731226 0.01274156 0.00268012 0.02097442 0.01069741\n",
      " 0.00877276 0.00652151 0.0031581  0.00746201 0.01693326 0.01218849\n",
      " 0.00186904 0.02066149 0.01016814 0.00965859 0.00736947 0.0039323\n",
      " 0.00819907 0.01751117 0.01299127 0.00305974 0.02101089 0.01090323\n",
      " 0.0094369  0.00721481 0.00378043 0.00805174 0.01739089 0.0127867\n",
      " 0.00278348 0.02092734 0.01075349 0.00927846 0.00693073 0.00355565\n",
      " 0.00784134 0.0172888  0.01265768 0.00266014 0.0209626  0.01056576\n",
      " 0.00892063 0.00646929 0.00325886 0.00767466 0.01703257 0.01217804\n",
      " 0.0022223  0.02077219 0.0103586  0.00892619 0.0063074  0.0033405\n",
      " 0.00760494 0.01700143 0.0120947  0.00181656 0.02071627 0.01034391\n",
      " 0.0097844  0.00750763 0.00395831 0.00834484 0.01759729 0.01307397\n",
      " 0.00335679 0.02143676 0.01103957 0.00858289 0.00621572 0.00304814\n",
      " 0.00724969 0.01678057 0.01184031 0.0018389  0.02056237 0.00995794\n",
      " 0.0089869  0.00657135 0.00344854 0.00765107 0.01709156 0.01238966\n",
      " 0.00208701 0.02088876 0.01039366]\n",
      "tt [np.float64(2.939142278117306e-13), np.float64(2.993195237855247e-13), np.float64(2.3555744572300165e-13), np.float64(1.0170426083241601e-13), np.float64(5.481723553434468e-14), np.float64(1.7216536159156577e-13), np.float64(9.565253104164604e-13), np.float64(9.485751599206152e-15), np.float64(1.2456353442670696e-13), np.float64(4.1893058084676565e-13), np.float64(4.3822590620311445e-13), np.float64(2.8386735365033155e-13), np.float64(1.4548961572585308e-13), np.float64(9.023426174407734e-14), np.float64(2.8042676850564573e-13), np.float64(1.2725392369693553e-12), np.float64(1.0832587721247903e-14), np.float64(1.006946850938801e-13), np.float64(2.8316847167877515e-13)]\n",
      "新一轮的权重为： [2.47059722e-15 4.71819062e-09 3.43646399e-25 9.99969828e-01\n",
      " 3.01368476e-05 3.08893945e-08 1.79579201e-22 3.20138104e-31\n",
      " 1.61364520e-50 1.31670681e-50 4.21183400e-55 4.54186411e-57\n",
      " 1.75545056e-57 4.18223514e-53 2.37378428e-32 2.30610881e-59\n",
      " 2.79119397e-57 5.19622865e-29 2.77200232e-19]\n",
      "损失函数值： 0.3776911336997828 loss1： 1.0170285091416817e-13 loss2： 0.3776911336996811 loss3： 2.862936405853504e-18\n",
      "一共迭代了1次\n",
      "查询数据集的形状为(1604, 19003)\n",
      "标签个数 9\n",
      "概率矩阵的形状(1604, 9)\n",
      "The annotation accuracy of Chromium is (np.float64(0.8946384039900249), np.float64(0.8622194513715711))\n",
      "阈值为：0.7, The annotation accuracy of Chromium is (np.float64(0.8946384039900249), np.float64(0.8765586034912718))\n",
      "Time for data loading is 116.2115318775177\n",
      "precessing 0-th data\n"
     ]
    },
    {
     "name": "stderr",
     "output_type": "stream",
     "text": [
      "/data_ssd/ysQiu/anaconda3/envs/scDOT/lib/python3.12/site-packages/numpy/_core/fromnumeric.py:84: FutureWarning: The behavior of DataFrame.sum with axis=None is deprecated, in a future version this will reduce over both axes and return a scalar. To retain the old behavior, pass axis=0 (or do not pass axis)\n",
      "  return reduction(axis=axis, out=out, **passkwargs)\n",
      "/data_ssd/ysQiu/anaconda3/envs/scDOT/lib/python3.12/site-packages/scanpy/preprocessing/_scale.py:318: UserWarning: Received a view of an AnnData. Making a copy.\n",
      "  view_to_actual(adata)\n"
     ]
    },
    {
     "name": "stdout",
     "output_type": "stream",
     "text": [
      "precessing 1-th data\n"
     ]
    },
    {
     "name": "stderr",
     "output_type": "stream",
     "text": [
      "/data_ssd/ysQiu/anaconda3/envs/scDOT/lib/python3.12/site-packages/scanpy/preprocessing/_scale.py:318: UserWarning: Received a view of an AnnData. Making a copy.\n",
      "  view_to_actual(adata)\n"
     ]
    },
    {
     "name": "stdout",
     "output_type": "stream",
     "text": [
      "precessing 2-th data\n"
     ]
    },
    {
     "name": "stderr",
     "output_type": "stream",
     "text": [
      "/data_ssd/ysQiu/anaconda3/envs/scDOT/lib/python3.12/site-packages/scanpy/preprocessing/_scale.py:318: UserWarning: Received a view of an AnnData. Making a copy.\n",
      "  view_to_actual(adata)\n"
     ]
    },
    {
     "name": "stdout",
     "output_type": "stream",
     "text": [
      "precessing 3-th data\n"
     ]
    },
    {
     "name": "stderr",
     "output_type": "stream",
     "text": [
      "/data_ssd/ysQiu/anaconda3/envs/scDOT/lib/python3.12/site-packages/scanpy/preprocessing/_scale.py:318: UserWarning: Received a view of an AnnData. Making a copy.\n",
      "  view_to_actual(adata)\n"
     ]
    },
    {
     "name": "stdout",
     "output_type": "stream",
     "text": [
      "precessing 4-th data\n"
     ]
    },
    {
     "name": "stderr",
     "output_type": "stream",
     "text": [
      "/data_ssd/ysQiu/anaconda3/envs/scDOT/lib/python3.12/site-packages/scanpy/preprocessing/_scale.py:318: UserWarning: Received a view of an AnnData. Making a copy.\n",
      "  view_to_actual(adata)\n"
     ]
    },
    {
     "name": "stdout",
     "output_type": "stream",
     "text": [
      "precessing 5-th data\n"
     ]
    },
    {
     "name": "stderr",
     "output_type": "stream",
     "text": [
      "/data_ssd/ysQiu/anaconda3/envs/scDOT/lib/python3.12/site-packages/scanpy/preprocessing/_scale.py:318: UserWarning: Received a view of an AnnData. Making a copy.\n",
      "  view_to_actual(adata)\n"
     ]
    },
    {
     "name": "stdout",
     "output_type": "stream",
     "text": [
      "precessing 6-th data\n"
     ]
    },
    {
     "name": "stderr",
     "output_type": "stream",
     "text": [
      "/data_ssd/ysQiu/anaconda3/envs/scDOT/lib/python3.12/site-packages/scanpy/preprocessing/_scale.py:318: UserWarning: Received a view of an AnnData. Making a copy.\n",
      "  view_to_actual(adata)\n"
     ]
    },
    {
     "name": "stdout",
     "output_type": "stream",
     "text": [
      "precessing 7-th data\n"
     ]
    },
    {
     "name": "stderr",
     "output_type": "stream",
     "text": [
      "/data_ssd/ysQiu/anaconda3/envs/scDOT/lib/python3.12/site-packages/scanpy/preprocessing/_scale.py:318: UserWarning: Received a view of an AnnData. Making a copy.\n",
      "  view_to_actual(adata)\n"
     ]
    },
    {
     "name": "stdout",
     "output_type": "stream",
     "text": [
      "precessing 8-th data\n"
     ]
    },
    {
     "name": "stderr",
     "output_type": "stream",
     "text": [
      "/data_ssd/ysQiu/anaconda3/envs/scDOT/lib/python3.12/site-packages/scanpy/preprocessing/_scale.py:318: UserWarning: Received a view of an AnnData. Making a copy.\n",
      "  view_to_actual(adata)\n"
     ]
    },
    {
     "name": "stdout",
     "output_type": "stream",
     "text": [
      "precessing 9-th data\n"
     ]
    },
    {
     "name": "stderr",
     "output_type": "stream",
     "text": [
      "/data_ssd/ysQiu/anaconda3/envs/scDOT/lib/python3.12/site-packages/scanpy/preprocessing/_scale.py:318: UserWarning: Received a view of an AnnData. Making a copy.\n",
      "  view_to_actual(adata)\n"
     ]
    },
    {
     "name": "stdout",
     "output_type": "stream",
     "text": [
      "precessing 10-th data\n"
     ]
    },
    {
     "name": "stderr",
     "output_type": "stream",
     "text": [
      "/data_ssd/ysQiu/anaconda3/envs/scDOT/lib/python3.12/site-packages/scanpy/preprocessing/_scale.py:318: UserWarning: Received a view of an AnnData. Making a copy.\n",
      "  view_to_actual(adata)\n"
     ]
    },
    {
     "name": "stdout",
     "output_type": "stream",
     "text": [
      "precessing 11-th data\n"
     ]
    },
    {
     "name": "stderr",
     "output_type": "stream",
     "text": [
      "/data_ssd/ysQiu/anaconda3/envs/scDOT/lib/python3.12/site-packages/scanpy/preprocessing/_scale.py:318: UserWarning: Received a view of an AnnData. Making a copy.\n",
      "  view_to_actual(adata)\n"
     ]
    },
    {
     "name": "stdout",
     "output_type": "stream",
     "text": [
      "-------------------------------\n",
      "单个标签的运输成本矩阵形状 (1, 1604)\n",
      "单个标签的运输成本矩阵形状 (1, 1604)\n",
      "单个标签的运输成本矩阵形状 (1, 1604)\n",
      "单个标签的运输成本矩阵形状 (1, 1604)\n",
      "单个标签的运输成本矩阵形状 (1, 1604)\n",
      "单个标签的运输成本矩阵形状 (1, 1604)\n",
      "单个标签的运输成本矩阵形状 (1, 1604)\n",
      "单个标签的运输成本矩阵形状 (1, 1604)\n",
      "单个标签的运输成本矩阵形状 (1, 1604)\n",
      "-------------------------------\n",
      "单个标签的运输成本矩阵形状 (1, 1604)\n",
      "单个标签的运输成本矩阵形状 (1, 1604)\n",
      "单个标签的运输成本矩阵形状 (1, 1604)\n",
      "单个标签的运输成本矩阵形状 (1, 1604)\n",
      "单个标签的运输成本矩阵形状 (1, 1604)\n",
      "单个标签的运输成本矩阵形状 (1, 1604)\n",
      "单个标签的运输成本矩阵形状 (1, 1604)\n",
      "单个标签的运输成本矩阵形状 (1, 1604)\n",
      "单个标签的运输成本矩阵形状 (1, 1604)\n",
      "-------------------------------\n",
      "单个标签的运输成本矩阵形状 (1, 1604)\n",
      "单个标签的运输成本矩阵形状 (1, 1604)\n",
      "单个标签的运输成本矩阵形状 (1, 1604)\n",
      "单个标签的运输成本矩阵形状 (1, 1604)\n",
      "单个标签的运输成本矩阵形状 (1, 1604)\n",
      "单个标签的运输成本矩阵形状 (1, 1604)\n",
      "单个标签的运输成本矩阵形状 (1, 1604)\n",
      "单个标签的运输成本矩阵形状 (1, 1604)\n",
      "单个标签的运输成本矩阵形状 (1, 1604)\n",
      "-------------------------------\n",
      "单个标签的运输成本矩阵形状 (1, 1604)\n",
      "单个标签的运输成本矩阵形状 (1, 1604)\n",
      "单个标签的运输成本矩阵形状 (1, 1604)\n",
      "单个标签的运输成本矩阵形状 (1, 1604)\n",
      "单个标签的运输成本矩阵形状 (1, 1604)\n",
      "单个标签的运输成本矩阵形状 (1, 1604)\n",
      "单个标签的运输成本矩阵形状 (1, 1604)\n",
      "单个标签的运输成本矩阵形状 (1, 1604)\n",
      "单个标签的运输成本矩阵形状 (1, 1604)\n",
      "-------------------------------\n",
      "单个标签的运输成本矩阵形状 (1, 1604)\n",
      "单个标签的运输成本矩阵形状 (1, 1604)\n",
      "单个标签的运输成本矩阵形状 (1, 1604)\n",
      "单个标签的运输成本矩阵形状 (1, 1604)\n",
      "单个标签的运输成本矩阵形状 (1, 1604)\n",
      "单个标签的运输成本矩阵形状 (1, 1604)\n",
      "单个标签的运输成本矩阵形状 (1, 1604)\n",
      "单个标签的运输成本矩阵形状 (1, 1604)\n",
      "单个标签的运输成本矩阵形状 (1, 1604)\n",
      "-------------------------------\n",
      "单个标签的运输成本矩阵形状 (1, 1604)\n",
      "单个标签的运输成本矩阵形状 (1, 1604)\n",
      "单个标签的运输成本矩阵形状 (1, 1604)\n",
      "单个标签的运输成本矩阵形状 (1, 1604)\n",
      "单个标签的运输成本矩阵形状 (1, 1604)\n",
      "单个标签的运输成本矩阵形状 (1, 1604)\n",
      "单个标签的运输成本矩阵形状 (1, 1604)\n",
      "单个标签的运输成本矩阵形状 (1, 1604)\n",
      "单个标签的运输成本矩阵形状 (1, 1604)\n",
      "-------------------------------\n",
      "单个标签的运输成本矩阵形状 (1, 1604)\n",
      "单个标签的运输成本矩阵形状 (1, 1604)\n",
      "单个标签的运输成本矩阵形状 (1, 1604)\n",
      "单个标签的运输成本矩阵形状 (1, 1604)\n",
      "单个标签的运输成本矩阵形状 (1, 1604)\n",
      "单个标签的运输成本矩阵形状 (1, 1604)\n",
      "单个标签的运输成本矩阵形状 (1, 1604)\n",
      "单个标签的运输成本矩阵形状 (1, 1604)\n",
      "单个标签的运输成本矩阵形状 (1, 1604)\n",
      "-------------------------------\n",
      "单个标签的运输成本矩阵形状 (1, 1604)\n",
      "单个标签的运输成本矩阵形状 (1, 1604)\n",
      "单个标签的运输成本矩阵形状 (1, 1604)\n",
      "单个标签的运输成本矩阵形状 (1, 1604)\n",
      "单个标签的运输成本矩阵形状 (1, 1604)\n",
      "单个标签的运输成本矩阵形状 (1, 1604)\n",
      "单个标签的运输成本矩阵形状 (1, 1604)\n",
      "单个标签的运输成本矩阵形状 (1, 1604)\n",
      "单个标签的运输成本矩阵形状 (1, 1604)\n",
      "-------------------------------\n",
      "单个标签的运输成本矩阵形状 (1, 1604)\n",
      "单个标签的运输成本矩阵形状 (1, 1604)\n",
      "单个标签的运输成本矩阵形状 (1, 1604)\n",
      "单个标签的运输成本矩阵形状 (1, 1604)\n",
      "单个标签的运输成本矩阵形状 (1, 1604)\n",
      "单个标签的运输成本矩阵形状 (1, 1604)\n",
      "单个标签的运输成本矩阵形状 (1, 1604)\n",
      "单个标签的运输成本矩阵形状 (1, 1604)\n",
      "单个标签的运输成本矩阵形状 (1, 1604)\n",
      "-------------------------------\n",
      "单个标签的运输成本矩阵形状 (1, 1604)\n",
      "单个标签的运输成本矩阵形状 (1, 1604)\n",
      "单个标签的运输成本矩阵形状 (1, 1604)\n",
      "单个标签的运输成本矩阵形状 (1, 1604)\n",
      "单个标签的运输成本矩阵形状 (1, 1604)\n",
      "单个标签的运输成本矩阵形状 (1, 1604)\n",
      "单个标签的运输成本矩阵形状 (1, 1604)\n",
      "单个标签的运输成本矩阵形状 (1, 1604)\n",
      "单个标签的运输成本矩阵形状 (1, 1604)\n",
      "-------------------------------\n",
      "单个标签的运输成本矩阵形状 (1, 1604)\n",
      "单个标签的运输成本矩阵形状 (1, 1604)\n",
      "单个标签的运输成本矩阵形状 (1, 1604)\n",
      "单个标签的运输成本矩阵形状 (1, 1604)\n",
      "单个标签的运输成本矩阵形状 (1, 1604)\n",
      "单个标签的运输成本矩阵形状 (1, 1604)\n",
      "单个标签的运输成本矩阵形状 (1, 1604)\n",
      "单个标签的运输成本矩阵形状 (1, 1604)\n",
      "第1个运输成本矩阵的形状为：(1604, 9)\n",
      "第2个运输成本矩阵的形状为：(1604, 9)\n",
      "第3个运输成本矩阵的形状为：(1604, 9)\n",
      "第4个运输成本矩阵的形状为：(1604, 9)\n",
      "第5个运输成本矩阵的形状为：(1604, 9)\n",
      "第6个运输成本矩阵的形状为：(1604, 9)\n",
      "第7个运输成本矩阵的形状为：(1604, 9)\n",
      "第8个运输成本矩阵的形状为：(1604, 9)\n",
      "第9个运输成本矩阵的形状为：(1604, 9)\n",
      "第10个运输成本矩阵的形状为：(1604, 9)\n",
      "第11个运输成本矩阵的形状为：(1604, 9)\n",
      "更新初始的权重 [0.08888552 0.09538292 0.08297939 0.10315192 0.09896425 0.09661016\n",
      " 0.08317578 0.07707023 0.10702346 0.07896498 0.0877914 ]\n",
      "tt [np.float64(1.0059515924036386e-10), np.float64(9.349814462523959e-11), np.float64(1.0751178554931737e-10), np.float64(8.562120987676901e-11), np.float64(8.979029736037231e-11), np.float64(9.221210001703774e-11), np.float64(1.0727398224715872e-10), np.float64(1.1494326415560414e-10), np.float64(8.191475589931884e-11), np.float64(1.125000676736236e-10), np.float64(1.0184110767173743e-10)]\n",
      "新一轮的权重为： [0.08888552 0.09538292 0.08297939 0.10315192 0.09896425 0.09661016\n",
      " 0.08317578 0.07707023 0.10702346 0.07896498 0.0877914 ]\n",
      "损失函数值： 0.3760268667526234 loss1： 9.777992846017627e-11 loss2： 0.37602686689550935 loss3： -2.4066589773539516e-10\n",
      "tt [np.float64(1.3536553307060544e-10), np.float64(1.2564356746908434e-10), np.float64(1.4487740800727634e-10), np.float64(1.1496621413877038e-10), np.float64(1.206554332494996e-10), np.float64(1.240308716677562e-10), np.float64(1.4442065141940533e-10), np.float64(1.5488840642619842e-10), np.float64(1.0992184675300874e-10), np.float64(1.5157069831027814e-10), np.float64(1.3710535139765668e-10)]\n",
      "新一轮的权重为： [0.08793401 0.09685656 0.08000032 0.10770251 0.10178038 0.09842183\n",
      " 0.08036439 0.0724222  0.11324098 0.07485057 0.08642624]\n",
      "损失函数值： 0.3755325801632233 loss1： 1.3099867681163507e-10 loss2： 0.37553258027242153 loss3： -2.4019694122220363e-10\n",
      "tt [np.float64(8.278805746416384e-15), np.float64(1.0781083122588492e-14), np.float64(1.599801361350268e-14), np.float64(9.557753159312744e-15), np.float64(3.1603852924795864e-15), np.float64(5.833753940023148e-15), np.float64(1.933468554122194e-14), np.float64(1.570749144623301e-15), np.float64(7.146215472660581e-15), np.float64(8.274894631164586e-15), np.float64(1.0467901963054855e-14), np.float64(1.619775299687203e-14), np.float64(9.601353282079124e-15), np.float64(3.1269189982499954e-15), np.float64(5.674338367671855e-15), np.float64(1.8629831968234695e-14), np.float64(1.5323088567392756e-15), np.float64(7.127504970715967e-15), np.float64(8.775812955974826e-15), np.float64(1.1240122130672581e-14), np.float64(1.726606325920728e-14), np.float64(1.0120598822134561e-14), np.float64(3.310864822051556e-15), np.float64(6.043114483818399e-15), np.float64(2.162508443347045e-14), np.float64(1.6572251795884621e-15), np.float64(7.54917579524693e-15), np.float64(7.97641083313231e-15), np.float64(1.0224300339428199e-14), np.float64(1.5444048114029095e-14), np.float64(9.337828622428168e-15), np.float64(3.0319858262914925e-15), np.float64(5.513051608403539e-15), np.float64(1.752898879897962e-14), np.float64(1.5178703123150806e-15), np.float64(6.969130985626456e-15), np.float64(8.169374319465661e-15), np.float64(1.0400560083844366e-14), np.float64(1.577135564510506e-14), np.float64(9.48851372690126e-15), np.float64(3.0892617502789386e-15), np.float64(5.6449497657586495e-15), np.float64(1.8315372337770106e-14), np.float64(1.5509819619471567e-15), np.float64(7.0840526341212404e-15), np.float64(8.310081605951027e-15), np.float64(1.0734381544537372e-14), np.float64(1.6280753078871255e-14), np.float64(9.708551253331949e-15), np.float64(3.1381862516816397e-15), np.float64(5.7292287450065645e-15), np.float64(1.869201610243055e-14), np.float64(1.5369949808900318e-15), np.float64(7.23040518157653e-15), np.float64(8.63690560461394e-15), np.float64(1.1306941384317943e-14), np.float64(1.700506799730338e-14), np.float64(9.887100839625271e-15), np.float64(3.262271143927273e-15), np.float64(6.050247405304283e-15), np.float64(2.0186457117042782e-14), np.float64(1.612822642346305e-15), np.float64(7.394961701678794e-15), np.float64(8.631727386184124e-15), np.float64(1.1517533184519795e-14), np.float64(1.6799461146468187e-14), np.float64(9.962936693681258e-15), np.float64(3.2774748482712964e-15), np.float64(6.107307800119163e-15), np.float64(2.1861749027031078e-14), np.float64(1.6352230739984938e-15), np.float64(7.406751201650996e-15), np.float64(7.868867875543557e-15), np.float64(1.006995652006988e-14), np.float64(1.5389265618752244e-14), np.float64(9.191382239174535e-15), np.float64(2.9912168238630557e-15), np.float64(5.460319971528972e-15), np.float64(1.6759031217192883e-14), np.float64(1.3511193586773125e-15), np.float64(6.865868596554895e-15), np.float64(8.957645234558923e-15), np.float64(1.1639213765458527e-14), np.float64(1.756055107643222e-14), np.float64(1.0360484759706914e-14), np.float64(3.3861373175981634e-15), np.float64(6.283961707580069e-15), np.float64(2.1760170187928713e-14), np.float64(1.697186786071976e-15), np.float64(7.722768008222204e-15), np.float64(8.575399918706408e-15), np.float64(1.1176865015782226e-14), np.float64(1.6534943891635035e-14), np.float64(9.912676914428925e-15), np.float64(3.2335380435651634e-15), np.float64(5.9070782277158636e-15), np.float64(2.070841112011676e-14), np.float64(1.5663155050874401e-15), np.float64(7.366877506399041e-15)]\n",
      "更新初始的权重 [0.00931344 0.00689189 0.00367871 0.00798493 0.01724268 0.01249947\n",
      " 0.00246217 0.02087762 0.01067335 0.00931783 0.00715658 0.00359134\n",
      " 0.00794314 0.01731226 0.01274156 0.00268012 0.02097442 0.01069741\n",
      " 0.00877276 0.00652151 0.0031581  0.00746201 0.01693326 0.01218849\n",
      " 0.00186904 0.02066149 0.01016814 0.00965859 0.00736947 0.0039323\n",
      " 0.00819907 0.01751117 0.01299127 0.00305974 0.02101089 0.01090323\n",
      " 0.0094369  0.00721481 0.00378043 0.00805174 0.01739089 0.0127867\n",
      " 0.00278348 0.02092734 0.01075349 0.00927846 0.00693073 0.00355565\n",
      " 0.00784134 0.0172888  0.01265768 0.00266014 0.0209626  0.01056576\n",
      " 0.00892063 0.00646929 0.00325886 0.00767466 0.01703257 0.01217804\n",
      " 0.0022223  0.02077219 0.0103586  0.00892619 0.0063074  0.0033405\n",
      " 0.00760494 0.01700143 0.0120947  0.00181656 0.02071627 0.01034391\n",
      " 0.0097844  0.00750763 0.00395831 0.00834484 0.01759729 0.01307397\n",
      " 0.00335679 0.02143676 0.01103957 0.00858289 0.00621572 0.00304814\n",
      " 0.00724969 0.01678057 0.01184031 0.0018389  0.02056237 0.00995794\n",
      " 0.0089869  0.00657135 0.00344854 0.00765107 0.01709156 0.01238966\n",
      " 0.00208701 0.02088876 0.01039366]\n",
      "tt [np.float64(2.939142278117306e-13), np.float64(2.993195237855247e-13), np.float64(2.3555744572300165e-13), np.float64(1.0170426083241601e-13), np.float64(5.481723553434468e-14), np.float64(1.7216536159156577e-13), np.float64(9.565253104164604e-13), np.float64(9.485751599206152e-15), np.float64(1.2456353442670696e-13), np.float64(4.1893058084676565e-13), np.float64(4.3822590620311445e-13), np.float64(2.8386735365033155e-13), np.float64(1.4548961572585308e-13), np.float64(9.023426174407734e-14), np.float64(2.8042676850564573e-13), np.float64(1.2725392369693553e-12), np.float64(1.0832587721247903e-14), np.float64(1.006946850938801e-13), np.float64(2.8316847167877515e-13)]\n",
      "新一轮的权重为： [2.47059722e-15 4.71819062e-09 3.43646399e-25 9.99969828e-01\n",
      " 3.01368476e-05 3.08893945e-08 1.79579201e-22 3.20138104e-31\n",
      " 1.61364520e-50 1.31670681e-50 4.21183400e-55 4.54186411e-57\n",
      " 1.75545056e-57 4.18223514e-53 2.37378428e-32 2.30610881e-59\n",
      " 2.79119397e-57 5.19622865e-29 2.77200232e-19]\n",
      "损失函数值： 0.3776911336997828 loss1： 1.0170285091416817e-13 loss2： 0.3776911336996811 loss3： 2.862936405853504e-18\n",
      "一共迭代了1次\n",
      "查询数据集的形状为(1604, 19003)\n",
      "标签个数 9\n",
      "概率矩阵的形状(1604, 9)\n",
      "The annotation accuracy of Chromium is (np.float64(0.8946384039900249), np.float64(0.8341645885286783))\n",
      "阈值为：0.8, The annotation accuracy of Chromium is (np.float64(0.8946384039900249), np.float64(0.8703241895261845))\n",
      "Time for data loading is 120.15475940704346\n",
      "precessing 0-th data\n"
     ]
    },
    {
     "name": "stderr",
     "output_type": "stream",
     "text": [
      "/data_ssd/ysQiu/anaconda3/envs/scDOT/lib/python3.12/site-packages/numpy/_core/fromnumeric.py:84: FutureWarning: The behavior of DataFrame.sum with axis=None is deprecated, in a future version this will reduce over both axes and return a scalar. To retain the old behavior, pass axis=0 (or do not pass axis)\n",
      "  return reduction(axis=axis, out=out, **passkwargs)\n",
      "/data_ssd/ysQiu/anaconda3/envs/scDOT/lib/python3.12/site-packages/scanpy/preprocessing/_scale.py:318: UserWarning: Received a view of an AnnData. Making a copy.\n",
      "  view_to_actual(adata)\n"
     ]
    },
    {
     "name": "stdout",
     "output_type": "stream",
     "text": [
      "precessing 1-th data\n"
     ]
    },
    {
     "name": "stderr",
     "output_type": "stream",
     "text": [
      "/data_ssd/ysQiu/anaconda3/envs/scDOT/lib/python3.12/site-packages/scanpy/preprocessing/_scale.py:318: UserWarning: Received a view of an AnnData. Making a copy.\n",
      "  view_to_actual(adata)\n"
     ]
    },
    {
     "name": "stdout",
     "output_type": "stream",
     "text": [
      "precessing 2-th data\n"
     ]
    },
    {
     "name": "stderr",
     "output_type": "stream",
     "text": [
      "/data_ssd/ysQiu/anaconda3/envs/scDOT/lib/python3.12/site-packages/scanpy/preprocessing/_scale.py:318: UserWarning: Received a view of an AnnData. Making a copy.\n",
      "  view_to_actual(adata)\n"
     ]
    },
    {
     "name": "stdout",
     "output_type": "stream",
     "text": [
      "precessing 3-th data\n"
     ]
    },
    {
     "name": "stderr",
     "output_type": "stream",
     "text": [
      "/data_ssd/ysQiu/anaconda3/envs/scDOT/lib/python3.12/site-packages/scanpy/preprocessing/_scale.py:318: UserWarning: Received a view of an AnnData. Making a copy.\n",
      "  view_to_actual(adata)\n"
     ]
    },
    {
     "name": "stdout",
     "output_type": "stream",
     "text": [
      "precessing 4-th data\n"
     ]
    },
    {
     "name": "stderr",
     "output_type": "stream",
     "text": [
      "/data_ssd/ysQiu/anaconda3/envs/scDOT/lib/python3.12/site-packages/scanpy/preprocessing/_scale.py:318: UserWarning: Received a view of an AnnData. Making a copy.\n",
      "  view_to_actual(adata)\n"
     ]
    },
    {
     "name": "stdout",
     "output_type": "stream",
     "text": [
      "precessing 5-th data\n"
     ]
    },
    {
     "name": "stderr",
     "output_type": "stream",
     "text": [
      "/data_ssd/ysQiu/anaconda3/envs/scDOT/lib/python3.12/site-packages/scanpy/preprocessing/_scale.py:318: UserWarning: Received a view of an AnnData. Making a copy.\n",
      "  view_to_actual(adata)\n"
     ]
    },
    {
     "name": "stdout",
     "output_type": "stream",
     "text": [
      "precessing 6-th data\n"
     ]
    },
    {
     "name": "stderr",
     "output_type": "stream",
     "text": [
      "/data_ssd/ysQiu/anaconda3/envs/scDOT/lib/python3.12/site-packages/scanpy/preprocessing/_scale.py:318: UserWarning: Received a view of an AnnData. Making a copy.\n",
      "  view_to_actual(adata)\n"
     ]
    },
    {
     "name": "stdout",
     "output_type": "stream",
     "text": [
      "precessing 7-th data\n"
     ]
    },
    {
     "name": "stderr",
     "output_type": "stream",
     "text": [
      "/data_ssd/ysQiu/anaconda3/envs/scDOT/lib/python3.12/site-packages/scanpy/preprocessing/_scale.py:318: UserWarning: Received a view of an AnnData. Making a copy.\n",
      "  view_to_actual(adata)\n"
     ]
    },
    {
     "name": "stdout",
     "output_type": "stream",
     "text": [
      "precessing 8-th data\n"
     ]
    },
    {
     "name": "stderr",
     "output_type": "stream",
     "text": [
      "/data_ssd/ysQiu/anaconda3/envs/scDOT/lib/python3.12/site-packages/scanpy/preprocessing/_scale.py:318: UserWarning: Received a view of an AnnData. Making a copy.\n",
      "  view_to_actual(adata)\n"
     ]
    },
    {
     "name": "stdout",
     "output_type": "stream",
     "text": [
      "precessing 9-th data\n"
     ]
    },
    {
     "name": "stderr",
     "output_type": "stream",
     "text": [
      "/data_ssd/ysQiu/anaconda3/envs/scDOT/lib/python3.12/site-packages/scanpy/preprocessing/_scale.py:318: UserWarning: Received a view of an AnnData. Making a copy.\n",
      "  view_to_actual(adata)\n"
     ]
    },
    {
     "name": "stdout",
     "output_type": "stream",
     "text": [
      "precessing 10-th data\n"
     ]
    },
    {
     "name": "stderr",
     "output_type": "stream",
     "text": [
      "/data_ssd/ysQiu/anaconda3/envs/scDOT/lib/python3.12/site-packages/scanpy/preprocessing/_scale.py:318: UserWarning: Received a view of an AnnData. Making a copy.\n",
      "  view_to_actual(adata)\n"
     ]
    },
    {
     "name": "stdout",
     "output_type": "stream",
     "text": [
      "precessing 11-th data\n"
     ]
    },
    {
     "name": "stderr",
     "output_type": "stream",
     "text": [
      "/data_ssd/ysQiu/anaconda3/envs/scDOT/lib/python3.12/site-packages/scanpy/preprocessing/_scale.py:318: UserWarning: Received a view of an AnnData. Making a copy.\n",
      "  view_to_actual(adata)\n"
     ]
    },
    {
     "name": "stdout",
     "output_type": "stream",
     "text": [
      "-------------------------------\n",
      "单个标签的运输成本矩阵形状 (1, 1604)\n",
      "单个标签的运输成本矩阵形状 (1, 1604)\n",
      "单个标签的运输成本矩阵形状 (1, 1604)\n",
      "单个标签的运输成本矩阵形状 (1, 1604)\n",
      "单个标签的运输成本矩阵形状 (1, 1604)\n",
      "单个标签的运输成本矩阵形状 (1, 1604)\n",
      "单个标签的运输成本矩阵形状 (1, 1604)\n",
      "单个标签的运输成本矩阵形状 (1, 1604)\n",
      "单个标签的运输成本矩阵形状 (1, 1604)\n",
      "-------------------------------\n",
      "单个标签的运输成本矩阵形状 (1, 1604)\n",
      "单个标签的运输成本矩阵形状 (1, 1604)\n",
      "单个标签的运输成本矩阵形状 (1, 1604)\n",
      "单个标签的运输成本矩阵形状 (1, 1604)\n",
      "单个标签的运输成本矩阵形状 (1, 1604)\n",
      "单个标签的运输成本矩阵形状 (1, 1604)\n",
      "单个标签的运输成本矩阵形状 (1, 1604)\n",
      "单个标签的运输成本矩阵形状 (1, 1604)\n",
      "单个标签的运输成本矩阵形状 (1, 1604)\n",
      "-------------------------------\n",
      "单个标签的运输成本矩阵形状 (1, 1604)\n",
      "单个标签的运输成本矩阵形状 (1, 1604)\n",
      "单个标签的运输成本矩阵形状 (1, 1604)\n",
      "单个标签的运输成本矩阵形状 (1, 1604)\n",
      "单个标签的运输成本矩阵形状 (1, 1604)\n",
      "单个标签的运输成本矩阵形状 (1, 1604)\n",
      "单个标签的运输成本矩阵形状 (1, 1604)\n",
      "单个标签的运输成本矩阵形状 (1, 1604)\n",
      "单个标签的运输成本矩阵形状 (1, 1604)\n",
      "-------------------------------\n",
      "单个标签的运输成本矩阵形状 (1, 1604)\n",
      "单个标签的运输成本矩阵形状 (1, 1604)\n",
      "单个标签的运输成本矩阵形状 (1, 1604)\n",
      "单个标签的运输成本矩阵形状 (1, 1604)\n",
      "单个标签的运输成本矩阵形状 (1, 1604)\n",
      "单个标签的运输成本矩阵形状 (1, 1604)\n",
      "单个标签的运输成本矩阵形状 (1, 1604)\n",
      "单个标签的运输成本矩阵形状 (1, 1604)\n",
      "单个标签的运输成本矩阵形状 (1, 1604)\n",
      "-------------------------------\n",
      "单个标签的运输成本矩阵形状 (1, 1604)\n",
      "单个标签的运输成本矩阵形状 (1, 1604)\n",
      "单个标签的运输成本矩阵形状 (1, 1604)\n",
      "单个标签的运输成本矩阵形状 (1, 1604)\n",
      "单个标签的运输成本矩阵形状 (1, 1604)\n",
      "单个标签的运输成本矩阵形状 (1, 1604)\n",
      "单个标签的运输成本矩阵形状 (1, 1604)\n",
      "单个标签的运输成本矩阵形状 (1, 1604)\n",
      "单个标签的运输成本矩阵形状 (1, 1604)\n",
      "-------------------------------\n",
      "单个标签的运输成本矩阵形状 (1, 1604)\n",
      "单个标签的运输成本矩阵形状 (1, 1604)\n",
      "单个标签的运输成本矩阵形状 (1, 1604)\n",
      "单个标签的运输成本矩阵形状 (1, 1604)\n",
      "单个标签的运输成本矩阵形状 (1, 1604)\n",
      "单个标签的运输成本矩阵形状 (1, 1604)\n",
      "单个标签的运输成本矩阵形状 (1, 1604)\n",
      "单个标签的运输成本矩阵形状 (1, 1604)\n",
      "单个标签的运输成本矩阵形状 (1, 1604)\n",
      "-------------------------------\n",
      "单个标签的运输成本矩阵形状 (1, 1604)\n",
      "单个标签的运输成本矩阵形状 (1, 1604)\n",
      "单个标签的运输成本矩阵形状 (1, 1604)\n",
      "单个标签的运输成本矩阵形状 (1, 1604)\n",
      "单个标签的运输成本矩阵形状 (1, 1604)\n",
      "单个标签的运输成本矩阵形状 (1, 1604)\n",
      "单个标签的运输成本矩阵形状 (1, 1604)\n",
      "单个标签的运输成本矩阵形状 (1, 1604)\n",
      "单个标签的运输成本矩阵形状 (1, 1604)\n",
      "-------------------------------\n",
      "单个标签的运输成本矩阵形状 (1, 1604)\n",
      "单个标签的运输成本矩阵形状 (1, 1604)\n",
      "单个标签的运输成本矩阵形状 (1, 1604)\n",
      "单个标签的运输成本矩阵形状 (1, 1604)\n",
      "单个标签的运输成本矩阵形状 (1, 1604)\n",
      "单个标签的运输成本矩阵形状 (1, 1604)\n",
      "单个标签的运输成本矩阵形状 (1, 1604)\n",
      "单个标签的运输成本矩阵形状 (1, 1604)\n",
      "单个标签的运输成本矩阵形状 (1, 1604)\n",
      "-------------------------------\n",
      "单个标签的运输成本矩阵形状 (1, 1604)\n",
      "单个标签的运输成本矩阵形状 (1, 1604)\n",
      "单个标签的运输成本矩阵形状 (1, 1604)\n",
      "单个标签的运输成本矩阵形状 (1, 1604)\n",
      "单个标签的运输成本矩阵形状 (1, 1604)\n",
      "单个标签的运输成本矩阵形状 (1, 1604)\n",
      "单个标签的运输成本矩阵形状 (1, 1604)\n",
      "单个标签的运输成本矩阵形状 (1, 1604)\n",
      "单个标签的运输成本矩阵形状 (1, 1604)\n",
      "-------------------------------\n",
      "单个标签的运输成本矩阵形状 (1, 1604)\n",
      "单个标签的运输成本矩阵形状 (1, 1604)\n",
      "单个标签的运输成本矩阵形状 (1, 1604)\n",
      "单个标签的运输成本矩阵形状 (1, 1604)\n",
      "单个标签的运输成本矩阵形状 (1, 1604)\n",
      "单个标签的运输成本矩阵形状 (1, 1604)\n",
      "单个标签的运输成本矩阵形状 (1, 1604)\n",
      "单个标签的运输成本矩阵形状 (1, 1604)\n",
      "单个标签的运输成本矩阵形状 (1, 1604)\n",
      "-------------------------------\n",
      "单个标签的运输成本矩阵形状 (1, 1604)\n",
      "单个标签的运输成本矩阵形状 (1, 1604)\n",
      "单个标签的运输成本矩阵形状 (1, 1604)\n",
      "单个标签的运输成本矩阵形状 (1, 1604)\n",
      "单个标签的运输成本矩阵形状 (1, 1604)\n",
      "单个标签的运输成本矩阵形状 (1, 1604)\n",
      "单个标签的运输成本矩阵形状 (1, 1604)\n",
      "单个标签的运输成本矩阵形状 (1, 1604)\n",
      "第1个运输成本矩阵的形状为：(1604, 9)\n",
      "第2个运输成本矩阵的形状为：(1604, 9)\n",
      "第3个运输成本矩阵的形状为：(1604, 9)\n",
      "第4个运输成本矩阵的形状为：(1604, 9)\n",
      "第5个运输成本矩阵的形状为：(1604, 9)\n",
      "第6个运输成本矩阵的形状为：(1604, 9)\n",
      "第7个运输成本矩阵的形状为：(1604, 9)\n",
      "第8个运输成本矩阵的形状为：(1604, 9)\n",
      "第9个运输成本矩阵的形状为：(1604, 9)\n",
      "第10个运输成本矩阵的形状为：(1604, 9)\n",
      "第11个运输成本矩阵的形状为：(1604, 9)\n",
      "更新初始的权重 [0.08888552 0.09538292 0.08297939 0.10315192 0.09896425 0.09661016\n",
      " 0.08317578 0.07707023 0.10702346 0.07896498 0.0877914 ]\n",
      "tt [np.float64(1.0059515924036386e-10), np.float64(9.349814462523959e-11), np.float64(1.0751178554931737e-10), np.float64(8.562120987676901e-11), np.float64(8.979029736037231e-11), np.float64(9.221210001703774e-11), np.float64(1.0727398224715872e-10), np.float64(1.1494326415560414e-10), np.float64(8.191475589931884e-11), np.float64(1.125000676736236e-10), np.float64(1.0184110767173743e-10)]\n",
      "新一轮的权重为： [0.08888552 0.09538292 0.08297939 0.10315192 0.09896425 0.09661016\n",
      " 0.08317578 0.07707023 0.10702346 0.07896498 0.0877914 ]\n",
      "损失函数值： 0.3760268667526234 loss1： 9.777992846017627e-11 loss2： 0.37602686689550935 loss3： -2.4066589773539516e-10\n",
      "tt [np.float64(1.3536553307060544e-10), np.float64(1.2564356746908434e-10), np.float64(1.4487740800727634e-10), np.float64(1.1496621413877038e-10), np.float64(1.206554332494996e-10), np.float64(1.240308716677562e-10), np.float64(1.4442065141940533e-10), np.float64(1.5488840642619842e-10), np.float64(1.0992184675300874e-10), np.float64(1.5157069831027814e-10), np.float64(1.3710535139765668e-10)]\n",
      "新一轮的权重为： [0.08793401 0.09685656 0.08000032 0.10770251 0.10178038 0.09842183\n",
      " 0.08036439 0.0724222  0.11324098 0.07485057 0.08642624]\n",
      "损失函数值： 0.3755325801632233 loss1： 1.3099867681163507e-10 loss2： 0.37553258027242153 loss3： -2.4019694122220363e-10\n",
      "tt [np.float64(8.278805746416384e-15), np.float64(1.0781083122588492e-14), np.float64(1.599801361350268e-14), np.float64(9.557753159312744e-15), np.float64(3.1603852924795864e-15), np.float64(5.833753940023148e-15), np.float64(1.933468554122194e-14), np.float64(1.570749144623301e-15), np.float64(7.146215472660581e-15), np.float64(8.274894631164586e-15), np.float64(1.0467901963054855e-14), np.float64(1.619775299687203e-14), np.float64(9.601353282079124e-15), np.float64(3.1269189982499954e-15), np.float64(5.674338367671855e-15), np.float64(1.8629831968234695e-14), np.float64(1.5323088567392756e-15), np.float64(7.127504970715967e-15), np.float64(8.775812955974826e-15), np.float64(1.1240122130672581e-14), np.float64(1.726606325920728e-14), np.float64(1.0120598822134561e-14), np.float64(3.310864822051556e-15), np.float64(6.043114483818399e-15), np.float64(2.162508443347045e-14), np.float64(1.6572251795884621e-15), np.float64(7.54917579524693e-15), np.float64(7.97641083313231e-15), np.float64(1.0224300339428199e-14), np.float64(1.5444048114029095e-14), np.float64(9.337828622428168e-15), np.float64(3.0319858262914925e-15), np.float64(5.513051608403539e-15), np.float64(1.752898879897962e-14), np.float64(1.5178703123150806e-15), np.float64(6.969130985626456e-15), np.float64(8.169374319465661e-15), np.float64(1.0400560083844366e-14), np.float64(1.577135564510506e-14), np.float64(9.48851372690126e-15), np.float64(3.0892617502789386e-15), np.float64(5.6449497657586495e-15), np.float64(1.8315372337770106e-14), np.float64(1.5509819619471567e-15), np.float64(7.0840526341212404e-15), np.float64(8.310081605951027e-15), np.float64(1.0734381544537372e-14), np.float64(1.6280753078871255e-14), np.float64(9.708551253331949e-15), np.float64(3.1381862516816397e-15), np.float64(5.7292287450065645e-15), np.float64(1.869201610243055e-14), np.float64(1.5369949808900318e-15), np.float64(7.23040518157653e-15), np.float64(8.63690560461394e-15), np.float64(1.1306941384317943e-14), np.float64(1.700506799730338e-14), np.float64(9.887100839625271e-15), np.float64(3.262271143927273e-15), np.float64(6.050247405304283e-15), np.float64(2.0186457117042782e-14), np.float64(1.612822642346305e-15), np.float64(7.394961701678794e-15), np.float64(8.631727386184124e-15), np.float64(1.1517533184519795e-14), np.float64(1.6799461146468187e-14), np.float64(9.962936693681258e-15), np.float64(3.2774748482712964e-15), np.float64(6.107307800119163e-15), np.float64(2.1861749027031078e-14), np.float64(1.6352230739984938e-15), np.float64(7.406751201650996e-15), np.float64(7.868867875543557e-15), np.float64(1.006995652006988e-14), np.float64(1.5389265618752244e-14), np.float64(9.191382239174535e-15), np.float64(2.9912168238630557e-15), np.float64(5.460319971528972e-15), np.float64(1.6759031217192883e-14), np.float64(1.3511193586773125e-15), np.float64(6.865868596554895e-15), np.float64(8.957645234558923e-15), np.float64(1.1639213765458527e-14), np.float64(1.756055107643222e-14), np.float64(1.0360484759706914e-14), np.float64(3.3861373175981634e-15), np.float64(6.283961707580069e-15), np.float64(2.1760170187928713e-14), np.float64(1.697186786071976e-15), np.float64(7.722768008222204e-15), np.float64(8.575399918706408e-15), np.float64(1.1176865015782226e-14), np.float64(1.6534943891635035e-14), np.float64(9.912676914428925e-15), np.float64(3.2335380435651634e-15), np.float64(5.9070782277158636e-15), np.float64(2.070841112011676e-14), np.float64(1.5663155050874401e-15), np.float64(7.366877506399041e-15)]\n",
      "更新初始的权重 [0.00931344 0.00689189 0.00367871 0.00798493 0.01724268 0.01249947\n",
      " 0.00246217 0.02087762 0.01067335 0.00931783 0.00715658 0.00359134\n",
      " 0.00794314 0.01731226 0.01274156 0.00268012 0.02097442 0.01069741\n",
      " 0.00877276 0.00652151 0.0031581  0.00746201 0.01693326 0.01218849\n",
      " 0.00186904 0.02066149 0.01016814 0.00965859 0.00736947 0.0039323\n",
      " 0.00819907 0.01751117 0.01299127 0.00305974 0.02101089 0.01090323\n",
      " 0.0094369  0.00721481 0.00378043 0.00805174 0.01739089 0.0127867\n",
      " 0.00278348 0.02092734 0.01075349 0.00927846 0.00693073 0.00355565\n",
      " 0.00784134 0.0172888  0.01265768 0.00266014 0.0209626  0.01056576\n",
      " 0.00892063 0.00646929 0.00325886 0.00767466 0.01703257 0.01217804\n",
      " 0.0022223  0.02077219 0.0103586  0.00892619 0.0063074  0.0033405\n",
      " 0.00760494 0.01700143 0.0120947  0.00181656 0.02071627 0.01034391\n",
      " 0.0097844  0.00750763 0.00395831 0.00834484 0.01759729 0.01307397\n",
      " 0.00335679 0.02143676 0.01103957 0.00858289 0.00621572 0.00304814\n",
      " 0.00724969 0.01678057 0.01184031 0.0018389  0.02056237 0.00995794\n",
      " 0.0089869  0.00657135 0.00344854 0.00765107 0.01709156 0.01238966\n",
      " 0.00208701 0.02088876 0.01039366]\n",
      "tt [np.float64(2.939142278117306e-13), np.float64(2.993195237855247e-13), np.float64(2.3555744572300165e-13), np.float64(1.0170426083241601e-13), np.float64(5.481723553434468e-14), np.float64(1.7216536159156577e-13), np.float64(9.565253104164604e-13), np.float64(9.485751599206152e-15), np.float64(1.2456353442670696e-13), np.float64(4.1893058084676565e-13), np.float64(4.3822590620311445e-13), np.float64(2.8386735365033155e-13), np.float64(1.4548961572585308e-13), np.float64(9.023426174407734e-14), np.float64(2.8042676850564573e-13), np.float64(1.2725392369693553e-12), np.float64(1.0832587721247903e-14), np.float64(1.006946850938801e-13), np.float64(2.8316847167877515e-13)]\n",
      "新一轮的权重为： [2.47059722e-15 4.71819062e-09 3.43646399e-25 9.99969828e-01\n",
      " 3.01368476e-05 3.08893945e-08 1.79579201e-22 3.20138104e-31\n",
      " 1.61364520e-50 1.31670681e-50 4.21183400e-55 4.54186411e-57\n",
      " 1.75545056e-57 4.18223514e-53 2.37378428e-32 2.30610881e-59\n",
      " 2.79119397e-57 5.19622865e-29 2.77200232e-19]\n",
      "损失函数值： 0.3776911336997828 loss1： 1.0170285091416817e-13 loss2： 0.3776911336996811 loss3： 2.862936405853504e-18\n",
      "一共迭代了1次\n",
      "查询数据集的形状为(1604, 19003)\n",
      "标签个数 9\n",
      "概率矩阵的形状(1604, 9)\n",
      "The annotation accuracy of Chromium is (np.float64(0.8946384039900249), np.float64(0.7980049875311721))\n",
      "阈值为：0.9, The annotation accuracy of Chromium is (np.float64(0.8946384039900249), np.float64(0.8697007481296758))\n"
     ]
    }
   ],
   "source": [
    "threshold: float\n",
    "for threshold in range(1, 10):\n",
    "    threshold /= 10\n",
    "    M, x, y_hat, score, y_hat_with_unseen = scDOT(\n",
    "                                                loc=\"/data_ssd/ysQiu/TanWeiqiang/scDOT/datasets/pbmc/pbmc/\",\n",
    "                                                # loc = \"/data_ssd/ysQiu/TanWeiqiang/mtANN/pancreas/\",\n",
    "                                                ref_name=ref_name, \n",
    "                                                query_name=query_name,\n",
    "                                                threshold=threshold\n",
    "                                            )\n",
    "    \n",
    "    file_name = \"/data_ssd/ysQiu/TanWeiqiang/scDOT/datasets/pbmc/pbmc/\" + f\"{query_name}_label.csv\"\n",
    "    # file_name = \"/data_ssd/ysQiu/TanWeiqiang/mtANN/pancreas/\" + f\"{query_name}_label.csv\"\n",
    "    y_true = pd.read_csv(filepath_or_buffer=file_name, header=0, index_col=0).iloc[:,0].values # 原数据集用\n",
    "    # y_true = pd.read_csv(filepath_or_buffer=file_name, header=0, index_col=False).iloc[:,0].values # 换数据集用\n",
    "    accuracy1 = np.sum(y_hat == y_true) / y_true.shape[0]\n",
    "    accuracy2 = np.sum(y_hat_with_unseen == y_true) / y_true.shape[0]\n",
    "    print(f\"The annotation accuracy of {query_name} is {accuracy1, accuracy2}\")\n",
    "\n",
    "    from sklearn.cluster import KMeans\n",
    "    # import numpy as np\n",
    "    import collections\n",
    "\n",
    "    n: int = len(set(y_hat_with_unseen))\n",
    "\n",
    "    y_pred: np.ndarray = y_true.copy()\n",
    "    # 应用 K-means 算法\n",
    "    kmeans = KMeans(n_clusters=n, random_state=314)\n",
    "    kmeans.fit(X=x)\n",
    "    y_kmeans = kmeans.labels_\n",
    "\n",
    "    # 对于每个簇，统计每个实际类型出现的次数\n",
    "    for cluster_id in range(n):\n",
    "        # 获取当前簇的所有样本索引\n",
    "        cluster_samples = np.where(y_kmeans == cluster_id)[0]\n",
    "        # 获取这些样本的实际类型\n",
    "        cluster_labels = y_hat_with_unseen[cluster_samples]\n",
    "        \n",
    "        # 统计每个类型出现的次数\n",
    "        label_counts = collections.Counter(cluster_labels)\n",
    "        \n",
    "        # 找到出现次数最多的类型\n",
    "        most_common_label = label_counts.most_common(1)[0][0]\n",
    "        \n",
    "        # 将这个类型赋值给簇中的所有样本\n",
    "        y_pred[cluster_samples] = most_common_label\n",
    "\n",
    "    # 此时 y_hat_with_unseen 包含了每个样本根据簇中出现次数最多的实际类型重新分类的结果\n",
    "    res = pd.DataFrame(data={\"pred2\": y_pred, \"pred1\": y_hat_with_unseen, \"true\": y_true})\n",
    "    unseen_res = res[res[\"pred1\"] == \"unseen\"]\n",
    "    # unseen_res = res\n",
    "\n",
    "    accuracy2 = (np.sum(y_hat_with_unseen == y_true) + np.sum(unseen_res['pred2'] == unseen_res['true'])) / y_true.shape[0]\n",
    "    # accuracy2 = np.sum(unseen_res['pred2'] == unseen_res['true']) / y_true.shape[0]\n",
    "    print(f\"阈值为：{threshold}, The annotation accuracy of {query_name} is {accuracy1, accuracy2}\")"
   ]
  },
  {
   "cell_type": "markdown",
   "id": "renewable-bryan",
   "metadata": {},
   "source": [
    "# Run scDOT"
   ]
  },
  {
   "cell_type": "code",
   "execution_count": null,
   "id": "hazardous-tactics",
   "metadata": {},
   "outputs": [
    {
     "name": "stdout",
     "output_type": "stream",
     "text": [
      "Time for data loading is 31.004282474517822\n",
      "precessing 0-th data\n"
     ]
    },
    {
     "name": "stderr",
     "output_type": "stream",
     "text": [
      "/data_ssd/ysQiu/anaconda3/envs/scDOT/lib/python3.12/site-packages/numpy/_core/fromnumeric.py:84: FutureWarning: The behavior of DataFrame.sum with axis=None is deprecated, in a future version this will reduce over both axes and return a scalar. To retain the old behavior, pass axis=0 (or do not pass axis)\n",
      "  return reduction(axis=axis, out=out, **passkwargs)\n",
      "/data_ssd/ysQiu/anaconda3/envs/scDOT/lib/python3.12/site-packages/scanpy/preprocessing/_scale.py:318: UserWarning: Received a view of an AnnData. Making a copy.\n",
      "  view_to_actual(adata)\n"
     ]
    },
    {
     "name": "stdout",
     "output_type": "stream",
     "text": [
      "precessing 1-th data\n"
     ]
    },
    {
     "name": "stderr",
     "output_type": "stream",
     "text": [
      "/data_ssd/ysQiu/anaconda3/envs/scDOT/lib/python3.12/site-packages/scanpy/preprocessing/_scale.py:318: UserWarning: Received a view of an AnnData. Making a copy.\n",
      "  view_to_actual(adata)\n"
     ]
    },
    {
     "name": "stdout",
     "output_type": "stream",
     "text": [
      "precessing 2-th data\n"
     ]
    },
    {
     "name": "stderr",
     "output_type": "stream",
     "text": [
      "/data_ssd/ysQiu/anaconda3/envs/scDOT/lib/python3.12/site-packages/scanpy/preprocessing/_scale.py:318: UserWarning: Received a view of an AnnData. Making a copy.\n",
      "  view_to_actual(adata)\n"
     ]
    },
    {
     "name": "stdout",
     "output_type": "stream",
     "text": [
      "precessing 3-th data\n"
     ]
    },
    {
     "name": "stderr",
     "output_type": "stream",
     "text": [
      "/data_ssd/ysQiu/anaconda3/envs/scDOT/lib/python3.12/site-packages/scanpy/preprocessing/_scale.py:318: UserWarning: Received a view of an AnnData. Making a copy.\n",
      "  view_to_actual(adata)\n"
     ]
    },
    {
     "name": "stdout",
     "output_type": "stream",
     "text": [
      "-------------------------------\n",
      "单个标签的运输成本矩阵形状 (1, 1492)\n",
      "单个标签的运输成本矩阵形状 (1, 1492)\n",
      "单个标签的运输成本矩阵形状 (1, 1492)\n",
      "单个标签的运输成本矩阵形状 (1, 1492)\n",
      "单个标签的运输成本矩阵形状 (1, 1492)\n",
      "单个标签的运输成本矩阵形状 (1, 1492)\n",
      "单个标签的运输成本矩阵形状 (1, 1492)\n",
      "单个标签的运输成本矩阵形状 (1, 1492)\n",
      "单个标签的运输成本矩阵形状 (1, 1492)\n",
      "单个标签的运输成本矩阵形状 (1, 1492)\n",
      "单个标签的运输成本矩阵形状 (1, 1492)\n",
      "单个标签的运输成本矩阵形状 (1, 1492)\n",
      "单个标签的运输成本矩阵形状 (1, 1492)\n",
      "-------------------------------\n",
      "单个标签的运输成本矩阵形状 (1, 1492)\n",
      "单个标签的运输成本矩阵形状 (1, 1492)\n",
      "单个标签的运输成本矩阵形状 (1, 1492)\n",
      "单个标签的运输成本矩阵形状 (1, 1492)\n",
      "单个标签的运输成本矩阵形状 (1, 1492)\n",
      "单个标签的运输成本矩阵形状 (1, 1492)\n",
      "单个标签的运输成本矩阵形状 (1, 1492)\n",
      "单个标签的运输成本矩阵形状 (1, 1492)\n",
      "-------------------------------\n",
      "单个标签的运输成本矩阵形状 (1, 1492)\n",
      "单个标签的运输成本矩阵形状 (1, 1492)\n",
      "单个标签的运输成本矩阵形状 (1, 1492)\n",
      "单个标签的运输成本矩阵形状 (1, 1492)\n",
      "单个标签的运输成本矩阵形状 (1, 1492)\n",
      "单个标签的运输成本矩阵形状 (1, 1492)\n",
      "单个标签的运输成本矩阵形状 (1, 1492)\n",
      "单个标签的运输成本矩阵形状 (1, 1492)\n",
      "第1个运输成本矩阵的形状为：(1492, 15)\n",
      "第2个运输成本矩阵的形状为：(1492, 15)\n",
      "第3个运输成本矩阵的形状为：(1492, 15)\n",
      "更新初始的权重 [0.33058722 0.33171419 0.33769858]\n",
      "tt [np.float64(6.435102287322398e-12), np.float64(6.41327664813696e-12), np.float64(6.298607360238398e-12)]\n",
      "新一轮的权重为： [0.33058722 0.33171419 0.33769858]\n",
      "损失函数值： 0.36718081497109584 loss1： 6.381768269894979e-12 loss2： 0.3671808149717595 loss3： -7.0454240127094475e-12\n",
      "tt [np.float64(6.456596592582068e-12), np.float64(6.434538294938957e-12), np.float64(6.319258866439781e-12)]\n",
      "新一轮的权重为： [0.33056858 0.33170752 0.33772391]\n",
      "损失函数值： 0.3671803035395404 loss1： 6.4028974557579e-12 loss2： 0.36718030354018294 loss3： -7.045420691367541e-12\n",
      "tt [np.float64(4.535843305821039e-15), np.float64(8.93612546642247e-15), np.float64(5.106972252469438e-15), np.float64(1.7159024519038516e-14), np.float64(1.2792743328228359e-14), np.float64(7.492625797097098e-15), np.float64(1.0525624779253992e-14), np.float64(3.5053137221644244e-15), np.float64(1.2879360161101199e-15), np.float64(6.7011662023885926e-15), np.float64(2.2476090053915788e-15), np.float64(1.5183257538726992e-15), np.float64(5.378820775719812e-15), np.float64(3.988970157100087e-15), np.float64(1.0924753047792471e-15), np.float64(4.53584330582104e-15), np.float64(9.020938265655026e-15), np.float64(5.106972252469438e-15), np.float64(1.7210026144852405e-14), np.float64(1.2866975426265097e-14), np.float64(7.55444045378227e-15), np.float64(1.0599202762469263e-14), np.float64(3.5281510139592824e-15), np.float64(1.2879360161101199e-15), np.float64(6.738444642519543e-15), np.float64(2.2476090053915788e-15), np.float64(1.5183257538726992e-15), np.float64(5.378820775719812e-15), np.float64(3.988970157100087e-15), np.float64(1.0924753047792471e-15), np.float64(4.535843305821039e-15), np.float64(8.896229422045642e-15), np.float64(5.106972252469438e-15), np.float64(1.697751059275576e-14), np.float64(1.2689611677725898e-14), np.float64(7.453033458615209e-15), np.float64(1.0470223689989795e-14), np.float64(3.484908756864398e-15), np.float64(1.2879360161101199e-15), np.float64(6.666577304768829e-15), np.float64(2.2476090053915788e-15), np.float64(1.5183257538726992e-15), np.float64(5.378820775719813e-15), np.float64(3.988970157100087e-15), np.float64(1.0924753047792471e-15)]\n",
      "更新初始的权重 [0.0229423  0.00969257 0.02051485 0.00193717 0.00455485 0.0128586\n",
      " 0.00710017 0.02807196 0.04333486 0.01501409 0.03591098 0.04142335\n",
      " 0.01945139 0.02553541 0.04502558 0.0229423  0.00953293 0.02051485\n",
      " 0.00191792 0.00448912 0.01270389 0.00699861 0.02794671 0.04333486\n",
      " 0.01490489 0.03591098 0.04142335 0.01945139 0.02553541 0.04502558\n",
      " 0.0229423  0.00976859 0.02051485 0.00200726 0.00464777 0.01295867\n",
      " 0.00717761 0.02818434 0.04333486 0.01511612 0.03591098 0.04142335\n",
      " 0.01945139 0.02553541 0.04502558]\n",
      "tt [np.float64(6.808393845180789e-15), np.float64(1.3418865991231108e-14), np.float64(8.377561926749505e-15), np.float64(3.182937459501852e-14), np.float64(2.2976520225161352e-14), np.float64(1.2531140387015354e-14), np.float64(1.736669979349553e-14), np.float64(5.7478575539722286e-15), np.float64(2.129300529046582e-15), np.float64(1.1259588954888587e-14), np.float64(3.7017296635998724e-15), np.float64(2.509974587181906e-15), np.float64(8.502441293518858e-15), np.float64(6.559126942356904e-15), np.float64(1.793596228595496e-15), np.float64(7.705449797138235e-15), np.float64(1.5053225025781886e-14)]\n",
      "新一轮的权重为： [0.41389489 0.38254816 0.01209519 0.01450622 0.01216779 0.02466562\n",
      " 0.01972219 0.01371797 0.0151605  0.01156357 0.01063236 0.01325628\n",
      " 0.01100488 0.01072113 0.01209038 0.01170272 0.01055016]\n",
      "损失函数值： 0.3673135137901805 loss1： 1.0194070921308306e-14 loss2： 0.36731351379016214 loss3： 8.17707004619111e-15\n",
      "一共迭代了1次\n",
      "查询数据集的形状为(1492, 10738)\n",
      "标签个数 15\n",
      "概率矩阵的形状(1492, 15)\n"
     ]
    }
   ],
   "source": [
    "M, x, y_hat, score, y_hat_with_unseen = scDOT(\n",
    "                                                # loc=\"/data_ssd/ysQiu/TanWeiqiang/scDOT/datasets/pbmc/pbmc/\",\n",
    "                                                loc = \"/data_ssd/ysQiu/TanWeiqiang/mtANN/pancreas/\",\n",
    "                                                ref_name=ref_name, \n",
    "                                                query_name=query_name\n",
    "                                            )"
   ]
  },
  {
   "cell_type": "code",
   "execution_count": null,
   "id": "bdbc7822",
   "metadata": {},
   "outputs": [
    {
     "data": {
      "text/plain": [
       "array([0.35212508, 0.7921045 , 0.77682162, ..., 0.63517375, 0.58834631,\n",
       "       0.95207708])"
      ]
     },
     "execution_count": 7,
     "metadata": {},
     "output_type": "execute_result"
    }
   ],
   "source": [
    "score"
   ]
  },
  {
   "cell_type": "markdown",
   "id": "republican-hearts",
   "metadata": {},
   "source": [
    "# Evaluation"
   ]
  },
  {
   "cell_type": "code",
   "execution_count": null,
   "id": "average-eugene",
   "metadata": {},
   "outputs": [
    {
     "name": "stdout",
     "output_type": "stream",
     "text": [
      "The annotation accuracy of xin is (np.float64(0.8806970509383378), np.float64(0.6642091152815014))\n"
     ]
    }
   ],
   "source": [
    "# file_name = \"/data_ssd/ysQiu/TanWeiqiang/scDOT/datasets/pbmc/pbmc/\" + f\"{query_name}_label.csv\"\n",
    "file_name = \"/data_ssd/ysQiu/TanWeiqiang/mtANN/pancreas/\" + f\"{query_name}_label.csv\"\n",
    "# y_true = pd.read_csv(filepath_or_buffer=file_name, header=0, index_col=0).iloc[:,0].values # 原数据集用\n",
    "y_true = pd.read_csv(filepath_or_buffer=file_name, header=0, index_col=False).iloc[:,0].values # 换数据集用\n",
    "accuracy1 = np.sum(y_hat == y_true) / y_true.shape[0]\n",
    "accuracy2 = np.sum(y_hat_with_unseen == y_true) / y_true.shape[0]\n",
    "print(f\"The annotation accuracy of {query_name} is {accuracy1, accuracy2}\")"
   ]
  },
  {
   "cell_type": "code",
   "execution_count": null,
   "id": "634d77d7",
   "metadata": {},
   "outputs": [
    {
     "name": "stdout",
     "output_type": "stream",
     "text": [
      "The annotation accuracy of xin is (np.float64(0.8806970509383378), np.float64(0.760053619302949))\n"
     ]
    }
   ],
   "source": [
    "from sklearn.cluster import KMeans\n",
    "# import numpy as np\n",
    "import collections\n",
    "\n",
    "n: int = len(set(y_hat_with_unseen))\n",
    "\n",
    "y_pred: np.ndarray = y_true.copy()\n",
    "# 应用 K-means 算法\n",
    "kmeans = KMeans(n_clusters=n, random_state=314)\n",
    "kmeans.fit(X=x)\n",
    "y_kmeans = kmeans.labels_\n",
    "\n",
    "# 对于每个簇，统计每个实际类型出现的次数\n",
    "for cluster_id in range(n):\n",
    "    # 获取当前簇的所有样本索引\n",
    "    cluster_samples = np.where(y_kmeans == cluster_id)[0]\n",
    "    # 获取这些样本的实际类型\n",
    "    cluster_labels = y_hat_with_unseen[cluster_samples]\n",
    "    \n",
    "    # 统计每个类型出现的次数\n",
    "    label_counts = collections.Counter(cluster_labels)\n",
    "    \n",
    "    # 找到出现次数最多的类型\n",
    "    most_common_label = label_counts.most_common(1)[0][0]\n",
    "    \n",
    "    # 将这个类型赋值给簇中的所有样本\n",
    "    y_pred[cluster_samples] = most_common_label\n",
    "\n",
    "# 此时 y_hat_with_unseen 包含了每个样本根据簇中出现次数最多的实际类型重新分类的结果\n",
    "res = pd.DataFrame(data={\"pred2\": y_pred, \"pred1\": y_hat_with_unseen, \"true\": y_true})\n",
    "unseen_res = res[res[\"pred1\"] == \"unseen\"]\n",
    "# unseen_res = res\n",
    "\n",
    "accuracy2 = (np.sum(y_hat_with_unseen == y_true) + np.sum(unseen_res['pred2'] == unseen_res['true'])) / y_true.shape[0]\n",
    "# accuracy2 = np.sum(unseen_res['pred2'] == unseen_res['true']) / y_true.shape[0]\n",
    "print(f\"The annotation accuracy of {query_name} is {accuracy1, accuracy2}\")"
   ]
  },
  {
   "cell_type": "code",
   "execution_count": null,
   "id": "bae72155",
   "metadata": {},
   "outputs": [
    {
     "data": {
      "text/plain": [
       "0         \n",
       "alpha         511\n",
       "unseen        469\n",
       "beta          370\n",
       "gamma          71\n",
       "delta          39\n",
       "ductal         16\n",
       "acinar         13\n",
       "macrophage      2\n",
       "mast            1\n",
       "Name: count, dtype: int64"
      ]
     },
     "execution_count": 10,
     "metadata": {},
     "output_type": "execute_result"
    }
   ],
   "source": [
    "pd.DataFrame(data=y_hat_with_unseen).value_counts()"
   ]
  },
  {
   "cell_type": "code",
   "execution_count": null,
   "id": "2a3889b5",
   "metadata": {},
   "outputs": [
    {
     "data": {
      "application/vnd.microsoft.datawrangler.viewer.v0+json": {
       "columns": [
        {
         "name": "index",
         "rawType": "int64",
         "type": "integer"
        },
        {
         "name": "pred2",
         "rawType": "object",
         "type": "string"
        },
        {
         "name": "pred1",
         "rawType": "object",
         "type": "string"
        },
        {
         "name": "true",
         "rawType": "object",
         "type": "string"
        }
       ],
       "conversionMethod": "pd.DataFrame",
       "ref": "19aeefbe-a1df-42a1-ad89-cf8aba7b3a61",
       "rows": [
        [
         "0",
         "unseen",
         "unseen",
         "beta"
        ],
        [
         "1",
         "beta",
         "beta",
         "beta"
        ],
        [
         "2",
         "beta",
         "beta",
         "beta"
        ],
        [
         "3",
         "beta",
         "beta",
         "beta"
        ],
        [
         "4",
         "beta",
         "beta",
         "beta"
        ],
        [
         "5",
         "beta",
         "beta",
         "beta"
        ],
        [
         "6",
         "beta",
         "beta",
         "beta"
        ],
        [
         "7",
         "unseen",
         "unseen",
         "beta"
        ],
        [
         "8",
         "beta",
         "beta",
         "beta"
        ],
        [
         "9",
         "beta",
         "beta",
         "beta"
        ],
        [
         "10",
         "beta",
         "beta",
         "beta"
        ],
        [
         "11",
         "beta",
         "beta",
         "beta"
        ],
        [
         "12",
         "beta",
         "beta",
         "beta"
        ],
        [
         "13",
         "beta",
         "unseen",
         "beta"
        ],
        [
         "14",
         "beta",
         "beta",
         "beta"
        ],
        [
         "15",
         "beta",
         "beta",
         "beta"
        ],
        [
         "16",
         "beta",
         "beta",
         "beta"
        ],
        [
         "17",
         "beta",
         "beta",
         "beta"
        ],
        [
         "18",
         "unseen",
         "unseen",
         "beta"
        ],
        [
         "19",
         "beta",
         "beta",
         "beta"
        ],
        [
         "20",
         "beta",
         "beta",
         "beta"
        ],
        [
         "21",
         "unseen",
         "unseen",
         "beta"
        ],
        [
         "22",
         "beta",
         "beta",
         "beta"
        ],
        [
         "23",
         "beta",
         "beta",
         "beta"
        ],
        [
         "24",
         "unseen",
         "unseen",
         "beta"
        ],
        [
         "25",
         "beta",
         "beta",
         "beta"
        ],
        [
         "26",
         "beta",
         "beta",
         "beta"
        ],
        [
         "27",
         "beta",
         "beta",
         "beta"
        ],
        [
         "28",
         "beta",
         "beta",
         "beta"
        ],
        [
         "29",
         "unseen",
         "unseen",
         "beta"
        ],
        [
         "30",
         "beta",
         "beta",
         "beta"
        ],
        [
         "31",
         "beta",
         "beta",
         "beta"
        ],
        [
         "32",
         "beta",
         "beta",
         "beta"
        ],
        [
         "33",
         "beta",
         "beta",
         "beta"
        ],
        [
         "34",
         "beta",
         "beta",
         "beta"
        ],
        [
         "35",
         "beta",
         "beta",
         "beta"
        ],
        [
         "36",
         "beta",
         "beta",
         "beta"
        ],
        [
         "37",
         "beta",
         "beta",
         "beta"
        ],
        [
         "38",
         "beta",
         "beta",
         "beta"
        ],
        [
         "39",
         "beta",
         "beta",
         "beta"
        ],
        [
         "40",
         "beta",
         "beta",
         "beta"
        ],
        [
         "41",
         "beta",
         "beta",
         "beta"
        ],
        [
         "42",
         "beta",
         "beta",
         "beta"
        ],
        [
         "43",
         "beta",
         "beta",
         "beta"
        ],
        [
         "44",
         "beta",
         "unseen",
         "beta"
        ],
        [
         "45",
         "unseen",
         "unseen",
         "beta"
        ],
        [
         "46",
         "unseen",
         "unseen",
         "beta"
        ],
        [
         "47",
         "unseen",
         "unseen",
         "beta"
        ],
        [
         "48",
         "beta",
         "beta",
         "beta"
        ],
        [
         "49",
         "beta",
         "beta",
         "beta"
        ]
       ],
       "shape": {
        "columns": 3,
        "rows": 1492
       }
      },
      "text/html": [
       "<div>\n",
       "<style scoped>\n",
       "    .dataframe tbody tr th:only-of-type {\n",
       "        vertical-align: middle;\n",
       "    }\n",
       "\n",
       "    .dataframe tbody tr th {\n",
       "        vertical-align: top;\n",
       "    }\n",
       "\n",
       "    .dataframe thead th {\n",
       "        text-align: right;\n",
       "    }\n",
       "</style>\n",
       "<table border=\"1\" class=\"dataframe\">\n",
       "  <thead>\n",
       "    <tr style=\"text-align: right;\">\n",
       "      <th></th>\n",
       "      <th>pred2</th>\n",
       "      <th>pred1</th>\n",
       "      <th>true</th>\n",
       "    </tr>\n",
       "  </thead>\n",
       "  <tbody>\n",
       "    <tr>\n",
       "      <th>0</th>\n",
       "      <td>unseen</td>\n",
       "      <td>unseen</td>\n",
       "      <td>beta</td>\n",
       "    </tr>\n",
       "    <tr>\n",
       "      <th>1</th>\n",
       "      <td>beta</td>\n",
       "      <td>beta</td>\n",
       "      <td>beta</td>\n",
       "    </tr>\n",
       "    <tr>\n",
       "      <th>2</th>\n",
       "      <td>beta</td>\n",
       "      <td>beta</td>\n",
       "      <td>beta</td>\n",
       "    </tr>\n",
       "    <tr>\n",
       "      <th>3</th>\n",
       "      <td>beta</td>\n",
       "      <td>beta</td>\n",
       "      <td>beta</td>\n",
       "    </tr>\n",
       "    <tr>\n",
       "      <th>4</th>\n",
       "      <td>beta</td>\n",
       "      <td>beta</td>\n",
       "      <td>beta</td>\n",
       "    </tr>\n",
       "    <tr>\n",
       "      <th>...</th>\n",
       "      <td>...</td>\n",
       "      <td>...</td>\n",
       "      <td>...</td>\n",
       "    </tr>\n",
       "    <tr>\n",
       "      <th>1487</th>\n",
       "      <td>gamma</td>\n",
       "      <td>gamma</td>\n",
       "      <td>gamma</td>\n",
       "    </tr>\n",
       "    <tr>\n",
       "      <th>1488</th>\n",
       "      <td>gamma</td>\n",
       "      <td>gamma</td>\n",
       "      <td>gamma</td>\n",
       "    </tr>\n",
       "    <tr>\n",
       "      <th>1489</th>\n",
       "      <td>unseen</td>\n",
       "      <td>ductal</td>\n",
       "      <td>gamma</td>\n",
       "    </tr>\n",
       "    <tr>\n",
       "      <th>1490</th>\n",
       "      <td>gamma</td>\n",
       "      <td>gamma</td>\n",
       "      <td>gamma</td>\n",
       "    </tr>\n",
       "    <tr>\n",
       "      <th>1491</th>\n",
       "      <td>gamma</td>\n",
       "      <td>gamma</td>\n",
       "      <td>gamma</td>\n",
       "    </tr>\n",
       "  </tbody>\n",
       "</table>\n",
       "<p>1492 rows × 3 columns</p>\n",
       "</div>"
      ],
      "text/plain": [
       "       pred2   pred1   true\n",
       "0     unseen  unseen   beta\n",
       "1       beta    beta   beta\n",
       "2       beta    beta   beta\n",
       "3       beta    beta   beta\n",
       "4       beta    beta   beta\n",
       "...      ...     ...    ...\n",
       "1487   gamma   gamma  gamma\n",
       "1488   gamma   gamma  gamma\n",
       "1489  unseen  ductal  gamma\n",
       "1490   gamma   gamma  gamma\n",
       "1491   gamma   gamma  gamma\n",
       "\n",
       "[1492 rows x 3 columns]"
      ]
     },
     "execution_count": 11,
     "metadata": {},
     "output_type": "execute_result"
    }
   ],
   "source": [
    "res"
   ]
  },
  {
   "cell_type": "code",
   "execution_count": null,
   "id": "a656e428",
   "metadata": {},
   "outputs": [
    {
     "data": {
      "text/plain": [
       "array([0.35212508, 0.7921045 , 0.77682162, ..., 0.63517375, 0.58834631,\n",
       "       0.95207708])"
      ]
     },
     "execution_count": 12,
     "metadata": {},
     "output_type": "execute_result"
    }
   ],
   "source": [
    "score"
   ]
  },
  {
   "cell_type": "code",
   "execution_count": null,
   "id": "5b70d8a1",
   "metadata": {},
   "outputs": [
    {
     "data": {
      "application/vnd.microsoft.datawrangler.viewer.v0+json": {
       "columns": [
        {
         "name": "index",
         "rawType": "int64",
         "type": "integer"
        },
        {
         "name": "pred2",
         "rawType": "object",
         "type": "string"
        },
        {
         "name": "pred1",
         "rawType": "object",
         "type": "string"
        },
        {
         "name": "true",
         "rawType": "object",
         "type": "string"
        }
       ],
       "conversionMethod": "pd.DataFrame",
       "ref": "146ad1ea-3ccc-41b2-af91-a74d8abe0700",
       "rows": [
        [
         "0",
         "unseen",
         "unseen",
         "beta"
        ],
        [
         "7",
         "unseen",
         "unseen",
         "beta"
        ],
        [
         "13",
         "beta",
         "unseen",
         "beta"
        ],
        [
         "18",
         "unseen",
         "unseen",
         "beta"
        ],
        [
         "21",
         "unseen",
         "unseen",
         "beta"
        ],
        [
         "24",
         "unseen",
         "unseen",
         "beta"
        ],
        [
         "29",
         "unseen",
         "unseen",
         "beta"
        ],
        [
         "44",
         "beta",
         "unseen",
         "beta"
        ],
        [
         "45",
         "unseen",
         "unseen",
         "beta"
        ],
        [
         "46",
         "unseen",
         "unseen",
         "beta"
        ],
        [
         "47",
         "unseen",
         "unseen",
         "beta"
        ],
        [
         "50",
         "beta",
         "unseen",
         "beta"
        ],
        [
         "64",
         "beta",
         "unseen",
         "beta"
        ],
        [
         "74",
         "beta",
         "unseen",
         "beta"
        ],
        [
         "75",
         "unseen",
         "unseen",
         "beta"
        ],
        [
         "79",
         "unseen",
         "unseen",
         "beta"
        ],
        [
         "80",
         "unseen",
         "unseen",
         "beta"
        ],
        [
         "94",
         "unseen",
         "unseen",
         "beta"
        ],
        [
         "97",
         "unseen",
         "unseen",
         "beta"
        ],
        [
         "101",
         "beta",
         "unseen",
         "beta"
        ],
        [
         "104",
         "beta",
         "unseen",
         "beta"
        ],
        [
         "105",
         "beta",
         "unseen",
         "beta"
        ],
        [
         "106",
         "beta",
         "unseen",
         "beta"
        ],
        [
         "108",
         "beta",
         "unseen",
         "beta"
        ],
        [
         "109",
         "unseen",
         "unseen",
         "beta"
        ],
        [
         "110",
         "beta",
         "unseen",
         "beta"
        ],
        [
         "111",
         "unseen",
         "unseen",
         "beta"
        ],
        [
         "113",
         "unseen",
         "unseen",
         "beta"
        ],
        [
         "115",
         "beta",
         "unseen",
         "beta"
        ],
        [
         "117",
         "unseen",
         "unseen",
         "beta"
        ],
        [
         "118",
         "beta",
         "unseen",
         "beta"
        ],
        [
         "119",
         "unseen",
         "unseen",
         "beta"
        ],
        [
         "122",
         "beta",
         "unseen",
         "beta"
        ],
        [
         "126",
         "beta",
         "unseen",
         "beta"
        ],
        [
         "130",
         "beta",
         "unseen",
         "beta"
        ],
        [
         "131",
         "beta",
         "unseen",
         "beta"
        ],
        [
         "139",
         "delta",
         "unseen",
         "beta"
        ],
        [
         "152",
         "beta",
         "unseen",
         "beta"
        ],
        [
         "163",
         "unseen",
         "unseen",
         "beta"
        ],
        [
         "167",
         "beta",
         "unseen",
         "beta"
        ],
        [
         "176",
         "beta",
         "unseen",
         "beta"
        ],
        [
         "183",
         "beta",
         "unseen",
         "beta"
        ],
        [
         "194",
         "unseen",
         "unseen",
         "alpha"
        ],
        [
         "195",
         "alpha",
         "unseen",
         "alpha"
        ],
        [
         "196",
         "unseen",
         "unseen",
         "alpha"
        ],
        [
         "197",
         "alpha",
         "unseen",
         "alpha"
        ],
        [
         "199",
         "unseen",
         "unseen",
         "alpha"
        ],
        [
         "200",
         "alpha",
         "unseen",
         "alpha"
        ],
        [
         "201",
         "alpha",
         "unseen",
         "alpha"
        ],
        [
         "202",
         "alpha",
         "unseen",
         "alpha"
        ]
       ],
       "shape": {
        "columns": 3,
        "rows": 469
       }
      },
      "text/html": [
       "<div>\n",
       "<style scoped>\n",
       "    .dataframe tbody tr th:only-of-type {\n",
       "        vertical-align: middle;\n",
       "    }\n",
       "\n",
       "    .dataframe tbody tr th {\n",
       "        vertical-align: top;\n",
       "    }\n",
       "\n",
       "    .dataframe thead th {\n",
       "        text-align: right;\n",
       "    }\n",
       "</style>\n",
       "<table border=\"1\" class=\"dataframe\">\n",
       "  <thead>\n",
       "    <tr style=\"text-align: right;\">\n",
       "      <th></th>\n",
       "      <th>pred2</th>\n",
       "      <th>pred1</th>\n",
       "      <th>true</th>\n",
       "    </tr>\n",
       "  </thead>\n",
       "  <tbody>\n",
       "    <tr>\n",
       "      <th>0</th>\n",
       "      <td>unseen</td>\n",
       "      <td>unseen</td>\n",
       "      <td>beta</td>\n",
       "    </tr>\n",
       "    <tr>\n",
       "      <th>7</th>\n",
       "      <td>unseen</td>\n",
       "      <td>unseen</td>\n",
       "      <td>beta</td>\n",
       "    </tr>\n",
       "    <tr>\n",
       "      <th>13</th>\n",
       "      <td>beta</td>\n",
       "      <td>unseen</td>\n",
       "      <td>beta</td>\n",
       "    </tr>\n",
       "    <tr>\n",
       "      <th>18</th>\n",
       "      <td>unseen</td>\n",
       "      <td>unseen</td>\n",
       "      <td>beta</td>\n",
       "    </tr>\n",
       "    <tr>\n",
       "      <th>21</th>\n",
       "      <td>unseen</td>\n",
       "      <td>unseen</td>\n",
       "      <td>beta</td>\n",
       "    </tr>\n",
       "    <tr>\n",
       "      <th>...</th>\n",
       "      <td>...</td>\n",
       "      <td>...</td>\n",
       "      <td>...</td>\n",
       "    </tr>\n",
       "    <tr>\n",
       "      <th>1453</th>\n",
       "      <td>unseen</td>\n",
       "      <td>unseen</td>\n",
       "      <td>gamma</td>\n",
       "    </tr>\n",
       "    <tr>\n",
       "      <th>1454</th>\n",
       "      <td>gamma</td>\n",
       "      <td>unseen</td>\n",
       "      <td>gamma</td>\n",
       "    </tr>\n",
       "    <tr>\n",
       "      <th>1455</th>\n",
       "      <td>unseen</td>\n",
       "      <td>unseen</td>\n",
       "      <td>gamma</td>\n",
       "    </tr>\n",
       "    <tr>\n",
       "      <th>1461</th>\n",
       "      <td>unseen</td>\n",
       "      <td>unseen</td>\n",
       "      <td>gamma</td>\n",
       "    </tr>\n",
       "    <tr>\n",
       "      <th>1465</th>\n",
       "      <td>unseen</td>\n",
       "      <td>unseen</td>\n",
       "      <td>gamma</td>\n",
       "    </tr>\n",
       "  </tbody>\n",
       "</table>\n",
       "<p>469 rows × 3 columns</p>\n",
       "</div>"
      ],
      "text/plain": [
       "       pred2   pred1   true\n",
       "0     unseen  unseen   beta\n",
       "7     unseen  unseen   beta\n",
       "13      beta  unseen   beta\n",
       "18    unseen  unseen   beta\n",
       "21    unseen  unseen   beta\n",
       "...      ...     ...    ...\n",
       "1453  unseen  unseen  gamma\n",
       "1454   gamma  unseen  gamma\n",
       "1455  unseen  unseen  gamma\n",
       "1461  unseen  unseen  gamma\n",
       "1465  unseen  unseen  gamma\n",
       "\n",
       "[469 rows x 3 columns]"
      ]
     },
     "execution_count": 13,
     "metadata": {},
     "output_type": "execute_result"
    }
   ],
   "source": [
    "unseen_res"
   ]
  },
  {
   "cell_type": "code",
   "execution_count": null,
   "id": "71620d1a",
   "metadata": {},
   "outputs": [],
   "source": [
    "def pred(pred1: str, pred2: str) -> str:\n",
    "    return pred1 if pred1 != \"unseen\" else pred2\n"
   ]
  },
  {
   "cell_type": "code",
   "execution_count": null,
   "id": "2cbc95ab",
   "metadata": {},
   "outputs": [
    {
     "name": "stderr",
     "output_type": "stream",
     "text": [
      "/tmp/ipykernel_19990/1751349001.py:1: FutureWarning: Series.__getitem__ treating keys as positions is deprecated. In a future version, integer keys will always be treated as labels (consistent with DataFrame behavior). To access a value by position, use `ser.iloc[pos]`\n",
      "  res[\"pred\"] = res.apply(func=lambda x: pred(pred1=x[1], pred2=x[0]), axis=1)\n"
     ]
    }
   ],
   "source": [
    "res[\"pred\"] = res.apply(func=lambda x: pred(pred1=x[1], pred2=x[0]), axis=1)"
   ]
  },
  {
   "cell_type": "code",
   "execution_count": null,
   "id": "f98ea361",
   "metadata": {},
   "outputs": [
    {
     "data": {
      "application/vnd.microsoft.datawrangler.viewer.v0+json": {
       "columns": [
        {
         "name": "index",
         "rawType": "int64",
         "type": "integer"
        },
        {
         "name": "pred2",
         "rawType": "object",
         "type": "string"
        },
        {
         "name": "pred1",
         "rawType": "object",
         "type": "string"
        },
        {
         "name": "true",
         "rawType": "object",
         "type": "string"
        },
        {
         "name": "pred",
         "rawType": "object",
         "type": "string"
        }
       ],
       "conversionMethod": "pd.DataFrame",
       "ref": "22fcd6e5-0f43-4e61-a72f-7d0f90670202",
       "rows": [
        [
         "0",
         "unseen",
         "unseen",
         "beta",
         "unseen"
        ],
        [
         "1",
         "beta",
         "beta",
         "beta",
         "beta"
        ],
        [
         "2",
         "beta",
         "beta",
         "beta",
         "beta"
        ],
        [
         "3",
         "beta",
         "beta",
         "beta",
         "beta"
        ],
        [
         "4",
         "beta",
         "beta",
         "beta",
         "beta"
        ],
        [
         "5",
         "beta",
         "beta",
         "beta",
         "beta"
        ],
        [
         "6",
         "beta",
         "beta",
         "beta",
         "beta"
        ],
        [
         "7",
         "unseen",
         "unseen",
         "beta",
         "unseen"
        ],
        [
         "8",
         "beta",
         "beta",
         "beta",
         "beta"
        ],
        [
         "9",
         "beta",
         "beta",
         "beta",
         "beta"
        ],
        [
         "10",
         "beta",
         "beta",
         "beta",
         "beta"
        ],
        [
         "11",
         "beta",
         "beta",
         "beta",
         "beta"
        ],
        [
         "12",
         "beta",
         "beta",
         "beta",
         "beta"
        ],
        [
         "13",
         "beta",
         "unseen",
         "beta",
         "beta"
        ],
        [
         "14",
         "beta",
         "beta",
         "beta",
         "beta"
        ],
        [
         "15",
         "beta",
         "beta",
         "beta",
         "beta"
        ],
        [
         "16",
         "beta",
         "beta",
         "beta",
         "beta"
        ],
        [
         "17",
         "beta",
         "beta",
         "beta",
         "beta"
        ],
        [
         "18",
         "unseen",
         "unseen",
         "beta",
         "unseen"
        ],
        [
         "19",
         "beta",
         "beta",
         "beta",
         "beta"
        ],
        [
         "20",
         "beta",
         "beta",
         "beta",
         "beta"
        ],
        [
         "21",
         "unseen",
         "unseen",
         "beta",
         "unseen"
        ],
        [
         "22",
         "beta",
         "beta",
         "beta",
         "beta"
        ],
        [
         "23",
         "beta",
         "beta",
         "beta",
         "beta"
        ],
        [
         "24",
         "unseen",
         "unseen",
         "beta",
         "unseen"
        ],
        [
         "25",
         "beta",
         "beta",
         "beta",
         "beta"
        ],
        [
         "26",
         "beta",
         "beta",
         "beta",
         "beta"
        ],
        [
         "27",
         "beta",
         "beta",
         "beta",
         "beta"
        ],
        [
         "28",
         "beta",
         "beta",
         "beta",
         "beta"
        ],
        [
         "29",
         "unseen",
         "unseen",
         "beta",
         "unseen"
        ],
        [
         "30",
         "beta",
         "beta",
         "beta",
         "beta"
        ],
        [
         "31",
         "beta",
         "beta",
         "beta",
         "beta"
        ],
        [
         "32",
         "beta",
         "beta",
         "beta",
         "beta"
        ],
        [
         "33",
         "beta",
         "beta",
         "beta",
         "beta"
        ],
        [
         "34",
         "beta",
         "beta",
         "beta",
         "beta"
        ],
        [
         "35",
         "beta",
         "beta",
         "beta",
         "beta"
        ],
        [
         "36",
         "beta",
         "beta",
         "beta",
         "beta"
        ],
        [
         "37",
         "beta",
         "beta",
         "beta",
         "beta"
        ],
        [
         "38",
         "beta",
         "beta",
         "beta",
         "beta"
        ],
        [
         "39",
         "beta",
         "beta",
         "beta",
         "beta"
        ],
        [
         "40",
         "beta",
         "beta",
         "beta",
         "beta"
        ],
        [
         "41",
         "beta",
         "beta",
         "beta",
         "beta"
        ],
        [
         "42",
         "beta",
         "beta",
         "beta",
         "beta"
        ],
        [
         "43",
         "beta",
         "beta",
         "beta",
         "beta"
        ],
        [
         "44",
         "beta",
         "unseen",
         "beta",
         "beta"
        ],
        [
         "45",
         "unseen",
         "unseen",
         "beta",
         "unseen"
        ],
        [
         "46",
         "unseen",
         "unseen",
         "beta",
         "unseen"
        ],
        [
         "47",
         "unseen",
         "unseen",
         "beta",
         "unseen"
        ],
        [
         "48",
         "beta",
         "beta",
         "beta",
         "beta"
        ],
        [
         "49",
         "beta",
         "beta",
         "beta",
         "beta"
        ]
       ],
       "shape": {
        "columns": 4,
        "rows": 1492
       }
      },
      "text/html": [
       "<div>\n",
       "<style scoped>\n",
       "    .dataframe tbody tr th:only-of-type {\n",
       "        vertical-align: middle;\n",
       "    }\n",
       "\n",
       "    .dataframe tbody tr th {\n",
       "        vertical-align: top;\n",
       "    }\n",
       "\n",
       "    .dataframe thead th {\n",
       "        text-align: right;\n",
       "    }\n",
       "</style>\n",
       "<table border=\"1\" class=\"dataframe\">\n",
       "  <thead>\n",
       "    <tr style=\"text-align: right;\">\n",
       "      <th></th>\n",
       "      <th>pred2</th>\n",
       "      <th>pred1</th>\n",
       "      <th>true</th>\n",
       "      <th>pred</th>\n",
       "    </tr>\n",
       "  </thead>\n",
       "  <tbody>\n",
       "    <tr>\n",
       "      <th>0</th>\n",
       "      <td>unseen</td>\n",
       "      <td>unseen</td>\n",
       "      <td>beta</td>\n",
       "      <td>unseen</td>\n",
       "    </tr>\n",
       "    <tr>\n",
       "      <th>1</th>\n",
       "      <td>beta</td>\n",
       "      <td>beta</td>\n",
       "      <td>beta</td>\n",
       "      <td>beta</td>\n",
       "    </tr>\n",
       "    <tr>\n",
       "      <th>2</th>\n",
       "      <td>beta</td>\n",
       "      <td>beta</td>\n",
       "      <td>beta</td>\n",
       "      <td>beta</td>\n",
       "    </tr>\n",
       "    <tr>\n",
       "      <th>3</th>\n",
       "      <td>beta</td>\n",
       "      <td>beta</td>\n",
       "      <td>beta</td>\n",
       "      <td>beta</td>\n",
       "    </tr>\n",
       "    <tr>\n",
       "      <th>4</th>\n",
       "      <td>beta</td>\n",
       "      <td>beta</td>\n",
       "      <td>beta</td>\n",
       "      <td>beta</td>\n",
       "    </tr>\n",
       "    <tr>\n",
       "      <th>...</th>\n",
       "      <td>...</td>\n",
       "      <td>...</td>\n",
       "      <td>...</td>\n",
       "      <td>...</td>\n",
       "    </tr>\n",
       "    <tr>\n",
       "      <th>1487</th>\n",
       "      <td>gamma</td>\n",
       "      <td>gamma</td>\n",
       "      <td>gamma</td>\n",
       "      <td>gamma</td>\n",
       "    </tr>\n",
       "    <tr>\n",
       "      <th>1488</th>\n",
       "      <td>gamma</td>\n",
       "      <td>gamma</td>\n",
       "      <td>gamma</td>\n",
       "      <td>gamma</td>\n",
       "    </tr>\n",
       "    <tr>\n",
       "      <th>1489</th>\n",
       "      <td>unseen</td>\n",
       "      <td>ductal</td>\n",
       "      <td>gamma</td>\n",
       "      <td>ductal</td>\n",
       "    </tr>\n",
       "    <tr>\n",
       "      <th>1490</th>\n",
       "      <td>gamma</td>\n",
       "      <td>gamma</td>\n",
       "      <td>gamma</td>\n",
       "      <td>gamma</td>\n",
       "    </tr>\n",
       "    <tr>\n",
       "      <th>1491</th>\n",
       "      <td>gamma</td>\n",
       "      <td>gamma</td>\n",
       "      <td>gamma</td>\n",
       "      <td>gamma</td>\n",
       "    </tr>\n",
       "  </tbody>\n",
       "</table>\n",
       "<p>1492 rows × 4 columns</p>\n",
       "</div>"
      ],
      "text/plain": [
       "       pred2   pred1   true    pred\n",
       "0     unseen  unseen   beta  unseen\n",
       "1       beta    beta   beta    beta\n",
       "2       beta    beta   beta    beta\n",
       "3       beta    beta   beta    beta\n",
       "4       beta    beta   beta    beta\n",
       "...      ...     ...    ...     ...\n",
       "1487   gamma   gamma  gamma   gamma\n",
       "1488   gamma   gamma  gamma   gamma\n",
       "1489  unseen  ductal  gamma  ductal\n",
       "1490   gamma   gamma  gamma   gamma\n",
       "1491   gamma   gamma  gamma   gamma\n",
       "\n",
       "[1492 rows x 4 columns]"
      ]
     },
     "execution_count": 16,
     "metadata": {},
     "output_type": "execute_result"
    }
   ],
   "source": [
    "res"
   ]
  },
  {
   "cell_type": "code",
   "execution_count": null,
   "id": "f426ef84",
   "metadata": {},
   "outputs": [
    {
     "data": {
      "text/plain": [
       "0.760053619302949"
      ]
     },
     "execution_count": 17,
     "metadata": {},
     "output_type": "execute_result"
    }
   ],
   "source": [
    "res[res[\"pred\"] == res[\"true\"]].shape[0] / res.shape[0]"
   ]
  },
  {
   "cell_type": "code",
   "execution_count": null,
   "id": "f5678135",
   "metadata": {},
   "outputs": [
    {
     "data": {
      "text/plain": [
       "{'alpha', 'beta', 'delta', 'gamma'}"
      ]
     },
     "execution_count": 18,
     "metadata": {},
     "output_type": "execute_result"
    }
   ],
   "source": [
    "set(res[\"true\"].to_list())"
   ]
  },
  {
   "cell_type": "code",
   "execution_count": null,
   "id": "8831b020",
   "metadata": {},
   "outputs": [
    {
     "data": {
      "text/plain": [
       "{'acinar',\n",
       " 'alpha',\n",
       " 'beta',\n",
       " 'delta',\n",
       " 'ductal',\n",
       " 'gamma',\n",
       " 'macrophage',\n",
       " 'mast',\n",
       " 'unseen'}"
      ]
     },
     "execution_count": 19,
     "metadata": {},
     "output_type": "execute_result"
    }
   ],
   "source": [
    "type_list = set(res[\"pred\"].to_list())\n",
    "# type_list.add(\"Megakaryocytes\")\n",
    "type_list = type_list.union(set(res[\"true\"].to_list()))\n",
    "type_list"
   ]
  },
  {
   "cell_type": "code",
   "execution_count": null,
   "id": "7654dfab",
   "metadata": {},
   "outputs": [],
   "source": [
    "from sklearn.metrics import classification_report, ConfusionMatrixDisplay\n",
    "import matplotlib.pyplot as plt"
   ]
  },
  {
   "cell_type": "code",
   "execution_count": null,
   "id": "eb5611d7",
   "metadata": {},
   "outputs": [
    {
     "name": "stdout",
     "output_type": "stream",
     "text": [
      "              precision    recall  f1-score   support\n",
      "\n",
      "      unseen       0.00      0.00      0.00         0\n",
      "        mast       1.00      0.67      0.81       886\n",
      "       gamma       1.00      0.89      0.94       472\n",
      "      acinar       0.98      0.84      0.90        49\n",
      "       alpha       0.00      0.00      0.00         0\n",
      "      ductal       1.00      0.87      0.93        85\n",
      "       delta       0.00      0.00      0.00         0\n",
      "  macrophage       0.00      0.00      0.00         0\n",
      "        beta       0.00      0.00      0.00         0\n",
      "\n",
      "    accuracy                           0.76      1492\n",
      "   macro avg       0.44      0.36      0.40      1492\n",
      "weighted avg       1.00      0.76      0.86      1492\n",
      "\n"
     ]
    },
    {
     "name": "stderr",
     "output_type": "stream",
     "text": [
      "/data_ssd/ysQiu/anaconda3/envs/scDOT/lib/python3.12/site-packages/sklearn/metrics/_classification.py:1531: UndefinedMetricWarning: Recall is ill-defined and being set to 0.0 in labels with no true samples. Use `zero_division` parameter to control this behavior.\n",
      "  _warn_prf(average, modifier, f\"{metric.capitalize()} is\", len(result))\n",
      "/data_ssd/ysQiu/anaconda3/envs/scDOT/lib/python3.12/site-packages/sklearn/metrics/_classification.py:1531: UndefinedMetricWarning: Recall is ill-defined and being set to 0.0 in labels with no true samples. Use `zero_division` parameter to control this behavior.\n",
      "  _warn_prf(average, modifier, f\"{metric.capitalize()} is\", len(result))\n",
      "/data_ssd/ysQiu/anaconda3/envs/scDOT/lib/python3.12/site-packages/sklearn/metrics/_classification.py:1531: UndefinedMetricWarning: Recall is ill-defined and being set to 0.0 in labels with no true samples. Use `zero_division` parameter to control this behavior.\n",
      "  _warn_prf(average, modifier, f\"{metric.capitalize()} is\", len(result))\n"
     ]
    }
   ],
   "source": [
    "report = classification_report(y_true=res['true'], y_pred=res['pred'], target_names=type_list)\n",
    "print(report)"
   ]
  },
  {
   "cell_type": "code",
   "execution_count": null,
   "id": "08b1fa5d",
   "metadata": {},
   "outputs": [],
   "source": [
    "# pd.DataFrame(data=x).to_csv(path_or_buf='./modified.csv', index=False)\n",
    "# pd.DataFrame(data=M).to_csv(path_or_buf='./cost_modified.csv', index=False)"
   ]
  },
  {
   "cell_type": "code",
   "execution_count": null,
   "id": "d5b18956",
   "metadata": {},
   "outputs": [
    {
     "data": {
      "text/plain": [
       "\"\\n# from sklearn.model_selection import train_test_split\\nfrom sklearn.neighbors import KNeighborsClassifier\\nfrom sklearn.metrics import accuracy_score\\n\\ndata = pd.DataFrame(np.concatenate([x, np.reshape(a=y_hat_with_unseen, newshape=(-1,1)), np.reshape(a=y_true, newshape=(-1,1))], axis=1))\\nn: int = len(set(y_hat_with_unseen))\\nunseen = np.array(data[data[9] == 'unseen'])[:,0:-2]\\ny_test = np.array(data[data[9] == 'unseen'][10])\\n\\n# def custom_distance(x: np.ndarray, y: np.ndarray):\\n#     # 自定义距离\\n#     return 1 - (x @ y) / (np.linalg.norm(x=x) * np.linalg.norm(x=y))\\n\\n# k: int = 1\\n# max_accuracy: float = 0.0\\n# while k <= 200:\\n#     knn = KNeighborsClassifier(n_neighbors=k, metric=custom_distance)\\n#     knn.fit(X=x, y=y_hat_with_unseen)\\n\\n#     y_pred = knn.predict(unseen)\\n\\n#     # 计算准确率\\n#     accuracy = accuracy_score(y_test, y_pred)\\n#     print(f'Accuracy: {accuracy:.2f}', k)\\n#     # if accuracy >= max_accuracy:\\n#     #     max_accuracy = accuracy\\n#     #     k += 1\\n#     #     continue\\n#     # break\\n#     k += 1\\n\""
      ]
     },
     "execution_count": 23,
     "metadata": {},
     "output_type": "execute_result"
    }
   ],
   "source": [
    "'''\n",
    "# from sklearn.model_selection import train_test_split\n",
    "from sklearn.neighbors import KNeighborsClassifier\n",
    "from sklearn.metrics import accuracy_score\n",
    "\n",
    "data = pd.DataFrame(np.concatenate([x, np.reshape(a=y_hat_with_unseen, newshape=(-1,1)), np.reshape(a=y_true, newshape=(-1,1))], axis=1))\n",
    "n: int = len(set(y_hat_with_unseen))\n",
    "unseen = np.array(data[data[9] == 'unseen'])[:,0:-2]\n",
    "y_test = np.array(data[data[9] == 'unseen'][10])\n",
    "\n",
    "# def custom_distance(x: np.ndarray, y: np.ndarray):\n",
    "#     # 自定义距离\n",
    "#     return 1 - (x @ y) / (np.linalg.norm(x=x) * np.linalg.norm(x=y))\n",
    "\n",
    "# k: int = 1\n",
    "# max_accuracy: float = 0.0\n",
    "# while k <= 200:\n",
    "#     knn = KNeighborsClassifier(n_neighbors=k, metric=custom_distance)\n",
    "#     knn.fit(X=x, y=y_hat_with_unseen)\n",
    "\n",
    "#     y_pred = knn.predict(unseen)\n",
    "\n",
    "#     # 计算准确率\n",
    "#     accuracy = accuracy_score(y_test, y_pred)\n",
    "#     print(f'Accuracy: {accuracy:.2f}', k)\n",
    "#     # if accuracy >= max_accuracy:\n",
    "#     #     max_accuracy = accuracy\n",
    "#     #     k += 1\n",
    "#     #     continue\n",
    "#     # break\n",
    "#     k += 1\n",
    "'''"
   ]
  }
 ],
 "metadata": {
  "kernelspec": {
   "display_name": "scDOT",
   "language": "python",
   "name": "python3"
  },
  "language_info": {
   "codemirror_mode": {
    "name": "ipython",
    "version": 3
   },
   "file_extension": ".py",
   "mimetype": "text/x-python",
   "name": "python",
   "nbconvert_exporter": "python",
   "pygments_lexer": "ipython3",
   "version": "3.12.4"
  }
 },
 "nbformat": 4,
 "nbformat_minor": 5
}
